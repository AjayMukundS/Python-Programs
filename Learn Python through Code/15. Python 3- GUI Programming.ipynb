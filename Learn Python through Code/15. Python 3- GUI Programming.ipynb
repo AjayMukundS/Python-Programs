{
 "cells": [
  {
   "cell_type": "markdown",
   "id": "relevant-happening",
   "metadata": {},
   "source": [
    "# Tkinter Programming\n",
    "\n",
    "Tkinter is the standard GUI library for Python. Python when combined with Tkinter provides a fast and easy way to create GUI applications. Tkinter provides a powerful object-oriented interface to the Tk GUI toolkit.\n",
    "\n",
    "Creating a GUI application using Tkinter is an easy task. All you need to do is perform the following steps −\n",
    "\n",
    "* Import the Tkinter module.\n",
    "* Create the GUI application main window.\n",
    "* Add one or more of the above-mentioned widgets to the GUI application.\n",
    "* Enter the main event loop to take action against each event triggered by the user."
   ]
  },
  {
   "cell_type": "code",
   "execution_count": 1,
   "id": "prescribed-niagara",
   "metadata": {},
   "outputs": [],
   "source": [
    "import tkinter"
   ]
  },
  {
   "cell_type": "code",
   "execution_count": 2,
   "id": "naked-hawaii",
   "metadata": {},
   "outputs": [],
   "source": [
    "top = tkinter.Tk()"
   ]
  },
  {
   "cell_type": "code",
   "execution_count": 3,
   "id": "victorian-begin",
   "metadata": {},
   "outputs": [],
   "source": [
    "top.mainloop() # This would create a window"
   ]
  },
  {
   "cell_type": "markdown",
   "id": "prime-lending",
   "metadata": {},
   "source": [
    "# Tkinter Widgets\n",
    "\n",
    "Tkinter provides various controls, such as buttons, labels and text boxes used in a GUI application. These controls are commonly called widgets.\n",
    "\n",
    "There are currently 15 types of widgets in Tkinter.\n",
    "\n",
    "Operator | Description\n",
    "---------|------------\n",
    "Button | The Button widget is used to display the buttons in your application.\n",
    "Canvas | The Canvas widget is used to draw shapes, such as lines, ovals, polygons and rectangles, in your application.\n",
    "Checkbutton | The Checkbutton widget is used to display a number of options as checkboxes. The user can select multiple options at a time.\n",
    "Entry | The Entry widget is used to display a single-line text field for accepting values from a user.\n",
    "Frame | The Frame widget is used as a container widget to organize other widgets.\n",
    "Label | The Label widget is used to provide a single-line caption for other widgets. It can also contain images.\n",
    "Listbox | The Listbox widget is used to provide a list of options to a user.\n",
    "Menubutton | The Menubutton widget is used to display menus in your application.\n",
    "Menu | The Menu widget is used to provide various commands to a user. These commands are contained inside Menubutton.\n",
    "Message | The Message widget is used to display multiline text fields for accepting values from a user.\n",
    "Radiobutton | The Radiobutton widget is used to display a number of options as radio buttons. The user can select only one option at a time.\n",
    "Scale | The Scale widget is used to provide a slider widget.\n",
    "Scrollbar | The Scrollbar widget is used to add scrolling capability to various widgets, such as list boxes.\n",
    "Text | The Text widget is used to display text in multiple lines.\n",
    "Toplevel | The Toplevel widget is used to provide a separate window container.\n",
    "Spinbox | The Spinbox widget is a variant of the standard Tkinter Entry widget, which can be used to select from a fixed number of values.\n",
    "PanedWindow | A PanedWindow is a container widget that may contain any number of panes, arranged horizontally or  vertically.\n",
    "LabelFrame | A labelframe is a simple container widget. Its primary purpose is to act as a spacer or container for complex window layouts.\n",
    "tkMessageBox | This module is used to display the message boxes in your applications."
   ]
  },
  {
   "cell_type": "markdown",
   "id": "assumed-continent",
   "metadata": {},
   "source": [
    "### Tkinter Button\n",
    "\n",
    "The Button widget is used to add buttons in a Python application. These buttons can display text or images that convey the purpose of the buttons. You can attach a function or a method to a button which is called automatically when you click the button.\n",
    "\n",
    "**Syntax** - w = Button ( master, option=value, ... )"
   ]
  },
  {
   "cell_type": "code",
   "execution_count": 4,
   "id": "strange-bouquet",
   "metadata": {},
   "outputs": [],
   "source": [
    "from tkinter import *\n",
    "from tkinter import messagebox\n",
    "top = Tk()\n",
    "top.geometry(\"500x500\") # Size of the Floating window\n",
    "def helloCallBack(): # Called when the button is clicked\n",
    "    msg= messagebox.showinfo( \"Hello Python\", \"Hello World\")\n",
    "B = Button(top, text =\"Hello\", command = helloCallBack)\n",
    "B.place(x= 250,y= 250)\n",
    "top.mainloop()"
   ]
  },
  {
   "cell_type": "markdown",
   "id": "expensive-group",
   "metadata": {},
   "source": [
    "### Tkinter Canvas\n",
    "\n",
    "The Canvas is a rectangular area intended for drawing pictures or other complex layouts. You can place graphics, text, widgets or frames on a Canvas.\n",
    "\n",
    "**Syntax** - w = Canvas ( master, option=value, ... )"
   ]
  },
  {
   "cell_type": "markdown",
   "id": "plastic-attendance",
   "metadata": {},
   "source": [
    "* **arc** - Creates an arc item, which can be a chord, a pieslice or a simple arc.\n",
    "    \n",
    "        coord = 10, 50, 240, 210\n",
    "    \n",
    "        arc = canvas.create_arc(coord, start=0, extent=150, fill=\"blue\")\n",
    "    \n",
    "    \n",
    "* **image** - Creates an image item, which can be an instance of either the BitmapImage or the PhotoImage classes.\n",
    "\n",
    "        filename = PhotoImage(file = \"sunshine.gif\")\n",
    "    \n",
    "        image = canvas.create_image(50, 50, anchor=NE, image=filename)\n",
    "    \n",
    "    \n",
    "* **line** - Creates a line item\n",
    "\n",
    "        line = canvas.create_line(x0, y0, x1, y1, ..., xn, yn, options)\n",
    "    \n",
    "    \n",
    "* **oval** - Creates a circle or an ellipse at the given coordinates. It takes two pairs of coordinates; the top left and bottom right corners of the bounding rectangle for the oval.\n",
    "    \n",
    "        oval = canvas.create_oval(x0, y0, x1, y1, options)\n",
    "\n",
    "\n",
    "* **polygon** - Creates a polygon item that must have at least three vertices.\n",
    "\n",
    "        polygon = canvas.create_polygon(x0, y0, x1, y1,...xn, yn, options) "
   ]
  },
  {
   "cell_type": "code",
   "execution_count": 5,
   "id": "pointed-thickness",
   "metadata": {},
   "outputs": [],
   "source": [
    "from tkinter import *\n",
    "from tkinter import messagebox\n",
    "top = Tk()\n",
    "C = Canvas(top, bg=\"blue\", height=250, width=300)\n",
    "coord = 10, 50, 240, 210\n",
    "arc = C.create_arc(coord, start=0, extent=150, fill=\"red\")\n",
    "line = C.create_line(10,10,200,200,fill='white')\n",
    "C.pack()\n",
    "top.mainloop()"
   ]
  },
  {
   "cell_type": "markdown",
   "id": "chicken-investigation",
   "metadata": {},
   "source": [
    "### Tkinter Checkbutton\n",
    "\n",
    "The Checkbutton widget is used to display a number of options to a user as toggle buttons. The user can then select one or more options by clicking the button corresponding to each option. You can also display images in place of text.\n",
    "\n",
    "**Syntax** - w = Checkbutton ( master, option, ... )"
   ]
  },
  {
   "cell_type": "code",
   "execution_count": 6,
   "id": "worldwide-search",
   "metadata": {},
   "outputs": [],
   "source": [
    "from tkinter import *\n",
    "import tkinter\n",
    "top = Tk()\n",
    "CheckVar1 = IntVar()\n",
    "CheckVar2 = IntVar()\n",
    "C1 = Checkbutton(top, text = \"Music\", variable = CheckVar1, \\\n",
    "                 onvalue = 1, offvalue = 0, height=5, \\\n",
    "                 width = 20, )\n",
    "C2 = Checkbutton(top, text = \"Video\", variable = CheckVar2, \\\n",
    "                 onvalue = 1, offvalue = 0, height=5, \\\n",
    "                 width = 20)\n",
    "C1.pack()\n",
    "C2.pack()\n",
    "top.mainloop()"
   ]
  },
  {
   "cell_type": "markdown",
   "id": "norwegian-holocaust",
   "metadata": {},
   "source": [
    "### Tkinter Entry\n",
    "\n",
    "The Entry widget is used to accept single-line text strings from a user.\n",
    "* If you want to display multiple lines of text that can be edited, then you should use the Text widget.\n",
    "* If you want to display one or more lines of text that cannot be modified by the user, then you should use the Label widget.\n",
    "\n",
    "**Syntax** - w= Entry( master, option, ... )"
   ]
  },
  {
   "cell_type": "code",
   "execution_count": 7,
   "id": "bright-fence",
   "metadata": {},
   "outputs": [],
   "source": [
    "from tkinter import *\n",
    "top = Tk()\n",
    "L1 = Label(top, text=\"User Name\")\n",
    "L1.pack( side = LEFT)\n",
    "E1 = Entry(top, bd =5)\n",
    "E1.pack(side = RIGHT)\n",
    "top.mainloop()"
   ]
  },
  {
   "cell_type": "markdown",
   "id": "pretty-hebrew",
   "metadata": {},
   "source": [
    "### Tkinter Frame\n",
    "\n",
    "The Frame widget is very important for the process of grouping and organizing other widgets in a somehow friendly way. It works like a container, which is responsible for arranging the position of other widgets.\n",
    "\n",
    "It uses rectangular areas in the screen to organize the layout and to provide padding of these widgets. A frame can also be used as a foundation class to implement complex widgets.\n",
    "\n",
    "**Syntax** - w= Frame( master, option, ... )"
   ]
  },
  {
   "cell_type": "code",
   "execution_count": 8,
   "id": "prospective-mother",
   "metadata": {},
   "outputs": [],
   "source": [
    "from tkinter import *\n",
    "\n",
    "root = Tk()\n",
    "frame = Frame(root)\n",
    "frame.pack()\n",
    "\n",
    "bottomframe = Frame(root)\n",
    "bottomframe.pack( side = BOTTOM )\n",
    "\n",
    "redbutton = Button(frame, text=\"Red\", fg=\"red\")\n",
    "redbutton.pack( side = LEFT)\n",
    "\n",
    "greenbutton = Button(frame, text=\"Brown\", fg=\"brown\")\n",
    "greenbutton.pack( side = LEFT )\n",
    "\n",
    "bluebutton = Button(frame, text=\"Blue\", fg=\"blue\")\n",
    "bluebutton.pack( side = LEFT )\n",
    "\n",
    "blackbutton = Button(bottomframe, text=\"Black\", fg=\"black\")\n",
    "blackbutton.pack( side = BOTTOM)\n",
    "\n",
    "root.mainloop()"
   ]
  },
  {
   "cell_type": "markdown",
   "id": "grateful-satellite",
   "metadata": {},
   "source": [
    "### Tkinter Label\n",
    "\n",
    "This widget implements a display box where you can place text or images. The text displayed by this widget can be updated at any time you want.\n",
    "\n",
    "It is also possible to underline part of the text (like to identify a keyboard shortcut) and span the text across multiple lines.\n",
    "\n",
    "**Syntax** - w= Label( master, option, ... )"
   ]
  },
  {
   "cell_type": "code",
   "execution_count": 9,
   "id": "liquid-burlington",
   "metadata": {},
   "outputs": [],
   "source": [
    "from tkinter import *\n",
    "\n",
    "root = Tk()\n",
    "\n",
    "var = StringVar()\n",
    "label = Label( root, textvariable=var, relief=RAISED )\n",
    "\n",
    "var.set(\"Hey!? How are you doing?\")\n",
    "label.pack()\n",
    "root.mainloop()"
   ]
  },
  {
   "cell_type": "markdown",
   "id": "about-animation",
   "metadata": {},
   "source": [
    "### Tkinter Listbox\n",
    "\n",
    "The Listbox widget is used to display a list of items from which a user can select a number of items\n",
    "\n",
    "**Syntax** - w = Listbox ( master, option, ... )"
   ]
  },
  {
   "cell_type": "code",
   "execution_count": 10,
   "id": "colored-passport",
   "metadata": {},
   "outputs": [],
   "source": [
    "from tkinter import *\n",
    "\n",
    "import tkinter\n",
    "\n",
    "top = Tk()\n",
    "\n",
    "Lb1 = Listbox(top)\n",
    "Lb1.insert(1, \"Python\")\n",
    "Lb1.insert(2, \"Perl\")\n",
    "Lb1.insert(3, \"C\")\n",
    "Lb1.insert(4, \"PHP\")\n",
    "Lb1.insert(5, \"JSP\")\n",
    "Lb1.insert(6, \"Ruby\")\n",
    "\n",
    "Lb1.pack()\n",
    "top.mainloop()"
   ]
  },
  {
   "cell_type": "markdown",
   "id": "retained-cancellation",
   "metadata": {},
   "source": [
    "### Tkinter Menubutton\n",
    "\n",
    "A menubutton is the part of a drop-down menu that stays on the screen all the time. Every menubutton is associated with a Menu widget that can display the choices for that menubutton when the user clicks on it.\n",
    "\n",
    "**Syntax** - w = Menubutton ( master, option, ... )"
   ]
  },
  {
   "cell_type": "code",
   "execution_count": 11,
   "id": "liquid-selection",
   "metadata": {},
   "outputs": [],
   "source": [
    "from tkinter import *\n",
    "\n",
    "import tkinter\n",
    "\n",
    "top = Tk()\n",
    "\n",
    "mb= Menubutton ( top, text=\"condiments\", relief=RAISED )\n",
    "\n",
    "mb.grid()\n",
    "mb.menu = Menu ( mb, tearoff = 0 )\n",
    "mb[\"menu\"] = mb.menu\n",
    "\n",
    "mayoVar = IntVar()\n",
    "ketchVar = IntVar()\n",
    "\n",
    "mb.menu.add_checkbutton ( label=\"mayo\", variable=mayoVar )\n",
    "mb.menu.add_checkbutton ( label=\"ketchup\", variable=ketchVar )\n",
    "\n",
    "mb.pack()\n",
    "top.mainloop()"
   ]
  },
  {
   "cell_type": "markdown",
   "id": "regulated-relevance",
   "metadata": {},
   "source": [
    "### Tkinter Menu\n",
    "\n",
    "The goal of this widget is to allow us to create all kinds of menus that can be used by our applications. The core  functionality provides ways to create three menu types: pop-up, toplevel and pull-down.\n",
    "\n",
    "It is also possible to use other extended widgets to implement new types of menus, such as the OptionMenu widget, which implements a special type that generates a pop-up list of items within a selection.\n",
    "\n",
    "**Syntax** - w = Menu ( master, option, ... )"
   ]
  },
  {
   "cell_type": "code",
   "execution_count": 22,
   "id": "imperial-booking",
   "metadata": {},
   "outputs": [],
   "source": [
    "from tkinter import *\n",
    "\n",
    "def donothing():\n",
    "    filewin = Toplevel(root)\n",
    "    button = Button(filewin, text=\"Do nothing button\")\n",
    "    button.pack()\n",
    "    \n",
    "root = Tk()\n",
    "menubar = Menu(root)\n",
    "filemenu = Menu(menubar, tearoff=0)\n",
    "filemenu.add_command(label=\"New\", command=donothing)\n",
    "filemenu.add_command(label=\"Open\", command=donothing)\n",
    "filemenu.add_command(label=\"Save\", command=donothing)\n",
    "filemenu.add_command(label=\"Save as...\", command=donothing)\n",
    "filemenu.add_command(label=\"Close\", command=donothing)\n",
    "\n",
    "filemenu.add_separator()\n",
    "\n",
    "filemenu.add_command(label=\"Exit\", command=root.quit)\n",
    "menubar.add_cascade(label=\"File\", menu=filemenu)\n",
    "editmenu = Menu(menubar, tearoff=0)\n",
    "editmenu.add_command(label=\"Undo\", command=donothing)\n",
    "\n",
    "editmenu.add_separator()\n",
    "\n",
    "editmenu.add_command(label=\"Cut\", command=donothing)\n",
    "editmenu.add_command(label=\"Copy\", command=donothing)\n",
    "editmenu.add_command(label=\"Paste\", command=donothing)\n",
    "editmenu.add_command(label=\"Delete\", command=donothing)\n",
    "editmenu.add_command(label=\"Select All\", command=donothing)\n",
    "\n",
    "menubar.add_cascade(label=\"Edit\", menu=editmenu)\n",
    "helpmenu = Menu(menubar, tearoff=0)\n",
    "helpmenu.add_command(label=\"Help Index\", command=donothing)\n",
    "helpmenu.add_command(label=\"About...\", command=donothing)\n",
    "menubar.add_cascade(label=\"Help\", menu=helpmenu)\n",
    "\n",
    "root.config(menu=menubar)\n",
    "root.mainloop()"
   ]
  },
  {
   "cell_type": "markdown",
   "id": "virtual-sector",
   "metadata": {},
   "source": [
    "### Tkinter Message\n",
    "\n",
    "This widget provides a multiline and noneditable object that displays texts, automatically breaking lines and justifying their contents.\n",
    "\n",
    "Its functionality is very similar to the one provided by the Label widget, except that it can also automatically wrap the text, maintaining a given width or aspect ratio.\n",
    "\n",
    "**Syntax** - w = Message ( master, option, ... )"
   ]
  },
  {
   "cell_type": "code",
   "execution_count": 24,
   "id": "cross-distribution",
   "metadata": {},
   "outputs": [],
   "source": [
    "from tkinter import *\n",
    "\n",
    "root = Tk()\n",
    "\n",
    "var = StringVar()\n",
    "label = Message( root, textvariable=var, relief=RAISED )\n",
    "\n",
    "var.set(\"Hey!? How are you doing?\")\n",
    "label.pack()\n",
    "\n",
    "#root.mainlooop()"
   ]
  },
  {
   "cell_type": "markdown",
   "id": "confused-circular",
   "metadata": {},
   "source": [
    "### Tkinter Radiobutton\n",
    "\n",
    "This widget implements a multiple-choice button, which is a way to offer many possible selections to the user and lets user choose only one of them. \n",
    "\n",
    "In order to implement this functionality, each group of radiobuttons must be associated to the same variable and each one of the buttons must symbolize a single value. You can use the Tab key to switch from one radionbutton to another.\n",
    "\n",
    "**Syntax** - w = Radiobutton ( master, option, ... )"
   ]
  },
  {
   "cell_type": "code",
   "execution_count": 25,
   "id": "turkish-incentive",
   "metadata": {},
   "outputs": [],
   "source": [
    "from tkinter import *\n",
    "\n",
    "def sel():\n",
    "    selection = \"You selected the option \" + str(var.get())\n",
    "    label.config(text = selection)\n",
    "    \n",
    "root = Tk()\n",
    "var = IntVar()\n",
    "\n",
    "R1 = Radiobutton(root, text=\"Option 1\", variable=var, value=1, command=sel)\n",
    "R1.pack( anchor = W )\n",
    "R2 = Radiobutton(root, text=\"Option 2\", variable=var, value=2, command=sel)\n",
    "R2.pack( anchor = W )\n",
    "R3 = Radiobutton(root, text=\"Option 3\", variable=var, value=3, command=sel)\n",
    "R3.pack( anchor = W)\n",
    "\n",
    "label = Label(root)\n",
    "label.pack()\n",
    "root.mainloop()"
   ]
  },
  {
   "cell_type": "markdown",
   "id": "afraid-ownership",
   "metadata": {},
   "source": [
    "### Tkinter Scale\n",
    "\n",
    "The Scale widget provides a graphical slider object that allows you to select values from a specific scale.\n",
    "\n",
    "**Syntax** - w = Scale ( master, option, ... )"
   ]
  },
  {
   "cell_type": "code",
   "execution_count": 1,
   "id": "painful-interval",
   "metadata": {},
   "outputs": [],
   "source": [
    "from tkinter import *\n",
    "\n",
    "def sel():\n",
    "    selection = \"Value = \" + str(var.get())\n",
    "    label.config(text = selection)\n",
    "\n",
    "root = Tk()\n",
    "var = DoubleVar()\n",
    "\n",
    "scale = Scale( root, variable = var )\n",
    "scale.pack(anchor=CENTER)\n",
    "\n",
    "button = Button(root, text=\"Get Scale Value\", command=sel)\n",
    "button.pack(anchor=CENTER)\n",
    "\n",
    "label = Label(root)\n",
    "label.pack()\n",
    "root.mainloop()"
   ]
  },
  {
   "cell_type": "markdown",
   "id": "under-abraham",
   "metadata": {},
   "source": [
    "### Tkinter Scrollbar\n",
    "\n",
    "This widget provides a slide controller that is used to implement vertical scrolled widgets, such as Listbox, Text and Canvas. Note that you can also create horizontal scrollbars on Entry widgets.\n",
    "\n",
    "**Syntax** - w = Scrollbar ( master, option, ... )"
   ]
  },
  {
   "cell_type": "code",
   "execution_count": 2,
   "id": "julian-damage",
   "metadata": {},
   "outputs": [],
   "source": [
    "from tkinter import *\n",
    "\n",
    "root = Tk()\n",
    "scrollbar = Scrollbar(root)\n",
    "scrollbar.pack( side = RIGHT, fill=Y )\n",
    "\n",
    "mylist = Listbox(root, yscrollcommand = scrollbar.set )\n",
    "for line in range(100):\n",
    "    mylist.insert(END, \"This is line number \" + str(line))\n",
    "    \n",
    "mylist.pack( side = LEFT, fill = BOTH )\n",
    "scrollbar.config( command = mylist.yview )\n",
    "\n",
    "mainloop()"
   ]
  },
  {
   "cell_type": "markdown",
   "id": "pretty-dallas",
   "metadata": {},
   "source": [
    "### Tkinter Text\n",
    "\n",
    "Text widgets provide advanced capabilities that allow you to edit a multiline text and format the way it has to be  displayed, such as changing its color and font. You can also use elegant structures like tabs and marks to locate specific sections of the text, and apply changes to those areas. Moreover, you can embed windows and images in the text because this widget was designed to handle both plain and formatted text.\n",
    "\n",
    "**Syntax** - w = Text ( master, option, ... )"
   ]
  },
  {
   "cell_type": "code",
   "execution_count": 4,
   "id": "rapid-essex",
   "metadata": {},
   "outputs": [],
   "source": [
    "from tkinter import *\n",
    "\n",
    "root = Tk()\n",
    "text = Text(root)\n",
    "text.insert(INSERT, \"Hello.....\")\n",
    "text.insert(END, \"Bye Bye.....\")\n",
    "text.pack()\n",
    "\n",
    "text.tag_add(\"here\", \"1.0\", \"1.4\")\n",
    "text.tag_add(\"start\", \"1.8\", \"1.13\")\n",
    "text.tag_config(\"here\", background=\"yellow\", foreground=\"blue\")\n",
    "text.tag_config(\"start\", background=\"black\", foreground=\"green\")\n",
    "\n",
    "root.mainloop()"
   ]
  },
  {
   "cell_type": "markdown",
   "id": "competent-concern",
   "metadata": {},
   "source": [
    "### Tkinter Toplevel\n",
    "\n",
    "Toplevel widgets work as windows that are directly managed by the window manager. They do not necessarily have a parent widget on top of them. Your application can use any number of top-level windows.\n",
    "\n",
    "**Syntax** - w = Toplevel ( option, ... )"
   ]
  },
  {
   "cell_type": "code",
   "execution_count": 5,
   "id": "commercial-lease",
   "metadata": {},
   "outputs": [],
   "source": [
    "from tkinter import *\n",
    "\n",
    "root = Tk()\n",
    "root.title(\"hello\")\n",
    "top = Toplevel()\n",
    "top.title(\"Python\")\n",
    "top.mainloop()"
   ]
  },
  {
   "cell_type": "markdown",
   "id": "sunrise-expense",
   "metadata": {},
   "source": [
    "### Tkinter Spinbox\n",
    "\n",
    "The Spinbox widget is a variant of the standard Tkinter Entry widget, which can be used to select from a fixed number of values.\n",
    "\n",
    "**Syntax** - w = Spinbox( master, option, ... )"
   ]
  },
  {
   "cell_type": "code",
   "execution_count": 7,
   "id": "elder-cooperative",
   "metadata": {},
   "outputs": [],
   "source": [
    "from tkinter import *\n",
    "\n",
    "master = Tk()\n",
    "\n",
    "w = Spinbox(master, from_=0, to=10)\n",
    "w.pack()\n",
    "\n",
    "mainloop()"
   ]
  },
  {
   "cell_type": "markdown",
   "id": "powerful-mambo",
   "metadata": {},
   "source": [
    "### Tkinter PanedWindow\n",
    "\n",
    "A PanedWindow is a container widget that may contain any number of panes, arranged horizontally or vertically.\n",
    "\n",
    "Each pane contains one widget and each pair of panes is separated by a moveable (via mouse movements) sash. Moving a sash causes the widgets on either side of the sash to be resized.\n",
    "\n",
    "**Syntax** - w = PanedWindow( master, option, ... )"
   ]
  },
  {
   "cell_type": "code",
   "execution_count": 8,
   "id": "eastern-craps",
   "metadata": {},
   "outputs": [],
   "source": [
    "from tkinter import *\n",
    "\n",
    "m1 = PanedWindow()\n",
    "m1.pack(fill=BOTH, expand=1)\n",
    "\n",
    "left = Entry(m1, bd=5)\n",
    "m1.add(left)\n",
    "\n",
    "m2 = PanedWindow(m1, orient=VERTICAL)\n",
    "m1.add(m2)\n",
    "\n",
    "top = Scale( m2, orient=HORIZONTAL)\n",
    "m2.add(top)\n",
    "\n",
    "bottom = Button(m2, text=\"OK\")\n",
    "m2.add(bottom)\n",
    "\n",
    "mainloop()"
   ]
  },
  {
   "cell_type": "markdown",
   "id": "valuable-bankruptcy",
   "metadata": {},
   "source": [
    "### Tkinter LabelFrame\n",
    "\n",
    "A labelframe is a simple container widget. Its primary purpose is to act as a spacer or container for complex window layouts. This widget has the features of a frame plus the ability to display a label.\n",
    "\n",
    "**Syntax** - w = LabelFrame( master, option, ... )"
   ]
  },
  {
   "cell_type": "code",
   "execution_count": 9,
   "id": "lesser-salad",
   "metadata": {},
   "outputs": [],
   "source": [
    "from tkinter import *\n",
    "\n",
    "root = Tk()\n",
    "\n",
    "labelframe = LabelFrame(root, text=\"This is a LabelFrame\")\n",
    "labelframe.pack(fill=\"both\", expand=\"yes\")\n",
    "\n",
    "left = Label(labelframe, text=\"Inside the LabelFrame\")\n",
    "left.pack()\n",
    "\n",
    "root.mainloop()"
   ]
  },
  {
   "cell_type": "markdown",
   "id": "decimal-saint",
   "metadata": {},
   "source": [
    "### Tkinter tkMessageBox\n",
    "\n",
    "The tkMessageBox module is used to display message boxes in your applications. This module provides a number of functions that you can use to display an appropriate message.\n",
    "\n",
    "Some of these functions are showinfo, showwarning, showerror, askquestion, askokcancel, askyesno, and askretryignore.\n",
    "\n",
    "**Syntax** - tkMessageBox.FunctionName(title, message [, options])"
   ]
  },
  {
   "cell_type": "code",
   "execution_count": 10,
   "id": "embedded-friday",
   "metadata": {},
   "outputs": [],
   "source": [
    "from tkinter import *\n",
    "from tkinter import messagebox\n",
    "\n",
    "top = Tk()\n",
    "top.geometry(\"100x100\")\n",
    "def hello():\n",
    "    messagebox.showinfo(\"Say Hello\", \"Hello World\")\n",
    "    \n",
    "B1 = Button(top, text = \"Say Hello\", command = hello)\n",
    "B1.place(x=35,y=50)\n",
    "\n",
    "top.mainloop()"
   ]
  },
  {
   "cell_type": "markdown",
   "id": "hazardous-drove",
   "metadata": {},
   "source": [
    "# Standard Attributes\n",
    "\n",
    "* Dimensions\n",
    "* Colors\n",
    "* Fonts\n",
    "* Anchors\n",
    "* Relief styles\n",
    "* Bitmaps\n",
    "* Cursors"
   ]
  },
  {
   "cell_type": "markdown",
   "id": "quantitative-driver",
   "metadata": {},
   "source": [
    "### Tkinter Dimensions\n",
    "\n",
    "Various lengths, widths, and other dimensions of widgets can be described in many different units.\n",
    "\n",
    "    * If you set a dimension to an integer, it is assumed to be in pixels.\n",
    "    * You can specify units by setting a dimension to a string containing a number followed by.\n",
    "    \n",
    "Character | Description\n",
    "----------|------------\n",
    "c | Centimeters\n",
    "i | Inches\n",
    "m | Millimeters\n",
    "p | Printer's points (about 1/72\")"
   ]
  },
  {
   "cell_type": "markdown",
   "id": "solved-medium",
   "metadata": {},
   "source": [
    "### Tkinter Colors\n",
    "\n",
    "Tkinter represents colors with strings. There are two general ways to specify colors in Tkinter-\n",
    "\n",
    "  * You can use a string specifying the proportion of red, green and blue in hexadecimal digits. For example, \"#fff\" is white, \"#000000\" is black, \"#000fff000\" is pure green, and \"#00ffff\" is pure cyan (green plus blue).\n",
    "  * You can also use any locally defined standard color name. The colors \"white\", \"black\", \"red\", \"green\", \"blue\", \"cyan\", \"yellow\", and \"magenta\" will always be available."
   ]
  },
  {
   "cell_type": "markdown",
   "id": "compatible-updating",
   "metadata": {},
   "source": [
    "### Tkinter Anchors\n",
    "\n",
    "Anchors are used to define where text is positioned relative to a reference point.\n",
    "Here is list of possible constants, which can be used for Anchor attribute.\n",
    "\n",
    "- NW\n",
    "- N\n",
    "- NE\n",
    "- W\n",
    "- CENTER\n",
    "- E\n",
    "- SW\n",
    "- S\n",
    "- SE\n",
    "\n",
    "... | ... | ...\n",
    "-----|------|-----\n",
    "NW | N | NE\n",
    "W | CENTER |E\n",
    "SW | S | SE"
   ]
  },
  {
   "cell_type": "markdown",
   "id": "formed-color",
   "metadata": {},
   "source": [
    "### Tkinter Relief styles\n",
    "\n",
    "The relief style of a widget refers to certain simulated 3-D effects around the outside of the widget. Here is a screenshot of a row of buttons exhibiting all the possible relief styles\n",
    "\n",
    "     FLAT\n",
    "     RAISED\n",
    "     SUNKEN\n",
    "     GROOVE\n",
    "     RIDGE"
   ]
  },
  {
   "cell_type": "code",
   "execution_count": 11,
   "id": "essential-hepatitis",
   "metadata": {},
   "outputs": [],
   "source": [
    "from tkinter import *\n",
    "import tkinter\n",
    "\n",
    "top = Tk()\n",
    "\n",
    "B1 = Button(top, text =\"FLAT\", relief=FLAT )\n",
    "B2 = Button(top, text =\"RAISED\", relief=RAISED )\n",
    "B3 = Button(top, text =\"SUNKEN\", relief=SUNKEN )\n",
    "B4 = Button(top, text =\"GROOVE\", relief=GROOVE )\n",
    "B5 = Button(top, text =\"RIDGE\", relief=RIDGE )\n",
    "\n",
    "B1.pack()\n",
    "B2.pack()\n",
    "B3.pack()\n",
    "B4.pack()\n",
    "B5.pack()\n",
    "\n",
    "top.mainloop()"
   ]
  },
  {
   "cell_type": "markdown",
   "id": "legislative-fantasy",
   "metadata": {},
   "source": [
    "### Tkinter Bitmaps\n",
    "\n",
    "This attribute to displays a bitmap. There are following type of bitmaps available-\n",
    "\n",
    "  + \"error\"\n",
    "  + \"gray75\"\n",
    "  + \"gray50\"\n",
    "  + \"gray25\"\n",
    "  + \"gray12\"\n",
    "  + \"hourglass\"\n",
    "  + \"info\"\n",
    "  + \"questhead\"\n",
    "  + \"question\"\n",
    "  + \"warning\""
   ]
  },
  {
   "cell_type": "code",
   "execution_count": 12,
   "id": "necessary-region",
   "metadata": {},
   "outputs": [],
   "source": [
    "from tkinter import *\n",
    "import tkinter\n",
    "\n",
    "top = Tk()\n",
    "\n",
    "B1 = Button(top, text =\"error\", relief=RAISED, bitmap=\"error\")\n",
    "B2 = Button(top, text =\"hourglass\", relief=RAISED, bitmap=\"hourglass\")\n",
    "B3 = Button(top, text =\"info\", relief=RAISED, bitmap=\"info\")\n",
    "B4 = Button(top, text =\"question\", relief=RAISED, bitmap=\"question\")\n",
    "B5 = Button(top, text =\"warning\", relief=RAISED, bitmap=\"warning\")\n",
    "\n",
    "B1.pack()\n",
    "B2.pack()\n",
    "B3.pack()\n",
    "B4.pack()\n",
    "B5.pack()\n",
    "top.mainloop()"
   ]
  },
  {
   "cell_type": "markdown",
   "id": "valued-minority",
   "metadata": {},
   "source": [
    "### Tkinter Cursors\n",
    "\n",
    "Python Tkinter supports quite a number of different mouse cursors available. The exact graphic may vary according to your operating system.\n",
    "\n",
    "* \"arrow\"\n",
    "* \"circle\"\n",
    "* \"clock\"\n",
    "* \"cross\"\n",
    "* \"dotbox\"\n",
    "* \"exchange\"\n",
    "* \"fleur\"\n",
    "* \"heart\"\n",
    "* \"heart\"\n",
    "* \"man\"\n",
    "* \"mouse\"\n",
    "* \"pirate\"\n",
    "* \"plus\"\n",
    "* \"shuttle\"\n",
    "* \"sizing\"\n",
    "* \"spider\"\n",
    "* \"spraycan\"\n",
    "* \"star\"\n",
    "* \"target\"\n",
    "* \"tcross\"\n",
    "* \"trek\"\n",
    "* \"watch\""
   ]
  },
  {
   "cell_type": "code",
   "execution_count": 13,
   "id": "searching-exposure",
   "metadata": {},
   "outputs": [],
   "source": [
    "from tkinter import *\n",
    "import tkinter\n",
    "\n",
    "top = Tk()\n",
    "\n",
    "B1 = Button(top, text =\"circle\", relief=RAISED, cursor=\"circle\")\n",
    "B2 = Button(top, text =\"plus\", relief=RAISED, cursor=\"plus\")\n",
    "\n",
    "B1.pack()\n",
    "B2.pack()\n",
    "\n",
    "top.mainloop()"
   ]
  },
  {
   "cell_type": "markdown",
   "id": "absent-penguin",
   "metadata": {},
   "source": [
    "# Geometry Management\n",
    "\n",
    "All Tkinter widgets have access to the specific geometry management methods, which have the purpose of organizing widgets throughout the parent widget area. Tkinter exposes the following geometry manager classes: pack, grid, and place.\n",
    "\n",
    "* The pack() Method - This geometry manager organizes widgets in blocks before placing them in the parent widget.\n",
    "* The grid() Method - This geometry manager organizes widgets in a table-like structure in the parent widget.\n",
    "* The place() Method -This geometry manager organizes widgets by placing them in a specific position in the parent widget."
   ]
  },
  {
   "cell_type": "markdown",
   "id": "incredible-judge",
   "metadata": {},
   "source": [
    "### Tkinter pack() Method"
   ]
  },
  {
   "cell_type": "code",
   "execution_count": 14,
   "id": "pressing-george",
   "metadata": {},
   "outputs": [],
   "source": [
    "from tkinter import *\n",
    "\n",
    "root = Tk()\n",
    "frame = Frame(root)\n",
    "frame.pack()\n",
    "\n",
    "bottomframe = Frame(root)\n",
    "bottomframe.pack( side = BOTTOM )\n",
    "\n",
    "redbutton = Button(frame, text=\"Red\", fg=\"red\")\n",
    "redbutton.pack( side = LEFT)\n",
    "\n",
    "greenbutton = Button(frame, text=\"Brown\", fg=\"brown\")\n",
    "greenbutton.pack( side = LEFT )\n",
    "\n",
    "bluebutton = Button(frame, text=\"Blue\", fg=\"blue\")\n",
    "bluebutton.pack( side = LEFT )\n",
    "\n",
    "blackbutton = Button(bottomframe, text=\"Black\", fg=\"black\")\n",
    "blackbutton.pack( side = BOTTOM)\n",
    "\n",
    "root.mainloop()"
   ]
  },
  {
   "cell_type": "markdown",
   "id": "assisted-wrist",
   "metadata": {},
   "source": [
    "### Tkinter grid() Method"
   ]
  },
  {
   "cell_type": "code",
   "execution_count": 15,
   "id": "dimensional-indicator",
   "metadata": {},
   "outputs": [],
   "source": [
    "from tkinter import *\n",
    "\n",
    "root = Tk( )\n",
    "b=0\n",
    "\n",
    "for r in range(6):\n",
    "    for c in range(6):\n",
    "        b=b+1\n",
    "        Button(root, text=str(b), borderwidth=1 ).grid(row=r,column=c)\n",
    "        \n",
    "root.mainloop()"
   ]
  },
  {
   "cell_type": "markdown",
   "id": "intended-clothing",
   "metadata": {},
   "source": [
    "### Tkinter place() Method"
   ]
  },
  {
   "cell_type": "code",
   "execution_count": 16,
   "id": "thermal-reaction",
   "metadata": {},
   "outputs": [],
   "source": [
    "from tkinter import *\n",
    "\n",
    "top = Tk()\n",
    "\n",
    "L1 = Label(top, text=\"Physics\")\n",
    "L1.place(x=10,y=10)\n",
    "E1 = Entry(top, bd =5)\n",
    "E1.place(x=60,y=10)\n",
    "\n",
    "L2=Label(top,text=\"Maths\")\n",
    "L2.place(x=10,y=50)\n",
    "E2=Entry(top,bd=5)\n",
    "E2.place(x=60,y=50)\n",
    "\n",
    "L3=Label(top,text=\"Total\")\n",
    "L3.place(x=10,y=150)\n",
    "E3=Entry(top,bd=5)\n",
    "E3.place(x=60,y=150)\n",
    "\n",
    "B = Button(top, text =\"Add\")\n",
    "B.place(x=100, y=100)\n",
    "\n",
    "top.geometry(\"250x250+10+10\")\n",
    "top.mainloop()"
   ]
  }
 ],
 "metadata": {
  "kernelspec": {
   "display_name": "Python 3",
   "language": "python",
   "name": "python3"
  },
  "language_info": {
   "codemirror_mode": {
    "name": "ipython",
    "version": 3
   },
   "file_extension": ".py",
   "mimetype": "text/x-python",
   "name": "python",
   "nbconvert_exporter": "python",
   "pygments_lexer": "ipython3",
   "version": "3.9.2"
  }
 },
 "nbformat": 4,
 "nbformat_minor": 5
}
