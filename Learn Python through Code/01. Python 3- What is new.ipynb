{
 "cells": [
  {
   "cell_type": "markdown",
   "id": "protective-indicator",
   "metadata": {},
   "source": [
    "# 1. Python 3 - What is New?"
   ]
  },
  {
   "cell_type": "markdown",
   "id": "adequate-condition",
   "metadata": {},
   "source": [
    "### The Future Module\n",
    "Python 3.x introduced some Python 2-incompatible keywords and features that can be imported via the in-built _ _future_ _ module in Python 2. It is recommended to use _ _future_ _ imports, if you are planning Python 3.x support for your code."
   ]
  },
  {
   "cell_type": "code",
   "execution_count": 1,
   "id": "olive-stanford",
   "metadata": {},
   "outputs": [],
   "source": [
    "#For example, if we want Python 3.x's integer division behavior in Python 2, add the following import statement\n",
    "from __future__ import division"
   ]
  },
  {
   "cell_type": "markdown",
   "id": "false-shipping",
   "metadata": {},
   "source": [
    "### The Print Function"
   ]
  },
  {
   "cell_type": "code",
   "execution_count": 2,
   "id": "danish-croatia",
   "metadata": {},
   "outputs": [],
   "source": [
    "# print \"Hello World\" # acceptable in Python 2\n",
    "# Error: SyntaxError: Missing parentheses in call to 'print'. Did you mean print(\"Hello World\")?"
   ]
  },
  {
   "cell_type": "code",
   "execution_count": 3,
   "id": "extraordinary-tablet",
   "metadata": {},
   "outputs": [
    {
     "name": "stdout",
     "output_type": "stream",
     "text": [
      "Hello World\n"
     ]
    }
   ],
   "source": [
    "print (\"Hello World\") # In Python 3, print must be followed by  parenthesis*()"
   ]
  },
  {
   "cell_type": "markdown",
   "id": "organizational-leeds",
   "metadata": {},
   "source": [
    "The print() function inserts a new line at the end, by default. In Python 2, it can be suppressed by putting ',' at the end. In Python 3, \"end=' '\" appends space instead of newline."
   ]
  },
  {
   "cell_type": "code",
   "execution_count": 4,
   "id": "forty-monster",
   "metadata": {},
   "outputs": [],
   "source": [
    "# Trailing comma suppresses newline in Python 2\n",
    "# print \"Hi\" , \n",
    "# Error: SyntaxError: Missing parentheses in call to 'print'. Did you mean print(\"Hi\" , end=\" \")?"
   ]
  },
  {
   "cell_type": "code",
   "execution_count": 5,
   "id": "planned-enclosure",
   "metadata": {},
   "outputs": [
    {
     "name": "stdout",
     "output_type": "stream",
     "text": [
      "Hi Ajay\n"
     ]
    }
   ],
   "source": [
    "print (\"Hi\", end = \" \")\n",
    "print(\"Ajay\")"
   ]
  },
  {
   "cell_type": "markdown",
   "id": "silent-solid",
   "metadata": {},
   "source": [
    "### Reading Input from Keyboard"
   ]
  },
  {
   "cell_type": "markdown",
   "id": "intellectual-sauce",
   "metadata": {},
   "source": [
    "Python 2 has two versions of input functions, input() and raw_input(). The input() function treats the received data as string if it is included in quotes '' or \"\", otherwise the data is treated as number."
   ]
  },
  {
   "cell_type": "markdown",
   "id": "entertaining-tyler",
   "metadata": {},
   "source": [
    "In Python 3, raw_input() function is deprecated. Further, the received data is always treated as string."
   ]
  },
  {
   "cell_type": "code",
   "execution_count": 6,
   "id": "acute-techno",
   "metadata": {},
   "outputs": [
    {
     "name": "stdout",
     "output_type": "stream",
     "text": [
      "something:20\n",
      "20 is a great number\n"
     ]
    }
   ],
   "source": [
    "# In Python 2\n",
    "\n",
    "# x= input('something:')\n",
    "# something:10 #entered data is treated as number\n",
    "# x= input('something:')\n",
    "# something:'10' #entered data is treated as string\n",
    "\n",
    "# In Python 3\n",
    "\n",
    "x=input(\"something:\")\n",
    "\n",
    "print(x + \" is a great number\") #entered data will be treated as string with or without ''"
   ]
  },
  {
   "cell_type": "markdown",
   "id": "valuable-roots",
   "metadata": {},
   "source": [
    "### Integer Division"
   ]
  },
  {
   "cell_type": "markdown",
   "id": "adolescent-cartridge",
   "metadata": {},
   "source": [
    "In Python 2, the result of division of two integers is rounded to the nearest integer. As a result, 3/2 will show 1. In order to obtain a floating-point division, numerator or denominator must be explicitly used as float. Hence, either 3.0/2 or 3/2.0 or 3.0/2.0 will result in 1.5"
   ]
  },
  {
   "cell_type": "code",
   "execution_count": 7,
   "id": "celtic-average",
   "metadata": {},
   "outputs": [
    {
     "name": "stdout",
     "output_type": "stream",
     "text": [
      "1.5\n"
     ]
    }
   ],
   "source": [
    "print(3/2) \n",
    "# Python 3 evaluates 3 / 2 as 1.5 by default, which is more intuitive for new programmers"
   ]
  },
  {
   "cell_type": "markdown",
   "id": "compound-gospel",
   "metadata": {},
   "source": [
    "### Unicode Representation"
   ]
  },
  {
   "cell_type": "markdown",
   "id": "regular-watson",
   "metadata": {},
   "source": [
    "Python 2 requires you to mark a string with a u if you want to store it as Unicode."
   ]
  },
  {
   "cell_type": "markdown",
   "id": "packed-cigarette",
   "metadata": {},
   "source": [
    "Python 3 stores strings as Unicode, by default. \n",
    "We have Unicode (utf-8) strings, and 2 byte classes: byte and byte arrays."
   ]
  }
 ],
 "metadata": {
  "kernelspec": {
   "display_name": "Python 3",
   "language": "python",
   "name": "python3"
  },
  "language_info": {
   "codemirror_mode": {
    "name": "ipython",
    "version": 3
   },
   "file_extension": ".py",
   "mimetype": "text/x-python",
   "name": "python",
   "nbconvert_exporter": "python",
   "pygments_lexer": "ipython3",
   "version": "3.9.2"
  }
 },
 "nbformat": 4,
 "nbformat_minor": 5
}
