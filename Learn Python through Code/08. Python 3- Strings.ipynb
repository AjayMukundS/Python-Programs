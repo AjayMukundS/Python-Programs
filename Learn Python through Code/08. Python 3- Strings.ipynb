{
 "cells": [
  {
   "cell_type": "markdown",
   "id": "raised-identity",
   "metadata": {},
   "source": [
    "# Strings\n",
    "\n",
    "Python treats single quotes the same as double quotes. Creating strings is as simple as assigning a value to a variable."
   ]
  },
  {
   "cell_type": "markdown",
   "id": "vietnamese-government",
   "metadata": {},
   "source": [
    "### Creating Strings"
   ]
  },
  {
   "cell_type": "code",
   "execution_count": 1,
   "id": "powered-delay",
   "metadata": {},
   "outputs": [],
   "source": [
    "var1 = 'Hello World!'\n",
    "var2 = \"Python Programming\""
   ]
  },
  {
   "cell_type": "markdown",
   "id": "healthy-lesbian",
   "metadata": {},
   "source": [
    "### Accessing Values in Strings\n",
    "\n",
    "Python does not support a character type; these are treated as strings of length one, thus also considered a substring.\n",
    "To access substrings, use the square brackets for slicing along with the index or indices to obtain your substring."
   ]
  },
  {
   "cell_type": "code",
   "execution_count": 2,
   "id": "powerful-bikini",
   "metadata": {},
   "outputs": [
    {
     "name": "stdout",
     "output_type": "stream",
     "text": [
      "var1[0]:  H\n",
      "var2[1:5]:  ytho\n"
     ]
    }
   ],
   "source": [
    "var1 = 'Hello World!'\n",
    "var2 = \"Python Programming\"\n",
    "print (\"var1[0]: \", var1[0])\n",
    "print (\"var2[1:5]: \", var2[1:5])"
   ]
  },
  {
   "cell_type": "markdown",
   "id": "latin-purchase",
   "metadata": {},
   "source": [
    "### Updating Strings"
   ]
  },
  {
   "cell_type": "code",
   "execution_count": 3,
   "id": "still-gasoline",
   "metadata": {},
   "outputs": [
    {
     "name": "stdout",
     "output_type": "stream",
     "text": [
      "Updated String :-  Hello Python\n"
     ]
    }
   ],
   "source": [
    "var1 = 'Hello World!'\n",
    "print (\"Updated String :- \", var1[:6] + 'Python')"
   ]
  },
  {
   "cell_type": "markdown",
   "id": "empty-intervention",
   "metadata": {},
   "source": [
    "### Escape Characters\n",
    "\n",
    "Backslash notation | Hexadecimal character | Description\n",
    "------------|--------------|----------------\n",
    "a | 0x07 | Bell or alert\n",
    "b | 0x08 | Backspace\n",
    "\\cx | | Control-x\n",
    "\\C-x |  | Control-x\n",
    "\\e | 0x1b | Escape\n",
    "\\f | 0x0c | Formfeed\n",
    "\\M-\\C-x |  | Meta-Control-x\n",
    "\\n | 0x0a | Newline\n",
    "\\nnn | | Octal notation, where n is in the range 0.7\n",
    "\\r | 0x0d | Carriage return\n",
    "\\s | 0x20 | Space\n",
    "\\t | 0x09 | Tab\n",
    "\\v | 0x0b | Vertical tab\n",
    "\\x |  |Character x\n",
    "\\xnn |  | Hexadecimal notation, where n is in the range 0.9, a.f, or A.F"
   ]
  },
  {
   "cell_type": "markdown",
   "id": "comparable-enemy",
   "metadata": {},
   "source": [
    "### Special String Operators\n",
    "\n",
    "Assume string variable a holds 'Hello' and variable b holds 'Python'\n",
    "\n",
    "Operator | Name | Description | Example\n",
    "------|----------|---------|-----------\n",
    "+ | Concatenation | Adds values on either side of the operator | a + b will give HelloPython\n",
    "* |Repetition | Creates new strings, concatenating multiple copies of the same string | a*2 will give HelloHello\n",
    "[] | Slice | Gives the character from the given index | a[1] will give e\n",
    "[ : ] | Range Slice | Gives the characters from the given range | a[1:4] will give ell\n",
    "in | Membership | Returns true if a character exists in the given string | H in a will give 1\n",
    "not in | Membership | Returns true if a character does not exist in the given string | M not in a will give 1\n",
    "r/R | Raw String | Suppresses actual meaning of Escape characters. The syntax for raw strings is exactly the same as for normal strings with the exception of the raw string operator, the letter \"r,\" which precedes the quotation marks. The \"r\" can be lowercase (r) or uppercase (R) and must be placed immediately preceding the first quote mark. | print r'\\n' prints \\n and print R'\\n'prints \\n\n",
    "% | Format | Performs String formatting | Example in next cell"
   ]
  },
  {
   "cell_type": "markdown",
   "id": "ranking-headquarters",
   "metadata": {},
   "source": [
    "##### String Formating Operator\n",
    "\n",
    "This operator is unique to strings and makes up for the pack of having functions from C's printf() family"
   ]
  },
  {
   "cell_type": "code",
   "execution_count": 4,
   "id": "established-majority",
   "metadata": {},
   "outputs": [
    {
     "name": "stdout",
     "output_type": "stream",
     "text": [
      "My name is Zara and weight is 21 kg!\n"
     ]
    }
   ],
   "source": [
    "print (\"My name is %s and weight is %d kg!\" % ('Zara', 21))"
   ]
  },
  {
   "cell_type": "markdown",
   "id": "handled-german",
   "metadata": {},
   "source": [
    "##### Complete set of symbols that can be used with %\n",
    "\n",
    "Format | Symbol Conversion\n",
    "-------|--------------\n",
    "%c | character\n",
    "%s | string conversion via str() prior to formatting\n",
    "%i | signed decimal integer\n",
    "%d | signed decimal integer\n",
    "%u | unsigned decimal integer\n",
    "%o | octal integer\n",
    "%x | hexadecimal integer (lowercase letters)\n",
    "%X | hexadecimal integer (UPPERcase letters)\n",
    "%e | exponential notation (with lowercase 'e')\n",
    "%E | exponential notation (with UPPERcase 'E')\n",
    "%f | floating point real number\n",
    "%g | the shorter of %f and %e\n",
    "%G | the shorter of %f and %E"
   ]
  },
  {
   "cell_type": "markdown",
   "id": "solar-recovery",
   "metadata": {},
   "source": [
    "##### Other Supported Symbols and Functionality\n",
    "\n",
    "Symbol | Functionality\n",
    "-------|--------------\n",
    "* | argument specifies width or precision\n",
    "- | left justification\n",
    "+ | display the sign\n",
    "< sp > | leave a blank space before a positive number\n",
    "# | add the octal leading zero ( '0' ) or hexadecimal leading '0x' or '0X', depending on whether 'x' or 'X' were used.\n",
    "0 | pad from left with zeros (instead of spaces)\n",
    "% | '%%' leaves you with a single literal '%'\n",
    "(var) | mapping variable (dictionary arguments)\n",
    "m.n. | m is the minimum total width and n is the number of digits to display after the decimal point (if appl.)"
   ]
  },
  {
   "cell_type": "markdown",
   "id": "brazilian-promotion",
   "metadata": {},
   "source": [
    "### Triple Quotes\n",
    "\n",
    "Python's triple quotes comes to the rescue by allowing strings to span multiple lines, including verbatim NEWLINEs, TABs, and any other special characters."
   ]
  },
  {
   "cell_type": "code",
   "execution_count": 5,
   "id": "unlike-earth",
   "metadata": {},
   "outputs": [
    {
     "name": "stdout",
     "output_type": "stream",
     "text": [
      "this is a long string that is made up of\n",
      "several lines and non-printable characters such as\n",
      "TAB ( \t ) and they will show up that way when displayed.\n",
      "NEWLINEs within the string, whether explicitly given like\n",
      "this within the brackets [ \n",
      " ], or just a NEWLINE within\n",
      "the variable assignment will also show up.\n",
      "\n"
     ]
    }
   ],
   "source": [
    "para_str = \"\"\"this is a long string that is made up of\n",
    "several lines and non-printable characters such as\n",
    "TAB ( \\t ) and they will show up that way when displayed.\n",
    "NEWLINEs within the string, whether explicitly given like\n",
    "this within the brackets [ \\n ], or just a NEWLINE within\n",
    "the variable assignment will also show up.\n",
    "\"\"\"\n",
    "print (para_str)"
   ]
  },
  {
   "cell_type": "code",
   "execution_count": 6,
   "id": "former-composer",
   "metadata": {},
   "outputs": [
    {
     "name": "stdout",
     "output_type": "stream",
     "text": [
      "C:\\nowhere\n"
     ]
    }
   ],
   "source": [
    "# Raw strings do not treat the backslash as a special character at all.\n",
    "print ('C:\\\\nowhere')"
   ]
  },
  {
   "cell_type": "code",
   "execution_count": 7,
   "id": "dedicated-april",
   "metadata": {},
   "outputs": [
    {
     "name": "stdout",
     "output_type": "stream",
     "text": [
      "C:\\\\nowhere\n"
     ]
    }
   ],
   "source": [
    "# Now let us make use of raw string. We would put expression in r'expression' as follows:\n",
    "print (r'C:\\\\nowhere')"
   ]
  },
  {
   "cell_type": "markdown",
   "id": "isolated-nightmare",
   "metadata": {},
   "source": [
    "# Built-in String Methods\n",
    "\n",
    "S. No. | Method | Description\n",
    "--------|--------|-----------\n",
    "1 | capitalize() | Capitalizes first letter of string\n",
    "2 | center(width, fillchar) | Returns a string padded with fillchar with the original string centered to a total of width columns.\n",
    "3 | count(str, beg= 0,end=len(string)) | Counts how many times str occurs in string or in a substring of string if starting index beg and ending index end are given.\n",
    "4 | decode(encoding='UTF-8',errors='strict') | Decodes the string using the codec registered for encoding. encoding defaults to the default string encoding.\n",
    "5 | encode(encoding='UTF-8',errors='strict') | Returns encoded string version of string; on error, default is to raise a ValueError unless errors is given with 'ignore' or 'replace'.\n",
    "6 | endswith(suffix, beg=0, end=len(string)) | Determines if string or a substring of string (if starting index beg and ending index end are given) ends with suffix; returns true if so and false otherwise.\n",
    "7 | expandtabs(tabsize=8) | Expands tabs in string to multiple spaces; defaults to 8 spaces per tab if tabsize not provided.\n",
    "8 | find(str, beg=0 end=len(string)) | Determine if str occurs in string or in a substring of string if starting index beg and ending index end are given returns index if found and -1 otherwise.\n",
    "9 | index(str, beg=0, end=len(string)) | Same as find(), but raises an exception if str not found.\n",
    "10 | isalnum() | Returns true if string has at least 1 character and all characters are alphanumeric and false otherwise.\n",
    "11 | isalpha() | Returns true if string has at least 1 character and all characters are alphabetic and false otherwise.\n",
    "12 | isdigit() | Returns true if the string contains only digits and false otherwise.\n",
    "13 | islower() | Returns true if string has at least 1 cased character and all cased characters are in lowercase and false otherwise.\n",
    "14 | isnumeric() | Returns true if a unicode string contains only numeric characters and false otherwise.\n",
    "15 | isspace() | Returns true if string contains only whitespace characters and false otherwise.\n",
    "16 | istitle() | Returns true if string is properly \"titlecased\" and false otherwise.\n",
    "17 | isupper() | Returns true if string has at least one cased character and all cased characters are in uppercase and false otherwise.\n",
    "18 | join(seq) | Merges (concatenates) the string representations of elements in sequence seq into a string, with separator string.\n",
    "19 | len(string) | Returns the length of the string\n",
    "20 | ljust(width[, fillchar]) | Returns a space-padded string with the original string left-justified to a total of width columns.\n",
    "21 | lower() | Converts all uppercase letters in string to lowercase.\n",
    "22 | lstrip() | Removes all leading whitespace in string.\n",
    "23 | maketrans() | Returns a translation table to be used in translate function.\n",
    "24 | max(str) | Returns the max alphabetical character from the string str.\n",
    "25 | min(str) | Returns the min alphabetical character from the string str.\n",
    "26 | replace(old, new [, max]) | Replaces all occurrences of old in string with new or at most max occurrences if max given.\n",
    "27 | rfind(str, beg=0,end=len(string)) | Same as find(), but search backwards in string.\n",
    "28 | rindex( str, beg=0, end=len(string)) | Same as index(), but search backwards in string.\n",
    "29 | rjust(width,[, fillchar]) | Returns a space-padded string with the original string right-justified to a total of width columns.\n",
    "30 | rstrip() | Removes all trailing whitespace of string.\n",
    "31 | split(str=\"\", num=string.count(str)) | Splits string according to delimiter str (space if not provided) and returns list of substrings; split into at most num substrings if given.\n",
    "32 | splitlines( num=string.count('\\n')) | Splits string at all (or num) NEWLINEs and returns a list of each line with NEWLINEs removed.\n",
    "33 | startswith(str, beg=0,end=len(string)) | Determines if string or a substring of string (if starting index beg and ending index end are given) starts with substring str; returns true if so and false otherwise.\n",
    "34 | strip([chars]) | Performs both lstrip() and rstrip() on string\n",
    "35 | swapcase() | Inverts case for all letters in string.\n",
    "36 | title() | Returns \"titlecased\" version of string, that is, all words begin with uppercase and the rest are lowercase.\n",
    "37 | translate(table, deletechars=\"\") | Translates string according to translation table str(256 chars), removing those in the del string.\n",
    "38 | upper() | Converts lowercase letters in string to uppercase.\n",
    "39 | zfill (width) | Returns original string leftpadded with zeros to a total of width characters; intended for numbers, zfill() retains any sign given (less one zero).\n",
    "40 | isdecimal() | Returns true if a unicode string contains only decimal characters and false otherwise."
   ]
  },
  {
   "cell_type": "markdown",
   "id": "innovative-history",
   "metadata": {},
   "source": [
    "### capitalize() Method"
   ]
  },
  {
   "cell_type": "code",
   "execution_count": 8,
   "id": "criminal-monkey",
   "metadata": {},
   "outputs": [
    {
     "name": "stdout",
     "output_type": "stream",
     "text": [
      "str.capitalize() :  This is string example....wow!!!\n"
     ]
    }
   ],
   "source": [
    "str = \"this is string example....wow!!!\"\n",
    "print (\"str.capitalize() : \", str.capitalize())"
   ]
  },
  {
   "cell_type": "markdown",
   "id": "quality-sodium",
   "metadata": {},
   "source": [
    "### center() Method\n",
    "\n",
    "Returns centered in a string of length width. Padding is done using the specified fillchar.\n",
    "\n",
    "**Syntax** - str.center(width[, fillchar])\n",
    "\n",
    "* width - This is the total width of the string.\n",
    "* fillchar - This is the filler character."
   ]
  },
  {
   "cell_type": "code",
   "execution_count": 9,
   "id": "dominant-hierarchy",
   "metadata": {},
   "outputs": [
    {
     "name": "stdout",
     "output_type": "stream",
     "text": [
      "str.center(40, 'a') :  aaaathis is string example....wow!!!aaaa\n"
     ]
    }
   ],
   "source": [
    "str = \"this is string example....wow!!!\"\n",
    "print (\"str.center(40, 'a') : \", str.center(40, 'a'))"
   ]
  },
  {
   "cell_type": "markdown",
   "id": "advanced-surfing",
   "metadata": {},
   "source": [
    "### count() Method\n",
    "\n",
    "Returns the number of occurrences of substring sub in the range [start, end].\n",
    "\n",
    "**Syntax** - str.count(sub, start= 0,end=len(string))\n",
    "\n",
    "* sub - This is the substring to be searched.\n",
    "* start - Search starts from this index. First character starts from 0 index. By default search starts from 0 index.\n",
    "* end - Search ends from this index. First character starts from 0 index. By default search ends at the last index."
   ]
  },
  {
   "cell_type": "code",
   "execution_count": 10,
   "id": "champion-notion",
   "metadata": {},
   "outputs": [
    {
     "name": "stdout",
     "output_type": "stream",
     "text": [
      "str.count('i') :  3\n",
      "str.count('exam', 10, 40) :  1\n"
     ]
    }
   ],
   "source": [
    "str=\"this is string example....wow!!!\"\n",
    "sub='i'\n",
    "print (\"str.count('i') : \", str.count(sub))\n",
    "sub='exam'\n",
    "print (\"str.count('exam', 10, 40) : \", str.count(sub,10,40))"
   ]
  },
  {
   "cell_type": "markdown",
   "id": "demographic-chuck",
   "metadata": {},
   "source": [
    "### encode() / decode() Method\n",
    "\n",
    "Decodes the string using the codec registered for encoding.\n",
    "\n",
    "**Syntax** - Str.encode / decode(encoding='UTF-8',errors='strict')\n",
    "\n",
    "* encoding - This is the encodings to be used. For a list of all encoding schemes please visit: Standard Encodings.\n",
    "* errors - This may be given to set a different error handling scheme. The default for errors is 'strict', meaning that encoding errors raise a UnicodeError. Other possible values are 'ignore', 'replace', 'xmlcharrefreplace', 'backslashreplace' and any other name registered via codecs.register_error()"
   ]
  },
  {
   "cell_type": "code",
   "execution_count": 11,
   "id": "mature-wellington",
   "metadata": {},
   "outputs": [
    {
     "name": "stdout",
     "output_type": "stream",
     "text": [
      "Original String:  this is string example....wow!!!\n",
      "Encoded String:  b'dGhpcyBpcyBzdHJpbmcgZXhhbXBsZS4uLi53b3chISE='\n",
      "Decoded String:  b'this is string example....wow!!!'\n"
     ]
    }
   ],
   "source": [
    "import base64\n",
    "Original_String = \"this is string example....wow!!!\"\n",
    "print (\"Original String: \" , Original_String)\n",
    "\n",
    "Encoded_String = base64.b64encode(Original_String.encode('utf-8',errors='strict'))\n",
    "print (\"Encoded String: \" , Encoded_String)\n",
    "\n",
    "Decoded_String= base64.b64decode(Encoded_String.decode('utf-8',errors='strict'))\n",
    "print (\"Decoded String: \" , Decoded_String)"
   ]
  },
  {
   "cell_type": "markdown",
   "id": "average-bristol",
   "metadata": {},
   "source": [
    "### endswith() Method\n",
    "\n",
    "Returns True if the string ends with the specified suffix, otherwise return False optionally restricting the matching with the given indices start and end.\n",
    "\n",
    "**Syntax** - str.endswith(suffix[, start[, end]])\n",
    "\n",
    "* suffix - This could be a string or could also be a tuple of suffixes to look for.\n",
    "* start - The slice begins from here.\n",
    "* end - The slice ends here."
   ]
  },
  {
   "cell_type": "code",
   "execution_count": 12,
   "id": "changed-kernel",
   "metadata": {},
   "outputs": [
    {
     "name": "stdout",
     "output_type": "stream",
     "text": [
      "True\n",
      "True\n",
      "False\n",
      "True\n"
     ]
    }
   ],
   "source": [
    "Str='this is string example....wow!!!'\n",
    "suffix='!!'\n",
    "print (Str.endswith(suffix))\n",
    "print (Str.endswith(suffix,20))\n",
    "suffix='exam'\n",
    "print (Str.endswith(suffix))\n",
    "print (Str.endswith(suffix, 0, 19))"
   ]
  },
  {
   "cell_type": "markdown",
   "id": "hispanic-incentive",
   "metadata": {},
   "source": [
    "### expandtabs() Method\n",
    "\n",
    "Returns a copy of the string in which the tab characters ie. '\\t' are expanded using spaces, optionally using the given tabsize (default 8)"
   ]
  },
  {
   "cell_type": "code",
   "execution_count": 13,
   "id": "historical-rider",
   "metadata": {},
   "outputs": [
    {
     "name": "stdout",
     "output_type": "stream",
     "text": [
      "Original string: this is\tstring example....wow!!!\n",
      "Defualt exapanded tab: this is string example....wow!!!\n",
      "Double exapanded tab: this is         string example....wow!!!\n"
     ]
    }
   ],
   "source": [
    "str = \"this is\\tstring example....wow!!!\"\n",
    "print (\"Original string: \" + str)\n",
    "print (\"Defualt exapanded tab: \" + str.expandtabs(8))\n",
    "print (\"Double exapanded tab: \" + str.expandtabs(16))"
   ]
  },
  {
   "cell_type": "markdown",
   "id": "appropriate-mattress",
   "metadata": {},
   "source": [
    "### find() Method"
   ]
  },
  {
   "cell_type": "code",
   "execution_count": 14,
   "id": "monetary-necklace",
   "metadata": {},
   "outputs": [
    {
     "name": "stdout",
     "output_type": "stream",
     "text": [
      "15\n",
      "15\n",
      "-1\n"
     ]
    }
   ],
   "source": [
    "str1 = \"this is string example....wow!!!\"\n",
    "str2 = \"exam\";\n",
    "print (str1.find(str2))\n",
    "print (str1.find(str2, 10))\n",
    "print (str1.find(str2, 40))"
   ]
  },
  {
   "cell_type": "markdown",
   "id": "educated-shepherd",
   "metadata": {},
   "source": [
    "### index() Method\n",
    "\n",
    "Same as find(), but raises an exception if sub is not found."
   ]
  },
  {
   "cell_type": "code",
   "execution_count": 15,
   "id": "indie-smart",
   "metadata": {},
   "outputs": [
    {
     "name": "stdout",
     "output_type": "stream",
     "text": [
      "15\n",
      "15\n"
     ]
    }
   ],
   "source": [
    "str1 = \"this is string example....wow!!!\"\n",
    "str2 = \"exam\";\n",
    "print (str1.index(str2))\n",
    "print (str1.index(str2, 10))\n",
    "# print (str1.index(str2, 40)) --> Error: ValueError: substring not found"
   ]
  },
  {
   "cell_type": "markdown",
   "id": "fabulous-stomach",
   "metadata": {},
   "source": [
    "### isalnum() Method\n",
    "\n",
    "Checks whether the string consists of alphanumeric characters."
   ]
  },
  {
   "cell_type": "code",
   "execution_count": 16,
   "id": "dying-portable",
   "metadata": {},
   "outputs": [
    {
     "name": "stdout",
     "output_type": "stream",
     "text": [
      "True\n",
      "False\n"
     ]
    }
   ],
   "source": [
    "str = \"this2016\" # No space in this string\n",
    "print (str.isalnum())\n",
    "str = \"this is string example....wow!!!\"\n",
    "print (str.isalnum())"
   ]
  },
  {
   "cell_type": "markdown",
   "id": "bizarre-headset",
   "metadata": {},
   "source": [
    "### isalpha() Method\n",
    "\n",
    "Checks whether the string consists of alphabetic characters only."
   ]
  },
  {
   "cell_type": "code",
   "execution_count": 17,
   "id": "southern-conducting",
   "metadata": {},
   "outputs": [
    {
     "name": "stdout",
     "output_type": "stream",
     "text": [
      "True\n",
      "False\n"
     ]
    }
   ],
   "source": [
    "str = \"this\"; # No space & digit in this string\n",
    "print (str.isalpha())\n",
    "str = \"this is string example....wow!!!\"\n",
    "print (str.isalpha())"
   ]
  },
  {
   "cell_type": "markdown",
   "id": "fresh-valve",
   "metadata": {},
   "source": [
    "### isdigit() Method\n",
    "\n",
    "Checks whether the string consists of digits only."
   ]
  },
  {
   "cell_type": "code",
   "execution_count": 18,
   "id": "compound-automation",
   "metadata": {},
   "outputs": [
    {
     "name": "stdout",
     "output_type": "stream",
     "text": [
      "True\n",
      "False\n"
     ]
    }
   ],
   "source": [
    "str = \"123456\"; # Only digit in this string\n",
    "print (str.isdigit())\n",
    "str = \"this is string example....wow!!!\"\n",
    "print (str.isdigit())"
   ]
  },
  {
   "cell_type": "markdown",
   "id": "lonely-control",
   "metadata": {},
   "source": [
    "### islower() Method\n",
    "\n",
    "Checks whether all the case-based characters (letters) of the string are lowercase."
   ]
  },
  {
   "cell_type": "code",
   "execution_count": 19,
   "id": "limiting-christmas",
   "metadata": {},
   "outputs": [
    {
     "name": "stdout",
     "output_type": "stream",
     "text": [
      "False\n",
      "True\n"
     ]
    }
   ],
   "source": [
    "str = \"THIS is string example....wow!!!\"\n",
    "print (str.islower())\n",
    "str = \"this is string example....wow!!!\"\n",
    "print (str.islower())"
   ]
  },
  {
   "cell_type": "markdown",
   "id": "blessed-evolution",
   "metadata": {},
   "source": [
    "### isnumeric() Method\n",
    "\n",
    "Checks whether the string consists of only numeric characters."
   ]
  },
  {
   "cell_type": "code",
   "execution_count": 20,
   "id": "voluntary-hazard",
   "metadata": {},
   "outputs": [
    {
     "name": "stdout",
     "output_type": "stream",
     "text": [
      "False\n",
      "True\n"
     ]
    }
   ],
   "source": [
    "str = \"this2016\"\n",
    "print (str.isnumeric())\n",
    "str = \"23443434\"\n",
    "print (str.isnumeric())"
   ]
  },
  {
   "cell_type": "markdown",
   "id": "silent-omaha",
   "metadata": {},
   "source": [
    "### isspace() Method\n",
    "\n",
    "Checks whether the string consists of whitespace"
   ]
  },
  {
   "cell_type": "code",
   "execution_count": 21,
   "id": "exempt-viking",
   "metadata": {},
   "outputs": [
    {
     "name": "stdout",
     "output_type": "stream",
     "text": [
      "True\n",
      "False\n"
     ]
    }
   ],
   "source": [
    "str = \"     \"\n",
    "print (str.isspace())\n",
    "str = \"This is string example....wow!!!\"\n",
    "print (str.isspace())"
   ]
  },
  {
   "cell_type": "markdown",
   "id": "actual-petersburg",
   "metadata": {},
   "source": [
    "### istitle() Method\n",
    "\n",
    "Checks whether all the case-based characters in the string following non-casebased letters are uppercase and all other case-based characters are lowercase."
   ]
  },
  {
   "cell_type": "code",
   "execution_count": 22,
   "id": "impaired-incident",
   "metadata": {},
   "outputs": [
    {
     "name": "stdout",
     "output_type": "stream",
     "text": [
      "True\n",
      "False\n"
     ]
    }
   ],
   "source": [
    "str = \"This Is String Example...Wow!!!\"\n",
    "print (str.istitle())\n",
    "str = \"This is string example....wow!!!\"\n",
    "print (str.istitle())"
   ]
  },
  {
   "cell_type": "markdown",
   "id": "alternative-evaluation",
   "metadata": {},
   "source": [
    "### isupper() Method \n",
    "\n",
    "Checks whether all the case-based characters (letters) of the string are uppercase."
   ]
  },
  {
   "cell_type": "code",
   "execution_count": 23,
   "id": "planned-canadian",
   "metadata": {},
   "outputs": [
    {
     "name": "stdout",
     "output_type": "stream",
     "text": [
      "True\n",
      "False\n"
     ]
    }
   ],
   "source": [
    "str = \"THIS IS STRING EXAMPLE....WOW!!!\"\n",
    "print (str.isupper())\n",
    "str = \"THIS is string example....wow!!!\"\n",
    "print (str.isupper())"
   ]
  },
  {
   "cell_type": "markdown",
   "id": "catholic-essex",
   "metadata": {},
   "source": [
    "### join() Method\n",
    "\n",
    "Returns a string in which the string elements of sequence have been joined by str separator.\n",
    "\n",
    "**Syntax** - str.join(sequence)\n",
    "\n",
    "* sequence - This is a sequence of the elements to be joined."
   ]
  },
  {
   "cell_type": "code",
   "execution_count": 24,
   "id": "latin-speech",
   "metadata": {},
   "outputs": [
    {
     "name": "stdout",
     "output_type": "stream",
     "text": [
      "a-b-c\n"
     ]
    }
   ],
   "source": [
    "s = \"-\"\n",
    "seq = (\"a\", \"b\", \"c\") # This is sequence of strings.\n",
    "print (s.join( seq ))"
   ]
  },
  {
   "cell_type": "markdown",
   "id": "stone-bathroom",
   "metadata": {},
   "source": [
    "### len() Method"
   ]
  },
  {
   "cell_type": "code",
   "execution_count": 25,
   "id": "voluntary-estonia",
   "metadata": {},
   "outputs": [
    {
     "name": "stdout",
     "output_type": "stream",
     "text": [
      "Length of the string:  32\n"
     ]
    }
   ],
   "source": [
    "str = \"this is string example....wow!!!\"\n",
    "print (\"Length of the string: \", len(str))"
   ]
  },
  {
   "cell_type": "markdown",
   "id": "bottom-dimension",
   "metadata": {},
   "source": [
    "### ljust() Method\n",
    "\n",
    "Returns the string left justified in a string of length width\n",
    "\n",
    "**Syntax** - str.ljust(width[, fillchar])\n",
    "\n",
    "* width - This is string length in total after padding.\n",
    "* fillchar - This is filler character, default is a space."
   ]
  },
  {
   "cell_type": "code",
   "execution_count": 26,
   "id": "crazy-chain",
   "metadata": {},
   "outputs": [
    {
     "name": "stdout",
     "output_type": "stream",
     "text": [
      "this is string example....wow!!!******************\n"
     ]
    }
   ],
   "source": [
    "str = \"this is string example....wow!!!\"\n",
    "print(str.ljust(50, '*'))"
   ]
  },
  {
   "cell_type": "markdown",
   "id": "buried-antigua",
   "metadata": {},
   "source": [
    "### lower() Method\n",
    "\n",
    "Returns a copy of the string in which all case-based characters have been lowercased."
   ]
  },
  {
   "cell_type": "code",
   "execution_count": 27,
   "id": "civilian-poster",
   "metadata": {},
   "outputs": [
    {
     "name": "stdout",
     "output_type": "stream",
     "text": [
      "this is string example....wow!!!\n"
     ]
    }
   ],
   "source": [
    "str = \"THIS IS STRING EXAMPLE....WOW!!!\"\n",
    "print (str.lower())"
   ]
  },
  {
   "cell_type": "markdown",
   "id": "upper-czech",
   "metadata": {},
   "source": [
    "### Istrip Method\n",
    "\n",
    "Returns a copy of the string in which all chars have been stripped from the beginning of the string\n",
    "\n",
    "**Syntax** - str.lstrip([chars])\n",
    "\n",
    "* chars - You can supply what chars have to be trimmed."
   ]
  },
  {
   "cell_type": "code",
   "execution_count": 28,
   "id": "positive-output",
   "metadata": {},
   "outputs": [
    {
     "name": "stdout",
     "output_type": "stream",
     "text": [
      "this is string example....wow!!!\n",
      "this is string example....wow!!!*****\n"
     ]
    }
   ],
   "source": [
    "str = \" this is string example....wow!!!\"\n",
    "print (str.lstrip())\n",
    "str = \"*****this is string example....wow!!!*****\"\n",
    "print (str.lstrip('*'))"
   ]
  },
  {
   "cell_type": "markdown",
   "id": "exempt-tennessee",
   "metadata": {},
   "source": [
    "### maketrans() Method\n",
    "\n",
    "Returns a translation table that maps each character in the intabstring into the character at the same position in the outtab string. Then this table is passed to the translate() function.\n",
    "\n",
    "**Syntax** - str.maketrans(intab, outtab]);\n",
    "\n",
    "* intab - This is the string having actual characters.\n",
    "* outtab - This is the string having corresponding mapping character."
   ]
  },
  {
   "cell_type": "code",
   "execution_count": 29,
   "id": "temporal-george",
   "metadata": {},
   "outputs": [
    {
     "name": "stdout",
     "output_type": "stream",
     "text": [
      "th3s 3s str3ng 2x1mpl2....w4w!!!\n"
     ]
    }
   ],
   "source": [
    "intab = \"aeiou\"\n",
    "outtab = \"12345\"\n",
    "trantab = str.maketrans(intab, outtab)\n",
    "str = \"this is string example....wow!!!\"\n",
    "print (str.translate(trantab))"
   ]
  },
  {
   "cell_type": "markdown",
   "id": "exotic-thought",
   "metadata": {},
   "source": [
    "### max() Method \n",
    "\n",
    "Returns the max alphabetical character from the string str."
   ]
  },
  {
   "cell_type": "code",
   "execution_count": 30,
   "id": "polyphonic-alabama",
   "metadata": {},
   "outputs": [
    {
     "name": "stdout",
     "output_type": "stream",
     "text": [
      "Max character: y\n",
      "Max character: x\n"
     ]
    }
   ],
   "source": [
    "str = \"this is a string example....really!!!\"\n",
    "print (\"Max character: \" + max(str))\n",
    "str = \"this is a string example....wow!!!\"\n",
    "print (\"Max character: \" + max(str))"
   ]
  },
  {
   "cell_type": "markdown",
   "id": "manual-intensity",
   "metadata": {},
   "source": [
    "### min() Method \n",
    "\n",
    "Returns the min alphabetical character from the string str."
   ]
  },
  {
   "cell_type": "code",
   "execution_count": 31,
   "id": "wrapped-lotus",
   "metadata": {},
   "outputs": [
    {
     "name": "stdout",
     "output_type": "stream",
     "text": [
      "Min character: .\n",
      "Min character: A\n"
     ]
    }
   ],
   "source": [
    "str = \"www.tutorialspoint.com\"\n",
    "print (\"Min character: \" + min(str))\n",
    "str = \"TUTORIALSPOINT\"\n",
    "print (\"Min character: \" + min(str))"
   ]
  },
  {
   "cell_type": "markdown",
   "id": "mounted-berkeley",
   "metadata": {},
   "source": [
    "### replace() Method\n",
    "\n",
    "Returns a copy of the string in which the occurrences of old have been replaced with new, optionally restricting the number of replacements to max.\n",
    "\n",
    "**Syntax** - str.replace(old, new[, max])\n",
    "\n",
    "* old - This is old substring to be replaced.\n",
    "* new - This is new substring, which would replace old substring.\n",
    "* max - If this optional argument max is given, only the first count occurrences are replaced."
   ]
  },
  {
   "cell_type": "code",
   "execution_count": 32,
   "id": "honey-closure",
   "metadata": {},
   "outputs": [
    {
     "name": "stdout",
     "output_type": "stream",
     "text": [
      "thwas was string example....wow!!! thwas was really string\n",
      "thwas was string example....wow!!! thwas is really string\n"
     ]
    }
   ],
   "source": [
    "str = \"this is string example....wow!!! this is really string\"\n",
    "print (str.replace(\"is\", \"was\"))\n",
    "print (str.replace(\"is\", \"was\", 3))"
   ]
  },
  {
   "cell_type": "markdown",
   "id": "equal-commerce",
   "metadata": {},
   "source": [
    "### rfind() Method\n",
    "\n",
    "Returns the last index where the substring str is found, or -1 if no such index exists, optionally restricting the search to string[beg:end].\n",
    "\n",
    "**Syntax** - str.rfind(str, beg=0 end=len(string))\n",
    "\n",
    "* str - This specifies the string to be searched.\n",
    "* beg - This is the starting index, by default its 0.\n",
    "* end - This is the ending index, by default its equal to the length of the string."
   ]
  },
  {
   "cell_type": "code",
   "execution_count": 33,
   "id": "mineral-strip",
   "metadata": {},
   "outputs": [
    {
     "name": "stdout",
     "output_type": "stream",
     "text": [
      "5\n",
      "5\n",
      "-1\n",
      "2\n",
      "2\n",
      "-1\n"
     ]
    }
   ],
   "source": [
    "str1 = \"this is really a string example....wow!!!\"\n",
    "str2 = \"is\"\n",
    "print (str1.rfind(str2))\n",
    "print (str1.rfind(str2, 0, 10))\n",
    "print (str1.rfind(str2, 10, 0))\n",
    "print (str1.find(str2))\n",
    "print (str1.find(str2, 0, 10))\n",
    "print (str1.find(str2, 10, 0))"
   ]
  },
  {
   "cell_type": "markdown",
   "id": "monetary-contact",
   "metadata": {},
   "source": [
    "### rindex() Method\n",
    "\n",
    "Returns the last index where the substring str is found, or raises an exception if no such index exists, optionally restricting the search to string[beg:end]."
   ]
  },
  {
   "cell_type": "code",
   "execution_count": 34,
   "id": "sorted-illness",
   "metadata": {},
   "outputs": [
    {
     "name": "stdout",
     "output_type": "stream",
     "text": [
      "5\n"
     ]
    }
   ],
   "source": [
    "str1 = \"this is really a string example....wow!!!\"\n",
    "str2 = \"is\"\n",
    "print (str1.rindex(str2))\n",
    "# print (str1.rindex(str2,10)) --> Error: ValueError: substring not found"
   ]
  },
  {
   "cell_type": "markdown",
   "id": "religious-roulette",
   "metadata": {},
   "source": [
    "### rjust() Method\n",
    "\n",
    "Returns the string right justified in a string of length width."
   ]
  },
  {
   "cell_type": "code",
   "execution_count": 35,
   "id": "soviet-summary",
   "metadata": {},
   "outputs": [
    {
     "name": "stdout",
     "output_type": "stream",
     "text": [
      "******************this is string example....wow!!!\n"
     ]
    }
   ],
   "source": [
    "str = \"this is string example....wow!!!\"\n",
    "print (str.rjust(50, '*'))"
   ]
  },
  {
   "cell_type": "markdown",
   "id": "further-copyright",
   "metadata": {},
   "source": [
    "### rstrip() Method\n",
    "\n",
    "Returns a copy of the string in which all chars have been stripped from the end of the string (default whitespace characters).\n",
    "\n",
    "**Syntax** - str.rstrip([chars])\n",
    "\n",
    "* chars - You can supply what chars have to be trimmed."
   ]
  },
  {
   "cell_type": "code",
   "execution_count": 36,
   "id": "spanish-priority",
   "metadata": {},
   "outputs": [
    {
     "name": "stdout",
     "output_type": "stream",
     "text": [
      " this is string example....wow!!!\n",
      "*****this is string example....wow!!!\n"
     ]
    }
   ],
   "source": [
    "str = \" this is string example....wow!!! \"\n",
    "print (str.rstrip())\n",
    "str = \"*****this is string example....wow!!!*****\"\n",
    "print (str.rstrip('*'))"
   ]
  },
  {
   "cell_type": "markdown",
   "id": "promising-personal",
   "metadata": {},
   "source": [
    "### split() Method\n",
    "\n",
    "Returns a list of all the words in the string, using str as the separator (splits on all whitespace if left unspecified), optionally limiting the number of splits to num.\n",
    "\n",
    "**Syntax** - str.split(str=\"\", num=string.count(str))\n",
    "\n",
    "* str - This is any delimeter, by default it is space.\n",
    "* num - this is number of lines to be made"
   ]
  },
  {
   "cell_type": "code",
   "execution_count": 37,
   "id": "light-paste",
   "metadata": {},
   "outputs": [
    {
     "name": "stdout",
     "output_type": "stream",
     "text": [
      "['this', 'is', 'string', 'example....wow!!!']\n",
      "['th', 's is string example....wow!!!']\n",
      "['this is string example....', 'o', '!!!']\n"
     ]
    }
   ],
   "source": [
    "str = \"this is string example....wow!!!\"\n",
    "print (str.split( ))\n",
    "print (str.split('i',1))\n",
    "print (str.split('w'))"
   ]
  },
  {
   "cell_type": "markdown",
   "id": "chief-buffalo",
   "metadata": {},
   "source": [
    "### splitlines() Method\n",
    "\n",
    "Returns a list with all the lines in string, optionally including the line breaks (if num is supplied and is true).\n",
    "\n",
    "**Syntax** - str.splitlines( num=string.count('\\n'))\n",
    "\n",
    "* num - This is any number, if present then it would be assumed that the line breaks need to be included in the lines."
   ]
  },
  {
   "cell_type": "code",
   "execution_count": 38,
   "id": "employed-bones",
   "metadata": {},
   "outputs": [
    {
     "name": "stdout",
     "output_type": "stream",
     "text": [
      "['this is ', 'string example....', 'wow!!!']\n"
     ]
    }
   ],
   "source": [
    "str = \"this is \\nstring example....\\nwow!!!\"\n",
    "print (str.splitlines( ))"
   ]
  },
  {
   "cell_type": "markdown",
   "id": "permanent-custody",
   "metadata": {},
   "source": [
    "### startswith() Method\n",
    "\n",
    "Checks whether the string starts with str, optionally restricting the matching with the given indices start and end."
   ]
  },
  {
   "cell_type": "code",
   "execution_count": 39,
   "id": "manual-genome",
   "metadata": {},
   "outputs": [
    {
     "name": "stdout",
     "output_type": "stream",
     "text": [
      "True\n",
      "True\n",
      "False\n"
     ]
    }
   ],
   "source": [
    "str = \"this is string example....wow!!!\"\n",
    "print (str.startswith( 'this' ))\n",
    "print (str.startswith( 'string', 8 ))\n",
    "print (str.startswith( 'this', 2, 4 ))"
   ]
  },
  {
   "cell_type": "markdown",
   "id": "romantic-terror",
   "metadata": {},
   "source": [
    "### strip() Method\n",
    "\n",
    "Returns a copy of the string in which all chars have been stripped from the beginning and the end of the string (default whitespace characters)."
   ]
  },
  {
   "cell_type": "code",
   "execution_count": 40,
   "id": "medieval-joyce",
   "metadata": {},
   "outputs": [
    {
     "name": "stdout",
     "output_type": "stream",
     "text": [
      "this is string example....wow!!!\n"
     ]
    }
   ],
   "source": [
    "str = \"*****this is string example....wow!!!*****\"\n",
    "print (str.strip( '*' ))"
   ]
  },
  {
   "cell_type": "markdown",
   "id": "oriental-visitor",
   "metadata": {},
   "source": [
    "### swapcase() Method\n",
    "\n",
    "Returns a copy of the string in which all the case-based characters have had their case swapped."
   ]
  },
  {
   "cell_type": "code",
   "execution_count": 41,
   "id": "instructional-intranet",
   "metadata": {},
   "outputs": [
    {
     "name": "stdout",
     "output_type": "stream",
     "text": [
      "THIS IS STRING EXAMPLE....WOW!!!\n",
      "tHIS iS sTRING eXAMPLE....wow!!!\n"
     ]
    }
   ],
   "source": [
    "str = \"this is string example....wow!!!\"\n",
    "print (str.swapcase())\n",
    "str = \"This Is String Example....WOW!!!\"\n",
    "print (str.swapcase())"
   ]
  },
  {
   "cell_type": "markdown",
   "id": "mobile-allen",
   "metadata": {},
   "source": [
    "### title() Method\n",
    "\n",
    "Returns a copy of the string in which first characters of all the words are capitalized."
   ]
  },
  {
   "cell_type": "code",
   "execution_count": 42,
   "id": "circular-mobility",
   "metadata": {},
   "outputs": [
    {
     "name": "stdout",
     "output_type": "stream",
     "text": [
      "This Is String Example....Wow!!!\n"
     ]
    }
   ],
   "source": [
    "str = \"this is string example....wow!!!\"\n",
    "print (str.title())"
   ]
  },
  {
   "cell_type": "markdown",
   "id": "architectural-triple",
   "metadata": {},
   "source": [
    "### translate() Method\n",
    "\n",
    "Returns a copy of the string in which all the characters have been translated using table (constructed with the maketrans() function in the string module), optionally deleting all characters found in the string deletechars.\n",
    "\n",
    "**Syntax** - str.translate(table[, deletechars]);\n",
    "\n",
    "* table - You can use the maketrans() helper function in the string module to create a translation table.\n",
    "* deletechars - The list of characters to be removed from the source string."
   ]
  },
  {
   "cell_type": "code",
   "execution_count": 43,
   "id": "elegant-tumor",
   "metadata": {},
   "outputs": [
    {
     "name": "stdout",
     "output_type": "stream",
     "text": [
      "th3s 3s str3ng 2112pl2....w4w!!!\n"
     ]
    }
   ],
   "source": [
    "intab = \"aeiouxm\"\n",
    "outtab = \"1234512\"\n",
    "trantab = str.maketrans(intab, outtab)\n",
    "str = \"this is string example....wow!!!\"\n",
    "print (str.translate(trantab))"
   ]
  },
  {
   "cell_type": "markdown",
   "id": "sophisticated-boston",
   "metadata": {},
   "source": [
    "### upper() Method\n",
    "\n",
    "Returns a copy of the string in which all case-based characters have been uppercased."
   ]
  },
  {
   "cell_type": "code",
   "execution_count": 44,
   "id": "smaller-suspension",
   "metadata": {},
   "outputs": [
    {
     "name": "stdout",
     "output_type": "stream",
     "text": [
      "str.upper :  THIS IS STRING EXAMPLE....WOW!!!\n"
     ]
    }
   ],
   "source": [
    "str = \"this is string example....wow!!!\"\n",
    "print (\"str.upper : \",str.upper())"
   ]
  },
  {
   "cell_type": "markdown",
   "id": "useful-commerce",
   "metadata": {},
   "source": [
    "### zfill() Method\n",
    "\n",
    "Pads string on the left with zeros to fill width.\n",
    "\n",
    "**Syntax** - str.zfill(width)\n",
    "\n",
    "* width - This is final width of the string. This is the width which we would get after filling zeros."
   ]
  },
  {
   "cell_type": "code",
   "execution_count": 45,
   "id": "polish-flesh",
   "metadata": {},
   "outputs": [
    {
     "name": "stdout",
     "output_type": "stream",
     "text": [
      "str.zfill :  00000000this is string example....wow!!!\n",
      "str.zfill :  000000000000000000this is string example....wow!!!\n"
     ]
    }
   ],
   "source": [
    "str = \"this is string example....wow!!!\"\n",
    "print (\"str.zfill : \",str.zfill(40))\n",
    "print (\"str.zfill : \",str.zfill(50))"
   ]
  },
  {
   "cell_type": "markdown",
   "id": "historic-lyric",
   "metadata": {},
   "source": [
    "### isdecimal() Method\n",
    "\n",
    "Checks whether the string consists of only decimal characters."
   ]
  },
  {
   "cell_type": "code",
   "execution_count": 46,
   "id": "animated-sunglasses",
   "metadata": {},
   "outputs": [
    {
     "name": "stdout",
     "output_type": "stream",
     "text": [
      "False\n",
      "True\n"
     ]
    }
   ],
   "source": [
    "str = \"this2016\"\n",
    "print (str.isdecimal())\n",
    "str = \"23443434\"\n",
    "print (str.isdecimal())"
   ]
  }
 ],
 "metadata": {
  "kernelspec": {
   "display_name": "Python 3",
   "language": "python",
   "name": "python3"
  },
  "language_info": {
   "codemirror_mode": {
    "name": "ipython",
    "version": 3
   },
   "file_extension": ".py",
   "mimetype": "text/x-python",
   "name": "python",
   "nbconvert_exporter": "python",
   "pygments_lexer": "ipython3",
   "version": "3.9.2"
  }
 },
 "nbformat": 4,
 "nbformat_minor": 5
}
