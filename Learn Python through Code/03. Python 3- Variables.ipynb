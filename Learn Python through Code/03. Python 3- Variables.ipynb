{
 "cells": [
  {
   "cell_type": "markdown",
   "id": "intermediate-rochester",
   "metadata": {},
   "source": [
    "# Variables\n",
    "\n",
    "## Variables are reserved memory locations to store values\n",
    "\n",
    "### Assigning Values to Variables"
   ]
  },
  {
   "cell_type": "markdown",
   "id": "massive-relative",
   "metadata": {},
   "source": [
    "Python variables do not need explicit declaration to reserve memory space. The equal sign (=) is used to assign values to variables.\n",
    "\n",
    "The operand to the left of the = operator is the name of the variable and the operand to the right of the = operator is the value stored in the variable."
   ]
  },
  {
   "cell_type": "code",
   "execution_count": 1,
   "id": "essential-electricity",
   "metadata": {},
   "outputs": [
    {
     "name": "stdout",
     "output_type": "stream",
     "text": [
      "100\n",
      "1000.0\n",
      "John\n"
     ]
    }
   ],
   "source": [
    "counter = 100 # An integer assignment\n",
    "miles = 1000.0 # A floating point\n",
    "name = \"John\" # A string\n",
    "print (counter)\n",
    "print (miles)\n",
    "print (name)"
   ]
  },
  {
   "cell_type": "markdown",
   "id": "future-visit",
   "metadata": {},
   "source": [
    "### Multiple Assignment\n",
    "\n",
    "Python allows you to assign a single value to several variables simultaneously."
   ]
  },
  {
   "cell_type": "code",
   "execution_count": 2,
   "id": "opened-morning",
   "metadata": {},
   "outputs": [
    {
     "name": "stdout",
     "output_type": "stream",
     "text": [
      "1\n",
      "6\n",
      "-4\n"
     ]
    }
   ],
   "source": [
    "a= b= c= 1 # All the three variables are assigned to the same memory location.\n",
    "\n",
    "print(a)\n",
    "print(b + 5)\n",
    "print(c - 5)"
   ]
  },
  {
   "cell_type": "markdown",
   "id": "personalized-inclusion",
   "metadata": {},
   "source": [
    "You can also assign multiple objects to multiple variables."
   ]
  },
  {
   "cell_type": "code",
   "execution_count": 3,
   "id": "taken-nerve",
   "metadata": {},
   "outputs": [
    {
     "name": "stdout",
     "output_type": "stream",
     "text": [
      "1\n",
      "2\n",
      "john\n"
     ]
    }
   ],
   "source": [
    "a, b, c = 1, 2, \"john\"\n",
    "\n",
    "print(a)\n",
    "print(b)\n",
    "print(c)"
   ]
  },
  {
   "cell_type": "markdown",
   "id": "alien-spread",
   "metadata": {},
   "source": [
    "### Standard Data Types\n",
    "\n",
    "Python has five standard data types-\n",
    "* Numbers\n",
    "* String\n",
    "* List\n",
    "* Tuple\n",
    "* Dictionary"
   ]
  },
  {
   "cell_type": "markdown",
   "id": "bronze-respect",
   "metadata": {},
   "source": [
    "### Python Numbers\n",
    "\n",
    "Number data types store numeric values. Number objects are created when you assign a value to them."
   ]
  },
  {
   "cell_type": "code",
   "execution_count": 4,
   "id": "christian-guess",
   "metadata": {},
   "outputs": [
    {
     "name": "stdout",
     "output_type": "stream",
     "text": [
      "10\n",
      "20\n"
     ]
    }
   ],
   "source": [
    "num1= 10\n",
    "num2= 20\n",
    "\n",
    "print(num1)\n",
    "print(num2)"
   ]
  },
  {
   "cell_type": "markdown",
   "id": "settled-shield",
   "metadata": {},
   "source": [
    "You can also delete the reference to a number object by using the **del** statement."
   ]
  },
  {
   "cell_type": "code",
   "execution_count": 5,
   "id": "opposed-relief",
   "metadata": {},
   "outputs": [],
   "source": [
    "del num1, num2\n",
    "# print(num1) # Error: NameError: name 'num1' is not defined"
   ]
  },
  {
   "cell_type": "markdown",
   "id": "defensive-teacher",
   "metadata": {},
   "source": [
    "Python supports three numerical types namely: \n",
    "1. int\n",
    "2. float\n",
    "3. complex"
   ]
  },
  {
   "cell_type": "markdown",
   "id": "aggressive-score",
   "metadata": {},
   "source": [
    "### Python Strings\n",
    "\n",
    "Strings in Python are identified as a contiguous set of characters represented in the quotation marks. Python allows either pair of single or double quotes. Subsets of strings can be taken using the slice operator ([ ] and [:] ) with indexes starting at 0 in the beginning of the string and working their way from -1 to the end."
   ]
  },
  {
   "cell_type": "code",
   "execution_count": 6,
   "id": "forbidden-hopkins",
   "metadata": {},
   "outputs": [
    {
     "name": "stdout",
     "output_type": "stream",
     "text": [
      "Hello World!\n",
      "H\n",
      "llo\n",
      "llo World!\n",
      "Hello World!Hello World!\n",
      "Hello World!TEST\n"
     ]
    }
   ],
   "source": [
    "str = 'Hello World!'\n",
    "print (str) # Prints complete string\n",
    "print (str[0]) # Prints first character of the string\n",
    "print (str[2:5]) # Prints characters starting from 3rd to 5th\n",
    "print (str[2:]) # Prints string starting from 3rd character\n",
    "print (str * 2) # Prints string two times --> String Repetition Operator - *\n",
    "print (str + \"TEST\") # Prints concatenated string --> String Concatenation Operator - +"
   ]
  },
  {
   "cell_type": "markdown",
   "id": "adapted-elizabeth",
   "metadata": {},
   "source": [
    "### Python Lists\n",
    "\n",
    "Lists are the most versatile of Python's compound data types. A list contains items separated by commas and enclosed within square brackets ([ ]). To some extent, lists are similar to arrays in C. One of the differences between them is that all the items belonging to a list can be of different data type."
   ]
  },
  {
   "cell_type": "markdown",
   "id": "electoral-customer",
   "metadata": {},
   "source": [
    "Just like Python Strings, the values stored in a list can be accessed using the slice operator ([ ] and [:]) with indexes starting at 0 in the beginning of the list and working their way to end -1."
   ]
  },
  {
   "cell_type": "code",
   "execution_count": 7,
   "id": "connected-eligibility",
   "metadata": {},
   "outputs": [
    {
     "name": "stdout",
     "output_type": "stream",
     "text": [
      "['abcd', 786, 2.23, 'john', 70.2]\n",
      "abcd\n",
      "[786, 2.23]\n",
      "[2.23, 'john', 70.2]\n",
      "[123, 'john', 123, 'john']\n",
      "['abcd', 786, 2.23, 'john', 70.2, 123, 'john']\n"
     ]
    }
   ],
   "source": [
    "list = [ 'abcd', 786 , 2.23, 'john', 70.2 ]\n",
    "tinylist = [123, 'john']\n",
    "print (list) # Prints complete list\n",
    "print (list[0]) # Prints first element of the list\n",
    "print (list[1:3]) # Prints elements starting from 2nd till 3rd\n",
    "print (list[2:]) # Prints elements starting from 3rd element\n",
    "print (tinylist * 2) # Prints list two times --> List Repetition Operator - *\n",
    "print (list + tinylist) # Prints concatenated lists  --> List Concatenation Operator - +"
   ]
  },
  {
   "cell_type": "markdown",
   "id": "dominant-dealer",
   "metadata": {},
   "source": [
    "### Python Tuples\n",
    "\n",
    "A tuple is another sequence data type that is similar to the list. A tuple consists of a number of values separated by commas. Unlike lists, however, tuples are enclosed within parenthesis.\n",
    "\n",
    "The main difference between lists and tuples is- Lists are enclosed in brackets ( [ ] ) and their elements and size can be changed, while tuples are enclosed in parentheses ( ( ) ) and cannot be updated. Tuples can be thought of as read-only lists."
   ]
  },
  {
   "cell_type": "code",
   "execution_count": 8,
   "id": "waiting-damages",
   "metadata": {},
   "outputs": [
    {
     "name": "stdout",
     "output_type": "stream",
     "text": [
      "('abcd', 786, 2.23, 'john', 70.2)\n",
      "abcd\n",
      "(786, 2.23)\n",
      "(2.23, 'john', 70.2)\n",
      "(123, 'john', 123, 'john')\n",
      "('abcd', 786, 2.23, 'john', 70.2, 123, 'john')\n"
     ]
    }
   ],
   "source": [
    "tuple = ( 'abcd', 786 , 2.23, 'john', 70.2 )\n",
    "tinytuple = (123, 'john')\n",
    "print (tuple) # Prints complete tuple\n",
    "print (tuple[0]) # Prints first element of the tuple\n",
    "print (tuple[1:3]) # Prints elements starting from 2nd till 3rd\n",
    "print (tuple[2:]) # Prints elements starting from 3rd element\n",
    "print (tinytuple * 2) # Prints tuple two times --> Tuple Repetition Operator - *\n",
    "print (tuple + tinytuple) # Prints concatenated tuple --> Tuple Concatenation Operator - +"
   ]
  },
  {
   "cell_type": "code",
   "execution_count": 9,
   "id": "pending-prevention",
   "metadata": {},
   "outputs": [
    {
     "name": "stdout",
     "output_type": "stream",
     "text": [
      "('abcd', 786, 2.23, 'john', 70.2)\n",
      "['abcd', 786, 1000, 'john', 70.2]\n"
     ]
    }
   ],
   "source": [
    "tuple = ( 'abcd', 786 , 2.23, 'john', 70.2 )\n",
    "list = [ 'abcd', 786 , 2.23, 'john', 70.2 ]\n",
    "# tuple[2] = 1000 # Error: TypeError: 'tuple' object does not support item assignment\n",
    "list[2] = 1000 # Valid syntax with list\n",
    "\n",
    "print(tuple)\n",
    "print(list)"
   ]
  },
  {
   "cell_type": "markdown",
   "id": "sufficient-preservation",
   "metadata": {},
   "source": [
    "### Python Dictionary\n",
    "\n",
    "Python's dictionaries are kind of hash-table type. They consist of key-value pairs. A dictionary key can be almost any Python type, but are usually numbers or strings. Values, on the other hand, can be any arbitrary Python object.\n",
    "\n",
    "Dictionaries are enclosed by curly braces ({ }) and values can be assigned and accessed using square braces ([ ])"
   ]
  },
  {
   "cell_type": "code",
   "execution_count": 10,
   "id": "velvet-turning",
   "metadata": {},
   "outputs": [
    {
     "name": "stdout",
     "output_type": "stream",
     "text": [
      "This is one\n",
      "This is two\n",
      "{'name': 'john', 'code': 6734, 'dept': 'sales'}\n",
      "dict_keys(['name', 'code', 'dept'])\n",
      "dict_values(['john', 6734, 'sales'])\n"
     ]
    }
   ],
   "source": [
    "dict = {}\n",
    "dict['one'] = \"This is one\"\n",
    "dict[2] = \"This is two\"\n",
    "tinydict = {'name': 'john','code':6734, 'dept': 'sales'}\n",
    "print (dict['one']) # Prints value for 'one' key\n",
    "print (dict[2]) # Prints value for 2 key\n",
    "print (tinydict) # Prints complete dictionary\n",
    "print (tinydict.keys()) # Prints all the keys\n",
    "print (tinydict.values()) # Prints all the values"
   ]
  },
  {
   "cell_type": "markdown",
   "id": "realistic-express",
   "metadata": {},
   "source": [
    "### Data Type Conversion\n",
    "\n",
    "Sometimes, you may need to perform conversions between the built-in types. To convert between types, you simply use the type-name as a function"
   ]
  },
  {
   "cell_type": "markdown",
   "id": "chief-oxford",
   "metadata": {},
   "source": [
    "| Function | Description |\n",
    "|----------|-------------|\n",
    "| int(x [,base]) | Converts x to an integer. The base specifies the base if x is a string.|\n",
    "| float(x) | Converts x to a floating-point number.|\n",
    "| complex(real [,imag]) | Creates a complex number. | \n",
    "| str(x) | Converts object x to a string representation. |\n",
    "| repr(x) | Converts object x to an expression string. |\n",
    "| eval(str) | Evaluates a string and returns an object. |\n",
    "| tuple(s) | Converts s to a tuple.|\n",
    "| list(s) | Converts s to a list. |\n",
    "| set(s) | Converts s to a set. |\n",
    "| dict(s) | Creates a dictionary. d must be a sequence of (key,value) tuples. |\n",
    "| frozenset(s) | Converts s to a frozen set. |\n",
    "| chr(x) | Converts an integer to a character. |\n",
    "| unichr(x) | Converts an integer to a Unicode character. |\n",
    "| ord(x) | Converts a single character to its integer value. |\n",
    "| hex(x) | Converts an integer to a hexadecimal string. |\n",
    "| oct(x) | Converts an integer to an octal string. |"
   ]
  }
 ],
 "metadata": {
  "kernelspec": {
   "display_name": "Python 3",
   "language": "python",
   "name": "python3"
  },
  "language_info": {
   "codemirror_mode": {
    "name": "ipython",
    "version": 3
   },
   "file_extension": ".py",
   "mimetype": "text/x-python",
   "name": "python",
   "nbconvert_exporter": "python",
   "pygments_lexer": "ipython3",
   "version": "3.9.2"
  }
 },
 "nbformat": 4,
 "nbformat_minor": 5
}
