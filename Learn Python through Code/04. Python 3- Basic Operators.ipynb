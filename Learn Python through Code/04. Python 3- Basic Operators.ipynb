{
 "cells": [
  {
   "cell_type": "markdown",
   "id": "sweet-meter",
   "metadata": {},
   "source": [
    "# Operators\n",
    "\n",
    "#### Operators are the constructs, which can manipulate the value of operands. Consider the expression 4 + 5 = 9. Here, 4 and 5 are called operands and + is called the operator."
   ]
  },
  {
   "cell_type": "markdown",
   "id": "current-setting",
   "metadata": {},
   "source": [
    "### Types of Operators"
   ]
  },
  {
   "cell_type": "markdown",
   "id": "signed-reputation",
   "metadata": {},
   "source": [
    "Python language supports the following types of operators-\n",
    "* Arithmetic Operators\n",
    "* Comparison (Relational) Operators\n",
    "* Assignment Operators\n",
    "* Logical Operators\n",
    "* Bitwise Operators\n",
    "* Membership Operators\n",
    "* Identity Operators"
   ]
  },
  {
   "cell_type": "markdown",
   "id": "aggregate-advance",
   "metadata": {},
   "source": [
    "### Python Arithmetic Operators\n",
    "\n",
    "Assume variable a holds the value 10 and variable b holds the value 21, then-\n",
    "\n",
    "| Operator | Name| Description | Example |\n",
    "|----------|-------|------|---------|\n",
    "| + | Addition | Adds values on either side of the operator. | a + b = 31 |\n",
    "| - | Subtraction | Subtracts right hand operand from left hand operand. | a – b = -11 |\n",
    "| * | Multiplication | Multiplies values on either side of the operator. | a * b = 210 |\n",
    "| / | Division | Divides left hand operand by right hand operand. | b / a = 2.1 |\n",
    "| % | Modulus | Divides left hand operand by right hand operand and returns remainder. | b % a = 1 |\n",
    "| ** |  Exponent | Performs exponential (power) calculation on operators. | a**b =10 ^ 20 |\n",
    "| // | Floor Division | The division of operands where the result is the quotient in which the digits after the decimal point are removed. | 9//2 = 4 and 9.0//2.0 = 4.0 |"
   ]
  },
  {
   "cell_type": "code",
   "execution_count": 1,
   "id": "lovely-diameter",
   "metadata": {},
   "outputs": [
    {
     "name": "stdout",
     "output_type": "stream",
     "text": [
      "Line 1 - Value of c is  31\n",
      "Line 2 - Value of c is  11\n",
      "Line 3 - Value of c is  210\n",
      "Line 4 - Value of c is  2.1\n",
      "Line 5 - Value of c is  1\n",
      "Line 6 - Value of c is  8\n",
      "Line 7 - Value of c is  2\n"
     ]
    }
   ],
   "source": [
    "a = 21\n",
    "b = 10\n",
    "c = 0\n",
    "\n",
    "c = a + b\n",
    "print (\"Line 1 - Value of c is \", c)\n",
    "\n",
    "c = a - b\n",
    "print (\"Line 2 - Value of c is \", c )\n",
    "\n",
    "c = a * b\n",
    "print (\"Line 3 - Value of c is \", c)\n",
    "\n",
    "c = a / b\n",
    "print (\"Line 4 - Value of c is \", c )\n",
    "\n",
    "c = a % b\n",
    "print (\"Line 5 - Value of c is \", c)\n",
    "\n",
    "a = 2\n",
    "b = 3\n",
    "c = a**b\n",
    "print (\"Line 6 - Value of c is \", c)\n",
    "\n",
    "a = 11\n",
    "b = 5\n",
    "c = a//b\n",
    "print (\"Line 7 - Value of c is \", c)"
   ]
  },
  {
   "cell_type": "markdown",
   "id": "duplicate-fifth",
   "metadata": {},
   "source": [
    "### Python Comparison  / Relational Operators\n",
    "\n",
    "Assume variable a holds the value 10 and variable b holds the value 20\n",
    "\n",
    "| Operator | Description | Example |\n",
    "|----------|-------------|---------|\n",
    "| == | If the values of two operands are equal, then the condition becomes true. | (a == b) is not true. |\n",
    "| != | If values of two operands are not equal, then condition becomes true. | (a!= b) is true. |\n",
    "| > | If the value of left operand is greater than the value of right operand, then condition becomes true. | (a > b) is not true. |\n",
    "| < | If the value of left operand is less than the value of right operand, then condition becomes true. | (a < b) is true. |\n",
    "| >= | If the value of left operand is greater than or equal to the value of right operand, then condition becomes true. | (a >= b) is not true. |\n",
    "| <= | If the value of left operand is less than or equal to the value of right operand, then condition becomes true. | (a <= b) is true. |"
   ]
  },
  {
   "cell_type": "code",
   "execution_count": 2,
   "id": "electoral-rally",
   "metadata": {},
   "outputs": [
    {
     "name": "stdout",
     "output_type": "stream",
     "text": [
      "Line 1 - a is not equal to b\n",
      "Line 2 - a is not equal to b\n",
      "Line 3 - a is not less than b\n",
      "Line 4 - a is greater than b\n",
      "Line 5 - a is either less than or equal to b\n",
      "Line 6 - b is either greater than or equal to b\n"
     ]
    }
   ],
   "source": [
    "a = 21\n",
    "b = 10\n",
    "if ( a == b ):\n",
    "    print (\"Line 1 - a is equal to b\")\n",
    "else:\n",
    "    print (\"Line 1 - a is not equal to b\")\n",
    "if ( a != b ):\n",
    "    print (\"Line 2 - a is not equal to b\")\n",
    "else:\n",
    "    print (\"Line 2 - a is equal to b\")\n",
    "if ( a < b ):\n",
    "    print (\"Line 3 - a is less than b\" )\n",
    "else:\n",
    "    print (\"Line 3 - a is not less than b\")\n",
    "if ( a > b ):\n",
    "    print (\"Line 4 - a is greater than b\")\n",
    "else:\n",
    "    print (\"Line 4 - a is not greater than b\")\n",
    "    \n",
    "a,b=b,a #values of a and b swapped. a becomes 10, b becomes 21\n",
    "\n",
    "if ( a <= b ):\n",
    "    print (\"Line 5 - a is either less than or equal to b\")\n",
    "else:\n",
    "    print (\"Line 5 - a is neither less than nor equal to b\")\n",
    "if ( b >= a ):\n",
    "    print (\"Line 6 - b is either greater than or equal to b\")\n",
    "else:\n",
    "    print (\"Line 6 - b is neither greater than nor equal to b\")"
   ]
  },
  {
   "cell_type": "markdown",
   "id": "wanted-usage",
   "metadata": {},
   "source": [
    "### Python Assignment Operators\n",
    "\n",
    "Assume variable a holds the value 10 and variable b holds the value 20\n",
    "\n",
    "| Operator | Name| Description | Example |\n",
    "|----------|-------|------|---------|\n",
    "| = | Assign | Assigns values from right side operands to left side operand | c = a + b assigns value of a + b into c |\n",
    "| += |  Add AND | It adds right operand to the left operand and assign the result to left operand | c += a is equivalent to c = c + a |\n",
    "| -= | Subtract AND | It subtracts right operand from the left operand and assign the result to left operand | c -= a is equivalent to c = c - a |\n",
    "| *= | Multiply AND | It multiplies right operand with the left operand and assign the result to left operand | c *= a is equivalent to c = c * a|\n",
    "| /= | Divide AND | It divides left operand with the right operand and assign the result to left operand | c /= a is equivalent to c = c / a |\n",
    "| %= | Modulus AND | It takes modulus using two operands and assign the result to left operand | c %= a is equivalent to c = c % a |\n",
    "| **= | Exponent AND | Performs exponential (power) calculation on operators and assign value to the left operand | c * *= a is equivalent to c = c * * a |\n",
    "| //= | Floor Division | It performs floor division on operators and assign value to the left operand | c //= a is equivalent to c = c // a |"
   ]
  },
  {
   "cell_type": "code",
   "execution_count": 3,
   "id": "ethical-renewal",
   "metadata": {},
   "outputs": [
    {
     "name": "stdout",
     "output_type": "stream",
     "text": [
      "Line 1 - Value of c is  31\n",
      "Line 2 - Value of c is  52\n",
      "Line 3 - Value of c is  1092\n",
      "Line 4 - Value of c is  52.0\n",
      "Line 5 - Value of c is  2\n",
      "Line 6 - Value of c is  2097152\n",
      "Line 7 - Value of c is  99864\n"
     ]
    }
   ],
   "source": [
    "a = 21\n",
    "b = 10\n",
    "c = 0\n",
    "c = a + b\n",
    "print (\"Line 1 - Value of c is \", c)\n",
    "c += a\n",
    "print (\"Line 2 - Value of c is \", c )\n",
    "c *= a\n",
    "print (\"Line 3 - Value of c is \", c )\n",
    "c /= a\n",
    "print (\"Line 4 - Value of c is \", c )\n",
    "c = 2\n",
    "c %= a\n",
    "print (\"Line 5 - Value of c is \", c)\n",
    "c **= a\n",
    "print (\"Line 6 - Value of c is \", c)\n",
    "c //= a\n",
    "print (\"Line 7 - Value of c is \", c)"
   ]
  },
  {
   "cell_type": "markdown",
   "id": "animated-terminal",
   "metadata": {},
   "source": [
    "### Python Bitwise Operators\n",
    "\n",
    "Bitwise operator works on bits and performs bit-by-bit operation. Assume if a = 60; and b = 13; Now in binary format they will be as follows:\n",
    "\n",
    "a = 0011 1100 \n",
    "\n",
    "b = 0000 1101\n",
    "\n",
    "--------------\n",
    "\n",
    "a&b = 0000 1100\n",
    "\n",
    "a|b = 0011 1101\n",
    "\n",
    "a^b = 0011 0001\n",
    "\n",
    "~a = 1100 0011\n",
    "\n",
    "Python's built-in function bin() can be used to obtain binary representation of an integer number."
   ]
  },
  {
   "cell_type": "markdown",
   "id": "disabled-solid",
   "metadata": {},
   "source": [
    "| Operator | Name| Description | Example |\n",
    "|----------|-------|------|---------|\n",
    "| & | Binary AND | Operator copies a bit to the result, if it exists in both operands | (a & b) (means 0000 1100)\n",
    "| / | Binary OR | It copies a bit, if it exists in either operand. | (a / b) = 61 (means 0011 1101) |\n",
    "| ^ | Binary XOR | It copies the bit, if it is set in one operand but not both. | (a ^ b) = 49 (means 0011 0001) |\n",
    "| ~ | Binary Ones Complement | It is unary and has the effect of 'flipping' bits. | (~a ) = -61 (means 1100 0011 in 2's complement form due to a signed binary number. |\n",
    "| << | Binary Left Shift | The left operand’s value is moved left by the number of bits specified by the right operand. | a << = 240 (means 1111 0000) |\n",
    "| >> | Binary Right Shift | The left operand’s value is moved right by the number of bits specified by the right operand. | a >> = 15 (means 0000 1111) |"
   ]
  },
  {
   "cell_type": "code",
   "execution_count": 4,
   "id": "spatial-worst",
   "metadata": {},
   "outputs": [
    {
     "name": "stdout",
     "output_type": "stream",
     "text": [
      "a= 60 : 0b111100 b= 13 : 0b1101\n",
      "result of AND is  12 : 0b1100\n",
      "result of OR is  61 : 0b111101\n",
      "result of EXOR is  49 : 0b110001\n",
      "result of COMPLEMENT is  -61 : -0b111101\n",
      "result of LEFT SHIFT is  240 : 0b11110000\n",
      "result of RIGHT SHIFT is  15 : 0b1111\n"
     ]
    }
   ],
   "source": [
    "a = 60 # 60 = 0011 1100\n",
    "b = 13 # 13 = 0000 1101\n",
    "print ('a=',a,':',bin(a),'b=',b,':',bin(b))\n",
    "c = 0\n",
    "c = a & b; # 12 = 0000 1100\n",
    "print (\"result of AND is \", c,':',bin(c))\n",
    "c = a | b; # 61 = 0011 1101\n",
    "print (\"result of OR is \", c,':',bin(c))\n",
    "c = a ^ b; # 49 = 0011 0001\n",
    "print (\"result of EXOR is \", c,':',bin(c))\n",
    "c = ~a; # -61 = 1100 0011\n",
    "print (\"result of COMPLEMENT is \", c,':',bin(c))\n",
    "c = a << 2; # 240 = 1111 0000\n",
    "print (\"result of LEFT SHIFT is \", c,':',bin(c))\n",
    "c = a >> 2; # 15 = 0000 1111\n",
    "print (\"result of RIGHT SHIFT is \", c,':',bin(c))"
   ]
  },
  {
   "cell_type": "markdown",
   "id": "comparative-netherlands",
   "metadata": {},
   "source": [
    "### Python Logical Operators\n",
    "\n",
    "Assume variable a holds True and variable b holds False\n",
    "\n",
    "| Operator | Name| Description | Example |\n",
    "|----------|-------|------|---------|\n",
    "| and | Logical AND | If both the operands are true then condition becomes true. | (a and b) is False. |\n",
    "| or | Logical OR | If any of the two operands are non-zero then condition becomes true. | (a or b) is True. |\n",
    "| not | Logical NOT | Used to reverse the logical state of its operand. | Not(a and b) is True. |"
   ]
  },
  {
   "cell_type": "markdown",
   "id": "extraordinary-publication",
   "metadata": {},
   "source": [
    "### Python Membership Operators\n",
    "\n",
    "Python’s membership operators test for membership in a sequence, such as strings, lists, or tuples.\n",
    "\n",
    "| Operator | Description | Example |\n",
    "|---------|----------|-----------|\n",
    "| in | Evaluates to true, if it finds a variable in the specified sequence and false otherwise. | x in y, here in results in a 1 if x is a member of sequence y. |\n",
    "| not in | Evaluates to true, if it does not find a variable in the specified sequence and false otherwise. | x not in y, here not in results in a 1 if x is not a member of sequence y. |"
   ]
  },
  {
   "cell_type": "code",
   "execution_count": 5,
   "id": "proof-advertiser",
   "metadata": {},
   "outputs": [
    {
     "name": "stdout",
     "output_type": "stream",
     "text": [
      "Line 1 - a is not available in the given list\n",
      "Line 2 - b is not available in the given list\n",
      "Line 3 - c is available in the given list\n"
     ]
    }
   ],
   "source": [
    "a = 10\n",
    "b = 20\n",
    "list = [1, 2, 3, 4, 5 ]\n",
    "if ( a in list ):\n",
    "    print (\"Line 1 - a is available in the given list\")\n",
    "else:\n",
    "    print (\"Line 1 - a is not available in the given list\")\n",
    "if ( b not in list ):\n",
    "    print (\"Line 2 - b is not available in the given list\")\n",
    "else:\n",
    "    print (\"Line 2 - b is available in the given list\")\n",
    "c=b/a\n",
    "if ( c in list ):\n",
    "    print (\"Line 3 - c is available in the given list\")\n",
    "else:\n",
    "    print (\"Line 3 - c is not available in the given list\")"
   ]
  },
  {
   "cell_type": "markdown",
   "id": "cross-bidder",
   "metadata": {},
   "source": [
    "### Python Identity Operators\n",
    "\n",
    "Identity operators compare the memory locations of two objects.\n",
    "\n",
    "| Operator | Description | Example |\n",
    "|---------|----------|-----------|\n",
    "| is | Evaluates to true if the variables on either side of the operator point to the same object and false otherwise. | x is y, here is results in 1 if id(x) equals id(y). |\n",
    "| is not | Evaluates to false if the variables on either side of the operator point to the same object and true otherwise. | x is not y, here is not results in 1 if id(x) is not equal to id(y). |"
   ]
  },
  {
   "cell_type": "code",
   "execution_count": 6,
   "id": "sustained-front",
   "metadata": {},
   "outputs": [
    {
     "name": "stdout",
     "output_type": "stream",
     "text": [
      "Line 1 a= 20 : 2450115947408 b= 20 : 2450115947408\n",
      "Line 2 - a and b have same identity\n",
      "Line 3 - a and b have same identity\n",
      "Line 4 a= 20 : 2450115947408 b= 30 : 2450115947728\n",
      "Line 5 - a and b do not have same identity\n"
     ]
    }
   ],
   "source": [
    "a = 20\n",
    "b = 20\n",
    "print ('Line 1','a=',a,':',id(a), 'b=',b,':',id(b))\n",
    "if ( a is b ):\n",
    "    print (\"Line 2 - a and b have same identity\")\n",
    "else:\n",
    "    print (\"Line 2 - a and b do not have same identity\")\n",
    "if ( id(a) == id(b) ):\n",
    "    print (\"Line 3 - a and b have same identity\")\n",
    "else:\n",
    "    print (\"Line 3 - a and b do not have same identity\")\n",
    "b = 30\n",
    "print ('Line 4','a=',a,':',id(a), 'b=',b,':',id(b))\n",
    "if ( a is not b ):\n",
    "    print (\"Line 5 - a and b do not have same identity\")\n",
    "else:\n",
    "    print (\"Line 5 - a and b have same identity\")"
   ]
  },
  {
   "cell_type": "markdown",
   "id": "desirable-norfolk",
   "metadata": {},
   "source": [
    "## Python Operator Precedence\n",
    "\n",
    "Operator precedence affects the evaluation of an an expression.\n",
    "\n",
    "For example, x = 7 + 3 * 2; here, x is assigned 13, not 20 because the operator * has higher precedence than +, so it first multiplies 3*2 and then is added to 7.\n",
    "\n",
    "Here, the operators with the highest precedence appear at the top of the table, those with\n",
    "the lowest appear at the bottom.\n",
    "\n",
    "| Operator | Description |\n",
    "|---------|----------|\n",
    "| ** | Exponentiation (raise to the power)\n",
    "| ~ + - | Complement, unary plus and minus (method names for the last two are +@ and -@)\n",
    "| * / % // | Multiply, divide, modulo and floor division\n",
    "| + - | Addition and subtraction\n",
    "| >> << | Right and left bitwise shift\n",
    "| & | Bitwise 'AND'\n",
    "| ^ / | Bitwise exclusive `OR' and regular `OR'\n",
    "| <= < > >= | Comparison operators\n",
    "| <> == != | Equality operators\n",
    "| = %= /= //= -= += *= **= | Assignment operators \n",
    "| is is not | Identity operators\n",
    "| in not in | Membership operators\n",
    "| not or and | Logical operators"
   ]
  },
  {
   "cell_type": "code",
   "execution_count": 7,
   "id": "interested-treaty",
   "metadata": {},
   "outputs": [
    {
     "name": "stdout",
     "output_type": "stream",
     "text": [
      "a:20 b:10 c:15 d:5\n",
      "Value of (a + b) * c / d is  90.0\n",
      "Value of ((a + b) * c) / d is  90.0\n",
      "Value of (a + b) * (c / d) is  90.0\n",
      "Value of a + (b * c) / d is  50.0\n"
     ]
    }
   ],
   "source": [
    "a = 20\n",
    "b = 10\n",
    "c = 15\n",
    "d = 5\n",
    "print (\"a:%d b:%d c:%d d:%d\" % (a,b,c,d ))\n",
    "e = (a + b) * c / d #( 30 * 15 ) / 5\n",
    "print (\"Value of (a + b) * c / d is \", e)\n",
    "e = ((a + b) * c) / d # (30 * 15 ) / 5\n",
    "print (\"Value of ((a + b) * c) / d is \", e)\n",
    "e = (a + b) * (c / d) # (30) * (15/5)\n",
    "print (\"Value of (a + b) * (c / d) is \", e)\n",
    "e = a + (b * c) / d # 20 + (150/5)\n",
    "print (\"Value of a + (b * c) / d is \", e)"
   ]
  }
 ],
 "metadata": {
  "kernelspec": {
   "display_name": "Python 3",
   "language": "python",
   "name": "python3"
  },
  "language_info": {
   "codemirror_mode": {
    "name": "ipython",
    "version": 3
   },
   "file_extension": ".py",
   "mimetype": "text/x-python",
   "name": "python",
   "nbconvert_exporter": "python",
   "pygments_lexer": "ipython3",
   "version": "3.9.2"
  }
 },
 "nbformat": 4,
 "nbformat_minor": 5
}
