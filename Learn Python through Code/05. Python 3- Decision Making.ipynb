{
 "cells": [
  {
   "cell_type": "markdown",
   "id": "modified-thursday",
   "metadata": {},
   "source": [
    "# Decision Making\n",
    "\n",
    "Statement | Description\n",
    "---------|------------\n",
    "if statements | An if statement consists of a Boolean expression followed by one or more statements.\n",
    "if...else statements | An if statement can be followed by an optional else statement, which executes when the boolean expression is FALSE.\n",
    "nested if statements | You can use one if or else if statement inside another if or else if statement(s)."
   ]
  },
  {
   "cell_type": "markdown",
   "id": "respective-secondary",
   "metadata": {},
   "source": [
    "### If Statement\n",
    "\n",
    "The **if** statement contains a logical expression using which the data is compared and a decision is made based on the result of the comparison."
   ]
  },
  {
   "cell_type": "code",
   "execution_count": 1,
   "id": "permanent-cyprus",
   "metadata": {},
   "outputs": [
    {
     "name": "stdout",
     "output_type": "stream",
     "text": [
      "1 - Got a true expression value\n",
      "100\n",
      "Good bye!\n"
     ]
    }
   ],
   "source": [
    "var1 = 100\n",
    "if var1:\n",
    "    print (\"1 - Got a true expression value\")\n",
    "    print (var1)\n",
    "var2 = 0\n",
    "if var2:\n",
    "    print (\"2 - Got a true expression value\")\n",
    "    print (var2)\n",
    "print (\"Good bye!\")"
   ]
  },
  {
   "cell_type": "markdown",
   "id": "egyptian-shoulder",
   "metadata": {},
   "source": [
    "### IF...ELIF...ELSE Statements\n",
    "\n",
    "An else statement can be combined with an if statement. An else statement contains a block of code that executes if the conditional expression in the if statement resolves to 0 or a FALSE value.\n",
    "\n",
    "The else statement is an optional statement and there could be at the most only one else statement following if."
   ]
  },
  {
   "cell_type": "code",
   "execution_count": 2,
   "id": "expected-consumer",
   "metadata": {},
   "outputs": [
    {
     "name": "stdout",
     "output_type": "stream",
     "text": [
      "Enter amount: 600\n",
      "Discount 30.0\n",
      "Net payable: 570.0\n"
     ]
    }
   ],
   "source": [
    "amount=int(input(\"Enter amount: \"))\n",
    "if amount<1000:\n",
    "    discount=amount*0.05\n",
    "    print (\"Discount\",discount)\n",
    "else:\n",
    "    discount=amount*0.10\n",
    "    print (\"Discount\",discount)\n",
    "print (\"Net payable:\",amount-discount)"
   ]
  },
  {
   "cell_type": "code",
   "execution_count": 3,
   "id": "focused-cookbook",
   "metadata": {},
   "outputs": [
    {
     "name": "stdout",
     "output_type": "stream",
     "text": [
      "Enter amount: 8740\n",
      "Discount 1311.0\n",
      "Net payable: 7429.0\n"
     ]
    }
   ],
   "source": [
    "amount=int(input(\"Enter amount: \"))\n",
    "if amount<1000:\n",
    "    discount=amount*0.05\n",
    "    print (\"Discount\",discount)\n",
    "elif amount<5000:\n",
    "    discount=amount*0.10\n",
    "    print (\"Discount\",discount)\n",
    "else:\n",
    "    discount=amount*0.15\n",
    "    print (\"Discount\",discount)\n",
    "print (\"Net payable:\",amount-discount)"
   ]
  },
  {
   "cell_type": "markdown",
   "id": "accessory-cheat",
   "metadata": {},
   "source": [
    "### Nested IF Statements"
   ]
  },
  {
   "cell_type": "code",
   "execution_count": 4,
   "id": "unlike-female",
   "metadata": {},
   "outputs": [
    {
     "name": "stdout",
     "output_type": "stream",
     "text": [
      "Enter a number: 654\n",
      "Divisible by 3 and 2\n"
     ]
    }
   ],
   "source": [
    "num=int(input(\"Enter a number: \"))\n",
    "if num%2==0:\n",
    "    if num%3==0:\n",
    "        print (\"Divisible by 3 and 2\")\n",
    "    else:\n",
    "        print (\"Divisible by 2 but Not Divisible by 3\")\n",
    "else:\n",
    "    if num%3==0:\n",
    "        print (\"Divisible by 3 but Not Divisible by 2\")\n",
    "    else:\n",
    "        print (\"Not Divisible by 2 and Not Divisible by 3\")"
   ]
  },
  {
   "cell_type": "markdown",
   "id": "assigned-version",
   "metadata": {},
   "source": [
    "### Single Statement Suites"
   ]
  },
  {
   "cell_type": "code",
   "execution_count": 5,
   "id": "molecular-recovery",
   "metadata": {},
   "outputs": [
    {
     "name": "stdout",
     "output_type": "stream",
     "text": [
      "Value of expression is 100\n",
      "Good bye!\n"
     ]
    }
   ],
   "source": [
    "var = 100\n",
    "if ( var == 100 ) : print (\"Value of expression is 100\")\n",
    "print (\"Good bye!\")"
   ]
  }
 ],
 "metadata": {
  "kernelspec": {
   "display_name": "Python 3",
   "language": "python",
   "name": "python3"
  },
  "language_info": {
   "codemirror_mode": {
    "name": "ipython",
    "version": 3
   },
   "file_extension": ".py",
   "mimetype": "text/x-python",
   "name": "python",
   "nbconvert_exporter": "python",
   "pygments_lexer": "ipython3",
   "version": "3.9.2"
  }
 },
 "nbformat": 4,
 "nbformat_minor": 5
}
