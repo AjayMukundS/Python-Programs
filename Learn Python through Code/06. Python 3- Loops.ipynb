{
 "cells": [
  {
   "cell_type": "markdown",
   "id": "casual-temperature",
   "metadata": {},
   "source": [
    "# Python Loops"
   ]
  },
  {
   "cell_type": "markdown",
   "id": "human-aluminum",
   "metadata": {},
   "source": [
    "A loop statement allows us to execute a statement or group of statements multiple times."
   ]
  },
  {
   "cell_type": "markdown",
   "id": "saved-attention",
   "metadata": {},
   "source": [
    "Loop | Type Description\n",
    "----|----------\n",
    "while loop | Repeats a statement or group of statements while a given condition is TRUE. It tests the condition before executing the loop body.\n",
    "for loop | Executes a sequence of statements multiple times and abbreviates the code that manages the loop variable.\n",
    "Nested loops | You can use one or more loop inside any another while, or for loop."
   ]
  },
  {
   "cell_type": "markdown",
   "id": "african-terry",
   "metadata": {},
   "source": [
    "### While Loop\n",
    "\n",
    "A **while** loop statement in Python programming language repeatedly executes a target statement as long as a given condition is true."
   ]
  },
  {
   "cell_type": "markdown",
   "id": "exterior-syntax",
   "metadata": {},
   "source": [
    "Statement(s) may be a single statement or a block of statements with uniform indent. The condition may be any expression, and true is any non-zero value. The loop iterates while the condition is true. When the condition becomes false, program control passes to the line immediately following the loop.\n",
    "\n",
    "In Python, all the statements indented by the same number of character spaces after a programming construct are considered to be part of a single block of code. Python uses indentation as its method of grouping statements."
   ]
  },
  {
   "cell_type": "code",
   "execution_count": 1,
   "id": "wrong-watch",
   "metadata": {},
   "outputs": [
    {
     "name": "stdout",
     "output_type": "stream",
     "text": [
      "The count is: 0\n",
      "The count is: 1\n",
      "The count is: 2\n",
      "The count is: 3\n",
      "The count is: 4\n",
      "The count is: 5\n",
      "The count is: 6\n",
      "The count is: 7\n",
      "The count is: 8\n",
      "Good bye!\n"
     ]
    }
   ],
   "source": [
    "count = 0\n",
    "while (count < 9):\n",
    "    print ('The count is:', count)\n",
    "    count = count + 1\n",
    "print (\"Good bye!\")"
   ]
  },
  {
   "cell_type": "markdown",
   "id": "thick-ownership",
   "metadata": {},
   "source": [
    "#### Infinite Loop\n",
    "\n",
    "A loop becomes infinite loop if a condition never becomes FALSE."
   ]
  },
  {
   "cell_type": "code",
   "execution_count": 2,
   "id": "opposed-structure",
   "metadata": {},
   "outputs": [
    {
     "name": "stdout",
     "output_type": "stream",
     "text": [
      "Enter a number :20\n",
      "You entered:  20\n"
     ]
    },
    {
     "ename": "KeyboardInterrupt",
     "evalue": "Interrupted by user",
     "output_type": "error",
     "traceback": [
      "\u001b[1;31m---------------------------------------------------------------------------\u001b[0m",
      "\u001b[1;31mKeyboardInterrupt\u001b[0m                         Traceback (most recent call last)",
      "\u001b[1;32m<ipython-input-2-2847d1edc215>\u001b[0m in \u001b[0;36m<module>\u001b[1;34m\u001b[0m\n\u001b[0;32m      1\u001b[0m \u001b[0mvar\u001b[0m \u001b[1;33m=\u001b[0m \u001b[1;36m1\u001b[0m\u001b[1;33m\u001b[0m\u001b[1;33m\u001b[0m\u001b[0m\n\u001b[0;32m      2\u001b[0m \u001b[1;32mwhile\u001b[0m \u001b[0mvar\u001b[0m \u001b[1;33m==\u001b[0m \u001b[1;36m1\u001b[0m \u001b[1;33m:\u001b[0m \u001b[1;31m# This constructs an infinite loop\u001b[0m\u001b[1;33m\u001b[0m\u001b[1;33m\u001b[0m\u001b[0m\n\u001b[1;32m----> 3\u001b[1;33m     \u001b[0mnum\u001b[0m \u001b[1;33m=\u001b[0m \u001b[0mint\u001b[0m\u001b[1;33m(\u001b[0m\u001b[0minput\u001b[0m\u001b[1;33m(\u001b[0m\u001b[1;34m\"Enter a number :\"\u001b[0m\u001b[1;33m)\u001b[0m\u001b[1;33m)\u001b[0m\u001b[1;33m\u001b[0m\u001b[1;33m\u001b[0m\u001b[0m\n\u001b[0m\u001b[0;32m      4\u001b[0m     \u001b[0mprint\u001b[0m \u001b[1;33m(\u001b[0m\u001b[1;34m\"You entered: \"\u001b[0m\u001b[1;33m,\u001b[0m \u001b[0mnum\u001b[0m\u001b[1;33m)\u001b[0m\u001b[1;33m\u001b[0m\u001b[1;33m\u001b[0m\u001b[0m\n\u001b[0;32m      5\u001b[0m \u001b[0mprint\u001b[0m \u001b[1;33m(\u001b[0m\u001b[1;34m\"Good bye!\"\u001b[0m\u001b[1;33m)\u001b[0m\u001b[1;33m\u001b[0m\u001b[1;33m\u001b[0m\u001b[0m\n",
      "\u001b[1;32mc:\\users\\ajaym\\appdata\\local\\programs\\python\\python39\\lib\\site-packages\\ipykernel\\kernelbase.py\u001b[0m in \u001b[0;36mraw_input\u001b[1;34m(self, prompt)\u001b[0m\n\u001b[0;32m    846\u001b[0m                 \u001b[1;34m\"raw_input was called, but this frontend does not support input requests.\"\u001b[0m\u001b[1;33m\u001b[0m\u001b[1;33m\u001b[0m\u001b[0m\n\u001b[0;32m    847\u001b[0m             )\n\u001b[1;32m--> 848\u001b[1;33m         return self._input_request(str(prompt),\n\u001b[0m\u001b[0;32m    849\u001b[0m             \u001b[0mself\u001b[0m\u001b[1;33m.\u001b[0m\u001b[0m_parent_ident\u001b[0m\u001b[1;33m,\u001b[0m\u001b[1;33m\u001b[0m\u001b[1;33m\u001b[0m\u001b[0m\n\u001b[0;32m    850\u001b[0m             \u001b[0mself\u001b[0m\u001b[1;33m.\u001b[0m\u001b[0m_parent_header\u001b[0m\u001b[1;33m,\u001b[0m\u001b[1;33m\u001b[0m\u001b[1;33m\u001b[0m\u001b[0m\n",
      "\u001b[1;32mc:\\users\\ajaym\\appdata\\local\\programs\\python\\python39\\lib\\site-packages\\ipykernel\\kernelbase.py\u001b[0m in \u001b[0;36m_input_request\u001b[1;34m(self, prompt, ident, parent, password)\u001b[0m\n\u001b[0;32m    890\u001b[0m             \u001b[1;32mexcept\u001b[0m \u001b[0mKeyboardInterrupt\u001b[0m\u001b[1;33m:\u001b[0m\u001b[1;33m\u001b[0m\u001b[1;33m\u001b[0m\u001b[0m\n\u001b[0;32m    891\u001b[0m                 \u001b[1;31m# re-raise KeyboardInterrupt, to truncate traceback\u001b[0m\u001b[1;33m\u001b[0m\u001b[1;33m\u001b[0m\u001b[1;33m\u001b[0m\u001b[0m\n\u001b[1;32m--> 892\u001b[1;33m                 \u001b[1;32mraise\u001b[0m \u001b[0mKeyboardInterrupt\u001b[0m\u001b[1;33m(\u001b[0m\u001b[1;34m\"Interrupted by user\"\u001b[0m\u001b[1;33m)\u001b[0m \u001b[1;32mfrom\u001b[0m \u001b[1;32mNone\u001b[0m\u001b[1;33m\u001b[0m\u001b[1;33m\u001b[0m\u001b[0m\n\u001b[0m\u001b[0;32m    893\u001b[0m             \u001b[1;32mexcept\u001b[0m \u001b[0mException\u001b[0m \u001b[1;32mas\u001b[0m \u001b[0me\u001b[0m\u001b[1;33m:\u001b[0m\u001b[1;33m\u001b[0m\u001b[1;33m\u001b[0m\u001b[0m\n\u001b[0;32m    894\u001b[0m                 \u001b[0mself\u001b[0m\u001b[1;33m.\u001b[0m\u001b[0mlog\u001b[0m\u001b[1;33m.\u001b[0m\u001b[0mwarning\u001b[0m\u001b[1;33m(\u001b[0m\u001b[1;34m\"Invalid Message:\"\u001b[0m\u001b[1;33m,\u001b[0m \u001b[0mexc_info\u001b[0m\u001b[1;33m=\u001b[0m\u001b[1;32mTrue\u001b[0m\u001b[1;33m)\u001b[0m\u001b[1;33m\u001b[0m\u001b[1;33m\u001b[0m\u001b[0m\n",
      "\u001b[1;31mKeyboardInterrupt\u001b[0m: Interrupted by user"
     ]
    }
   ],
   "source": [
    "var = 1\n",
    "while var == 1 : # This constructs an infinite loop\n",
    "    num = int(input(\"Enter a number :\"))\n",
    "    print (\"You entered: \", num)\n",
    "print (\"Good bye!\")\n",
    "\n",
    "# Keyboard Interrupt: Press \"i\" twice"
   ]
  },
  {
   "cell_type": "markdown",
   "id": "authentic-plain",
   "metadata": {},
   "source": [
    "#### Using Else Statements with Loops\n",
    "\n",
    "* If the else statement is used with a for loop, the else statement is executed when the loop has exhausted iterating the list.\n",
    "* If the else statement is used with a while loop, the else statement is executed when the condition becomes false."
   ]
  },
  {
   "cell_type": "code",
   "execution_count": 3,
   "id": "descending-sympathy",
   "metadata": {},
   "outputs": [
    {
     "name": "stdout",
     "output_type": "stream",
     "text": [
      "0  is less than 5\n",
      "1  is less than 5\n",
      "2  is less than 5\n",
      "3  is less than 5\n",
      "4  is less than 5\n",
      "5  is not less than 5\n"
     ]
    }
   ],
   "source": [
    "#Else Statement with While Loop\n",
    "\n",
    "count = 0\n",
    "while count < 5:\n",
    "    print (count, \" is less than 5\")\n",
    "    count = count + 1\n",
    "else:\n",
    "    print (count, \" is not less than 5\")"
   ]
  },
  {
   "cell_type": "markdown",
   "id": "entitled-bermuda",
   "metadata": {},
   "source": [
    "#### Single Statement Suites\n",
    "\n",
    "Similar to the if statement syntax, if your while clause consists only of a single statement, it may be placed on the same line as the while header."
   ]
  },
  {
   "cell_type": "code",
   "execution_count": 4,
   "id": "demonstrated-background",
   "metadata": {},
   "outputs": [
    {
     "name": "stdout",
     "output_type": "stream",
     "text": [
      "Good bye!\n"
     ]
    }
   ],
   "source": [
    "flag = 1\n",
    "while (flag): flag= 0\n",
    "print (\"Good bye!\")"
   ]
  },
  {
   "cell_type": "markdown",
   "id": "described-reconstruction",
   "metadata": {},
   "source": [
    "### For Loop Statements\n",
    "\n",
    "The for statement in Python has the ability to iterate over the items of any sequence, such as a list or a string."
   ]
  },
  {
   "cell_type": "markdown",
   "id": "patient-strike",
   "metadata": {},
   "source": [
    "#### The range() function\n",
    "\n",
    "The built-in function range() is the right function to iterate over a sequence of numbers. It generates an iterator of arithmetic progressions."
   ]
  },
  {
   "cell_type": "code",
   "execution_count": 5,
   "id": "threaded-ethnic",
   "metadata": {},
   "outputs": [
    {
     "data": {
      "text/plain": [
       "[0, 1, 2, 3, 4]"
      ]
     },
     "execution_count": 5,
     "metadata": {},
     "output_type": "execute_result"
    }
   ],
   "source": [
    "list(range(5))"
   ]
  },
  {
   "cell_type": "code",
   "execution_count": 6,
   "id": "genetic-value",
   "metadata": {},
   "outputs": [
    {
     "name": "stdout",
     "output_type": "stream",
     "text": [
      "0\n",
      "1\n",
      "2\n",
      "3\n",
      "4\n"
     ]
    }
   ],
   "source": [
    "for var in list(range(5)):\n",
    "    print (var)"
   ]
  },
  {
   "cell_type": "code",
   "execution_count": 7,
   "id": "expanded-jordan",
   "metadata": {},
   "outputs": [
    {
     "name": "stdout",
     "output_type": "stream",
     "text": [
      "Current Letter : P\n",
      "Current Letter : y\n",
      "Current Letter : t\n",
      "Current Letter : h\n",
      "Current Letter : o\n",
      "Current Letter : n\n",
      "\n",
      "Current fruit : Banana\n",
      "Current fruit : Apple\n",
      "Current fruit : Mango\n",
      "\n",
      "Good bye!\n"
     ]
    }
   ],
   "source": [
    "for letter in 'Python': # traversal of a string sequence\n",
    "    print ('Current Letter :', letter)\n",
    "print()\n",
    "fruits = ['Banana', 'Apple', 'Mango']\n",
    "for fruit in fruits: # traversal of List sequence\n",
    "    print ('Current fruit :', fruit)\n",
    "print()\n",
    "print (\"Good bye!\")"
   ]
  },
  {
   "cell_type": "markdown",
   "id": "basic-boston",
   "metadata": {},
   "source": [
    "#### Iterating by Sequence Index\n",
    "\n",
    "An alternative way of iterating through each item is by index offset into the sequence itself."
   ]
  },
  {
   "cell_type": "code",
   "execution_count": 8,
   "id": "other-ballot",
   "metadata": {},
   "outputs": [
    {
     "name": "stdout",
     "output_type": "stream",
     "text": [
      "Current fruit : Banana\n",
      "Current fruit : Apple\n",
      "Current fruit : Mango\n",
      "Good bye!\n"
     ]
    }
   ],
   "source": [
    "fruits = ['Banana', 'Apple', 'Mango']\n",
    "for index in range(len(fruits)):\n",
    "    print ('Current fruit :', fruits[index])\n",
    "print (\"Good bye!\")"
   ]
  },
  {
   "cell_type": "code",
   "execution_count": 9,
   "id": "further-flashing",
   "metadata": {},
   "outputs": [
    {
     "name": "stdout",
     "output_type": "stream",
     "text": [
      "The list doesnot contain an even number\n"
     ]
    }
   ],
   "source": [
    "#Else Statement with For Loop\n",
    "\n",
    "numbers=[11,33,55,39,55,75,37,21,23,41,13]\n",
    "for num in numbers:\n",
    "    if num%2==0:\n",
    "        print ('The list contains an even number')\n",
    "        break\n",
    "else:\n",
    "    print ('The list doesnot contain an even number')"
   ]
  },
  {
   "cell_type": "markdown",
   "id": "demonstrated-running",
   "metadata": {},
   "source": [
    "### Nested Loops"
   ]
  },
  {
   "cell_type": "code",
   "execution_count": 10,
   "id": "statutory-delicious",
   "metadata": {},
   "outputs": [
    {
     "name": "stdout",
     "output_type": "stream",
     "text": [
      "1 2 3 4 5 6 7 8 9 10 \n",
      "2 4 6 8 10 12 14 16 18 20 \n",
      "3 6 9 12 15 18 21 24 27 30 \n",
      "4 8 12 16 20 24 28 32 36 40 \n",
      "5 10 15 20 25 30 35 40 45 50 \n",
      "6 12 18 24 30 36 42 48 54 60 \n",
      "7 14 21 28 35 42 49 56 63 70 \n",
      "8 16 24 32 40 48 56 64 72 80 \n",
      "9 18 27 36 45 54 63 72 81 90 \n",
      "10 20 30 40 50 60 70 80 90 100 \n"
     ]
    }
   ],
   "source": [
    "for i in range(1,11):\n",
    "    for j in range(1,11):\n",
    "        k=i*j\n",
    "        print (k, end=' ')\n",
    "    print()"
   ]
  },
  {
   "cell_type": "markdown",
   "id": "suspended-garbage",
   "metadata": {},
   "source": [
    "## Loop Control Statements\n",
    "\n",
    "The Loop control statements change the execution from its normal sequence.\n",
    "\n",
    "Control Statement | Description\n",
    "------------|----------------\n",
    "**break statement**| Terminates the loop statement and transfers execution to the statement immediately following the loop.\n",
    "**continue statement** | Causes the loop to skip the remainder of its body and immediately retest its condition prior to reiterating.\n",
    "**pass statement** | The pass statement in Python is used when a statement is required syntactically but you do not want any command or code to execute."
   ]
  },
  {
   "cell_type": "markdown",
   "id": "senior-julian",
   "metadata": {},
   "source": [
    "### Break Statement\n",
    "\n",
    "The break statement is used for premature termination of the current loop. The break statement can be used in both while and for loops. \n",
    "\n",
    "While using nested loops, the break statement stops the execution of the innermost loop and starts executing the next line of the code after the block."
   ]
  },
  {
   "cell_type": "code",
   "execution_count": 11,
   "id": "competent-packing",
   "metadata": {},
   "outputs": [
    {
     "name": "stdout",
     "output_type": "stream",
     "text": [
      "Current Letter : P\n",
      "Current Letter : y\n",
      "Current Letter : t\n",
      "Current variable value : 10\n",
      "Current variable value : 9\n",
      "Current variable value : 8\n",
      "Current variable value : 7\n",
      "Current variable value : 6\n",
      "Good bye!\n"
     ]
    }
   ],
   "source": [
    "for letter in 'Python': # First Example\n",
    "    if letter == 'h':\n",
    "        break\n",
    "    print ('Current Letter :', letter)\n",
    "var = 10 # Second Example\n",
    "while var > 0:\n",
    "    print ('Current variable value :', var)\n",
    "    var = var -1\n",
    "    if var == 5:\n",
    "        break\n",
    "print (\"Good bye!\")"
   ]
  },
  {
   "cell_type": "code",
   "execution_count": 12,
   "id": "coordinate-meaning",
   "metadata": {},
   "outputs": [
    {
     "name": "stdout",
     "output_type": "stream",
     "text": [
      "Enter the number you wanna find: 10\n",
      "Number not found in list\n"
     ]
    }
   ],
   "source": [
    "no=int(input('Enter the number you wanna find: '))\n",
    "numbers=[11,33,55,39,55,75,37,21,23,41,13]\n",
    "for num in numbers:\n",
    "    if num==no:\n",
    "        print ('Number found in list')\n",
    "        break\n",
    "else:\n",
    "    print ('Number not found in list')"
   ]
  },
  {
   "cell_type": "markdown",
   "id": "selective-carolina",
   "metadata": {},
   "source": [
    "### Continue Statement\n",
    "\n",
    "The continue statement in Python returns the control to the beginning of the current loop. When encountered, the loop starts next iteration without executing the remaining statements in the current iteration.\n",
    "\n",
    "The continue statement can be used in both while and for loops."
   ]
  },
  {
   "cell_type": "code",
   "execution_count": 13,
   "id": "fifty-extension",
   "metadata": {},
   "outputs": [
    {
     "name": "stdout",
     "output_type": "stream",
     "text": [
      "Current Letter : P\n",
      "Current Letter : y\n",
      "Current Letter : t\n",
      "Current Letter : o\n",
      "Current Letter : n\n",
      "Current variable value : 9\n",
      "Current variable value : 8\n",
      "Current variable value : 7\n",
      "Current variable value : 6\n",
      "Current variable value : 4\n",
      "Current variable value : 3\n",
      "Current variable value : 2\n",
      "Current variable value : 1\n",
      "Current variable value : 0\n",
      "Good bye!\n"
     ]
    }
   ],
   "source": [
    "for letter in 'Python': # First Example\n",
    "    if letter == 'h':\n",
    "        continue\n",
    "    print ('Current Letter :', letter)\n",
    "var = 10 # Second Example\n",
    "while var > 0:\n",
    "    var = var -1\n",
    "    if var == 5:\n",
    "        continue\n",
    "    print ('Current variable value :', var)\n",
    "print (\"Good bye!\")"
   ]
  },
  {
   "cell_type": "markdown",
   "id": "continuing-family",
   "metadata": {},
   "source": [
    "### Pass Statement\n",
    "\n",
    "It is used when a statement is required syntactically but you do not want any command or code to execute.\n",
    "\n",
    "The pass statement is a null operation; nothing happens when it executes. The pass statement is also useful in places where your code will eventually go, but has not been written yet i.e. in stubs)."
   ]
  },
  {
   "cell_type": "code",
   "execution_count": 14,
   "id": "novel-basis",
   "metadata": {},
   "outputs": [
    {
     "name": "stdout",
     "output_type": "stream",
     "text": [
      "Current Letter : P\n",
      "Current Letter : y\n",
      "Current Letter : t\n",
      "This is pass block\n",
      "Current Letter : h\n",
      "Current Letter : o\n",
      "Current Letter : n\n",
      "Good bye!\n"
     ]
    }
   ],
   "source": [
    "for letter in 'Python':\n",
    "    if letter == 'h':\n",
    "        pass\n",
    "        print ('This is pass block')\n",
    "    print ('Current Letter :', letter)\n",
    "print (\"Good bye!\")"
   ]
  },
  {
   "cell_type": "markdown",
   "id": "departmental-flesh",
   "metadata": {},
   "source": [
    "### Iterator\n",
    "\n",
    "Iterator is an object, which allows a programmer to traverse through all the elements of a collection, regardless of its specific implementation. \n",
    "\n",
    "In Python, an iterator object implements two methods:\n",
    "1. iter()\n",
    "2. next()\n",
    "\n",
    "String, List or Tuple objects can be used to create an Iterator."
   ]
  },
  {
   "cell_type": "code",
   "execution_count": 15,
   "id": "voluntary-immigration",
   "metadata": {},
   "outputs": [
    {
     "name": "stdout",
     "output_type": "stream",
     "text": [
      "1 2 3 4 "
     ]
    }
   ],
   "source": [
    "list=[1,2,3,4]\n",
    "it = iter(list) # this builds an iterator object\n",
    "\n",
    "for x in it:\n",
    "    print (x, end= \" \")"
   ]
  },
  {
   "cell_type": "code",
   "execution_count": 16,
   "id": "foster-hygiene",
   "metadata": {},
   "outputs": [
    {
     "name": "stdout",
     "output_type": "stream",
     "text": [
      "1\n"
     ]
    }
   ],
   "source": [
    "list=[1,2,3,4]\n",
    "it = iter(list) # this builds an iterator object\n",
    "print(next(it))"
   ]
  },
  {
   "cell_type": "code",
   "execution_count": 17,
   "id": "subjective-public",
   "metadata": {},
   "outputs": [
    {
     "name": "stdout",
     "output_type": "stream",
     "text": [
      "Enter a number: 20\n",
      "0\n",
      "1\n",
      "1\n",
      "2\n",
      "3\n",
      "5\n",
      "8\n",
      "13\n",
      "21\n",
      "34\n",
      "55\n",
      "89\n",
      "144\n",
      "233\n",
      "377\n",
      "610\n",
      "987\n",
      "1597\n",
      "2584\n",
      "4181\n",
      "6765\n"
     ]
    }
   ],
   "source": [
    "def fibonacci(n): #generator function\n",
    "    a, b, counter = 0, 1, 0\n",
    "    while True:\n",
    "        if (counter > n):\n",
    "            return\n",
    "        print(a)\n",
    "        a, b = b, a + b\n",
    "        counter += 1\n",
    "\n",
    "n= int(input(\"Enter a number: \"))\n",
    "f = fibonacci(n)"
   ]
  },
  {
   "cell_type": "code",
   "execution_count": null,
   "id": "authorized-aside",
   "metadata": {},
   "outputs": [],
   "source": []
  }
 ],
 "metadata": {
  "kernelspec": {
   "display_name": "Python 3",
   "language": "python",
   "name": "python3"
  },
  "language_info": {
   "codemirror_mode": {
    "name": "ipython",
    "version": 3
   },
   "file_extension": ".py",
   "mimetype": "text/x-python",
   "name": "python",
   "nbconvert_exporter": "python",
   "pygments_lexer": "ipython3",
   "version": "3.9.2"
  }
 },
 "nbformat": 4,
 "nbformat_minor": 5
}
