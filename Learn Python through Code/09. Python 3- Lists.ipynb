{
 "cells": [
  {
   "cell_type": "markdown",
   "id": "smart-bride",
   "metadata": {},
   "source": [
    "# Lists"
   ]
  },
  {
   "cell_type": "markdown",
   "id": "aging-threat",
   "metadata": {},
   "source": [
    "The **List** is the most versatile datatype available in Python, which can be written as a list of comma-separated values (items) between square brackets. Important thing about a list is that the items in a list need not be of the same type."
   ]
  },
  {
   "cell_type": "markdown",
   "id": "contained-script",
   "metadata": {},
   "source": [
    "### Creating Python Lists"
   ]
  },
  {
   "cell_type": "code",
   "execution_count": 1,
   "id": "civil-frost",
   "metadata": {},
   "outputs": [],
   "source": [
    "list1 = ['physics', 'chemistry', 1997, 2000]\n",
    "list2 = [1, 2, 3, 4, 5, 6, 7]\n",
    "list3 = [\"a\", \"b\", \"c\", \"d\"]"
   ]
  },
  {
   "cell_type": "markdown",
   "id": "integral-plenty",
   "metadata": {},
   "source": [
    "### Accessing Values in Lists"
   ]
  },
  {
   "cell_type": "code",
   "execution_count": 2,
   "id": "compound-angle",
   "metadata": {},
   "outputs": [
    {
     "name": "stdout",
     "output_type": "stream",
     "text": [
      "list1[0]:  physics\n",
      "list2[1:5]:  [2, 3, 4, 5]\n"
     ]
    }
   ],
   "source": [
    "print (\"list1[0]: \", list1[0])\n",
    "print (\"list2[1:5]: \", list2[1:5])"
   ]
  },
  {
   "cell_type": "markdown",
   "id": "empty-scratch",
   "metadata": {},
   "source": [
    "### Updating Lists"
   ]
  },
  {
   "cell_type": "code",
   "execution_count": 3,
   "id": "structured-setting",
   "metadata": {},
   "outputs": [
    {
     "name": "stdout",
     "output_type": "stream",
     "text": [
      "Value available at index 2 :  1997\n",
      "New value available at index 2 :  2001\n"
     ]
    }
   ],
   "source": [
    "list_new = ['physics', 'chemistry', 1997, 2000]\n",
    "print (\"Value available at index 2 : \", list_new[2])\n",
    "list_new[2] = 2001\n",
    "print (\"New value available at index 2 : \", list_new[2])"
   ]
  },
  {
   "cell_type": "markdown",
   "id": "imposed-guess",
   "metadata": {},
   "source": [
    "### Delete List Elements"
   ]
  },
  {
   "cell_type": "code",
   "execution_count": 4,
   "id": "distant-territory",
   "metadata": {},
   "outputs": [
    {
     "name": "stdout",
     "output_type": "stream",
     "text": [
      "['physics', 'chemistry', 1997, 2000]\n",
      "After deleting value at index 2 :  ['physics', 'chemistry', 2000]\n"
     ]
    }
   ],
   "source": [
    "list_new = ['physics', 'chemistry', 1997, 2000]\n",
    "print (list_new)\n",
    "del list_new[2]\n",
    "print (\"After deleting value at index 2 : \", list_new)"
   ]
  },
  {
   "cell_type": "markdown",
   "id": "operational-starter",
   "metadata": {},
   "source": [
    "### Basic List Operations\n",
    "\n",
    "Python Expression | Results | Description\n",
    "------------|----------|------------\n",
    "len([1, 2, 3]) | 3 | Length\n",
    "[1, 2, 3] + [4, 5, 6] | [1, 2, 3, 4, 5, 6] | Concatenation\n",
    "['Hi!'] * 4 | ['Hi!', 'Hi!', 'Hi!', 'Hi!'] | Repetition\n",
    "3 in [1, 2, 3] | True | Membership\n",
    "for x in [1,2,3] : print (x,end=' ') | 1 2 3 | Iteration"
   ]
  },
  {
   "cell_type": "markdown",
   "id": "arbitrary-ancient",
   "metadata": {},
   "source": [
    "### Indexing, Slicing, Matrixes\n",
    "\n",
    "Assuming the following input- L=['C++'', 'Java', 'Python']\n",
    "\n",
    "Python Expression | Results | Description\n",
    "------------|----------|----------\n",
    "L[2] | 'Python' | Offsets start at zero\n",
    "L[-2] | 'Java' | Negative: count from the right\n",
    "L[1:] | ['Java', 'Python'] | Slicing fetches sections "
   ]
  },
  {
   "cell_type": "markdown",
   "id": "extraordinary-appliance",
   "metadata": {},
   "source": [
    "# Built-in List Functions & Methods\n",
    "\n",
    "S.No. | Function | Description\n",
    "-----|---------|--------\n",
    "1 | cmp(list1, list2) | No longer available in Python 3.\n",
    "2 | len(list) | Gives the total length of the list.\n",
    "3 | max(list) | Returns item from the list with max value.\n",
    "4 | min(list) | Returns item from the list with min value.\n",
    "5 | list(seq) | Converts a tuple into list."
   ]
  },
  {
   "cell_type": "markdown",
   "id": "reflected-mississippi",
   "metadata": {},
   "source": [
    "### len() Method"
   ]
  },
  {
   "cell_type": "code",
   "execution_count": 5,
   "id": "supreme-checkout",
   "metadata": {},
   "outputs": [
    {
     "name": "stdout",
     "output_type": "stream",
     "text": [
      "3\n",
      "5\n"
     ]
    }
   ],
   "source": [
    "list1 = ['physics', 'chemistry', 'maths']\n",
    "print (len(list1))\n",
    "list2= list(range(5)) #creates list of numbers between 0-4\n",
    "print (len(list2))"
   ]
  },
  {
   "cell_type": "markdown",
   "id": "unlikely-database",
   "metadata": {},
   "source": [
    "### max() Method"
   ]
  },
  {
   "cell_type": "code",
   "execution_count": 6,
   "id": "printable-composer",
   "metadata": {},
   "outputs": [
    {
     "name": "stdout",
     "output_type": "stream",
     "text": [
      "Max value element :  Python\n",
      "Max value element :  700\n"
     ]
    }
   ],
   "source": [
    "list1, list2 = ['C++','Java', 'Python'], [456, 700, 200]\n",
    "print (\"Max value element : \", max(list1))\n",
    "print (\"Max value element : \", max(list2))"
   ]
  },
  {
   "cell_type": "markdown",
   "id": "stainless-hypothesis",
   "metadata": {},
   "source": [
    "### min() Method"
   ]
  },
  {
   "cell_type": "code",
   "execution_count": 7,
   "id": "heated-albania",
   "metadata": {},
   "outputs": [
    {
     "name": "stdout",
     "output_type": "stream",
     "text": [
      "min value element :  C++\n",
      "min value element :  200\n"
     ]
    }
   ],
   "source": [
    "list1, list2 = ['C++','Java', 'Python'], [456, 700, 200]\n",
    "print (\"min value element : \", min(list1))\n",
    "print (\"min value element : \", min(list2))"
   ]
  },
  {
   "cell_type": "markdown",
   "id": "valued-evans",
   "metadata": {},
   "source": [
    "### list() method\n",
    "\n",
    "**Syntax**- list(seq)\n",
    "\n",
    "The list() method takes sequence types and converts them to lists. This is used to convert a given tuple into list."
   ]
  },
  {
   "cell_type": "code",
   "execution_count": 8,
   "id": "persistent-detector",
   "metadata": {},
   "outputs": [
    {
     "name": "stdout",
     "output_type": "stream",
     "text": [
      "List elements :  [123, 'C++', 'Java', 'Python']\n",
      "List elements :  ['H', 'e', 'l', 'l', 'o', ' ', 'W', 'o', 'r', 'l', 'd']\n"
     ]
    }
   ],
   "source": [
    "aTuple = (123, 'C++', 'Java', 'Python')\n",
    "list1 = list(aTuple)\n",
    "print (\"List elements : \", list1)\n",
    "str=\"Hello World\"\n",
    "list2=list(str)\n",
    "print (\"List elements : \", list2)"
   ]
  },
  {
   "cell_type": "markdown",
   "id": "brazilian-surveillance",
   "metadata": {},
   "source": [
    "# List Methods\n",
    "\n",
    "S.No. | Method | Description\n",
    "-----|--------|-----------\n",
    "1 | list.append(obj) | Appends object obj to list\n",
    "2 | list.count(obj) | Returns count of how many times obj occurs in list\n",
    "3 | list.extend(seq) | Appends the contents of seq to list\n",
    "4 | list.index(obj) | Returns the lowest index in list that obj appears\n",
    "5 | list.insert(index, obj) | Inserts object obj into list at offset index\n",
    "6 | list.pop(obj=list[-1]) | Removes and returns last object or obj from list\n",
    "7 | list.remove(obj) | Removes object obj from list\n",
    "8 | list.reverse() | Reverses objects of list in place\n",
    "9 | list.sort([func]) | Sorts objects of list, use compare func if given"
   ]
  },
  {
   "cell_type": "markdown",
   "id": "favorite-impression",
   "metadata": {},
   "source": [
    "### append() Method"
   ]
  },
  {
   "cell_type": "code",
   "execution_count": 9,
   "id": "medium-extreme",
   "metadata": {},
   "outputs": [
    {
     "name": "stdout",
     "output_type": "stream",
     "text": [
      "updated list :  ['C++', 'Java', 'Python', 'C#']\n"
     ]
    }
   ],
   "source": [
    "list1 = ['C++', 'Java', 'Python']\n",
    "list1.append('C#')\n",
    "print (\"updated list : \", list1)"
   ]
  },
  {
   "cell_type": "markdown",
   "id": "peripheral-sample",
   "metadata": {},
   "source": [
    "### count() Method"
   ]
  },
  {
   "cell_type": "code",
   "execution_count": 10,
   "id": "successful-velvet",
   "metadata": {},
   "outputs": [
    {
     "name": "stdout",
     "output_type": "stream",
     "text": [
      "Count for 123 :  2\n",
      "Count for zara :  1\n"
     ]
    }
   ],
   "source": [
    "aList = [123, 'xyz', 'zara', 'abc', 123];\n",
    "print (\"Count for 123 : \", aList.count(123))\n",
    "print (\"Count for zara : \", aList.count('zara'))"
   ]
  },
  {
   "cell_type": "markdown",
   "id": "copyrighted-newcastle",
   "metadata": {},
   "source": [
    "### extend() Method\n",
    "\n",
    "***Syntax***- list.extend(seq)\n",
    "\n",
    "Appends the contents of seq to list"
   ]
  },
  {
   "cell_type": "code",
   "execution_count": 11,
   "id": "flexible-renaissance",
   "metadata": {},
   "outputs": [
    {
     "name": "stdout",
     "output_type": "stream",
     "text": [
      "Extended List : ['physics', 'chemistry', 'maths', 0, 1, 2, 3, 4]\n"
     ]
    }
   ],
   "source": [
    "list1 = ['physics', 'chemistry', 'maths']\n",
    "list2=list(range(5)) #creates list of numbers between 0-4\n",
    "list1.extend(list2)\n",
    "print ('Extended List :',list1)"
   ]
  },
  {
   "cell_type": "markdown",
   "id": "junior-detective",
   "metadata": {},
   "source": [
    "### index() Method"
   ]
  },
  {
   "cell_type": "code",
   "execution_count": 12,
   "id": "competitive-flour",
   "metadata": {},
   "outputs": [
    {
     "name": "stdout",
     "output_type": "stream",
     "text": [
      "Index of chemistry: 1\n"
     ]
    }
   ],
   "source": [
    "list1 = ['physics', 'chemistry', 'maths']\n",
    "print ('Index of chemistry:', list1.index('chemistry'))\n",
    "# print ('Index of C#', list1.index('C#'))--> Error: ValueError: 'C#' is not in list"
   ]
  },
  {
   "cell_type": "markdown",
   "id": "residential-reynolds",
   "metadata": {},
   "source": [
    "### insert() Method\n",
    "\n",
    "**Syntax**- list.insert(index, obj)\n",
    "\n",
    "Inserts object obj into list at offset index"
   ]
  },
  {
   "cell_type": "code",
   "execution_count": 13,
   "id": "social-laptop",
   "metadata": {},
   "outputs": [
    {
     "name": "stdout",
     "output_type": "stream",
     "text": [
      "Final list :  ['physics', 'Biology', 'chemistry', 'maths']\n"
     ]
    }
   ],
   "source": [
    "list1 = ['physics', 'chemistry', 'maths']\n",
    "list1.insert(1, 'Biology')\n",
    "print ('Final list : ', list1)"
   ]
  },
  {
   "cell_type": "markdown",
   "id": "industrial-genre",
   "metadata": {},
   "source": [
    "### pop() Method"
   ]
  },
  {
   "cell_type": "code",
   "execution_count": 14,
   "id": "artificial-allergy",
   "metadata": {},
   "outputs": [
    {
     "name": "stdout",
     "output_type": "stream",
     "text": [
      "list now :  ['physics', 'Biology', 'chemistry']\n",
      "list now :  ['physics', 'chemistry']\n"
     ]
    }
   ],
   "source": [
    "list1 = ['physics', 'Biology', 'chemistry', 'maths']\n",
    "list1.pop()\n",
    "print (\"list now : \", list1)\n",
    "list1.pop(1)\n",
    "print (\"list now : \", list1)"
   ]
  },
  {
   "cell_type": "markdown",
   "id": "foreign-disclaimer",
   "metadata": {},
   "source": [
    "### remove() Method"
   ]
  },
  {
   "cell_type": "code",
   "execution_count": 15,
   "id": "according-plane",
   "metadata": {},
   "outputs": [
    {
     "name": "stdout",
     "output_type": "stream",
     "text": [
      "list now :  ['physics', 'chemistry', 'maths']\n",
      "list now :  ['physics', 'chemistry']\n"
     ]
    }
   ],
   "source": [
    "list1 = ['physics', 'Biology', 'chemistry', 'maths']\n",
    "list1.remove('Biology')\n",
    "print (\"list now : \", list1)\n",
    "list1.remove('maths')\n",
    "print (\"list now : \", list1)"
   ]
  },
  {
   "cell_type": "markdown",
   "id": "unusual-ordering",
   "metadata": {},
   "source": [
    "### reverse() Method"
   ]
  },
  {
   "cell_type": "code",
   "execution_count": 16,
   "id": "lucky-pixel",
   "metadata": {},
   "outputs": [
    {
     "name": "stdout",
     "output_type": "stream",
     "text": [
      "list now :  ['maths', 'chemistry', 'Biology', 'physics']\n"
     ]
    }
   ],
   "source": [
    "list1 = ['physics', 'Biology', 'chemistry', 'maths']\n",
    "list1.reverse()\n",
    "print (\"list now : \", list1)"
   ]
  },
  {
   "cell_type": "markdown",
   "id": "rational-atlas",
   "metadata": {},
   "source": [
    "### sort() Method"
   ]
  },
  {
   "cell_type": "code",
   "execution_count": 17,
   "id": "genetic-painting",
   "metadata": {},
   "outputs": [
    {
     "name": "stdout",
     "output_type": "stream",
     "text": [
      "list now :  ['Biology', 'chemistry', 'maths', 'physics']\n"
     ]
    }
   ],
   "source": [
    "list1 = ['physics', 'Biology', 'chemistry', 'maths']\n",
    "list1.sort()\n",
    "print (\"list now : \", list1)"
   ]
  }
 ],
 "metadata": {
  "kernelspec": {
   "display_name": "Python 3",
   "language": "python",
   "name": "python3"
  },
  "language_info": {
   "codemirror_mode": {
    "name": "ipython",
    "version": 3
   },
   "file_extension": ".py",
   "mimetype": "text/x-python",
   "name": "python",
   "nbconvert_exporter": "python",
   "pygments_lexer": "ipython3",
   "version": "3.9.2"
  }
 },
 "nbformat": 4,
 "nbformat_minor": 5
}
