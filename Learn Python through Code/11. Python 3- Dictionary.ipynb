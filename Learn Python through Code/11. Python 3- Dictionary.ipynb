{
 "cells": [
  {
   "cell_type": "markdown",
   "id": "likely-walter",
   "metadata": {},
   "source": [
    "# Dictionary\n",
    "\n",
    "Each key is separated from its value by a colon (:), the items are separated by commas, and the whole thing is enclosed in curly braces. An empty dictionary without any items is written with just two curly braces, like this: {}.\n",
    "\n",
    "Keys are unique within a dictionary while values may not be. The values of a dictionary can be of any type, but the keys must be of an immutable data type such as strings, numbers, or tuples."
   ]
  },
  {
   "cell_type": "markdown",
   "id": "abstract-supervision",
   "metadata": {},
   "source": [
    "### Accessing Values iin Dictionary"
   ]
  },
  {
   "cell_type": "code",
   "execution_count": 1,
   "id": "naval-marketing",
   "metadata": {},
   "outputs": [
    {
     "name": "stdout",
     "output_type": "stream",
     "text": [
      "dict['Name']:  Zara\n",
      "dict['Age']:  7\n"
     ]
    }
   ],
   "source": [
    "dict = {'Name': 'Zara', 'Age': 7, 'Class': 'First'}\n",
    "print (\"dict['Name']: \", dict['Name'])\n",
    "print (\"dict['Age']: \", dict['Age'])"
   ]
  },
  {
   "cell_type": "markdown",
   "id": "understanding-aside",
   "metadata": {},
   "source": [
    "### Updating Dictionary"
   ]
  },
  {
   "cell_type": "code",
   "execution_count": 2,
   "id": "incorrect-scoop",
   "metadata": {},
   "outputs": [
    {
     "name": "stdout",
     "output_type": "stream",
     "text": [
      "dict['Age']:  8\n",
      "dict['School']:  DPS School\n"
     ]
    }
   ],
   "source": [
    "dict = {'Name': 'Zara', 'Age': 7, 'Class': 'First'}\n",
    "dict['Age'] = 8; # update existing entry\n",
    "dict['School'] = \"DPS School\" # Add new entry\n",
    "print (\"dict['Age']: \", dict['Age'])\n",
    "print (\"dict['School']: \", dict['School'])"
   ]
  },
  {
   "cell_type": "markdown",
   "id": "foster-snowboard",
   "metadata": {},
   "source": [
    "### Delete Dictionary Elements"
   ]
  },
  {
   "cell_type": "code",
   "execution_count": 3,
   "id": "sharp-gauge",
   "metadata": {},
   "outputs": [],
   "source": [
    "dict1 = {'Name': 'Zara', 'Age': 7, 'Class': 'First'}\n",
    "del dict1['Name'] # remove entry with key 'Name'\n",
    "dict1.clear() # remove all entries in dict\n",
    "del dict1 # delete entire dictionary\n",
    "\n",
    "# print (\"dict1['Age']: \", dict1['Age']) --> Error: NameError: name 'dict1' is not defined\n",
    "# print (\"dict1['School']: \", dict1['School']) --> Error: NameError: name 'dict1' is not defined"
   ]
  },
  {
   "cell_type": "markdown",
   "id": "adopted-technology",
   "metadata": {},
   "source": [
    "### Properties of Dictionary Keys"
   ]
  },
  {
   "cell_type": "markdown",
   "id": "informal-pearl",
   "metadata": {},
   "source": [
    "**(a) More than one entry per key is not allowed. This means no duplicate key is allowed. When duplicate keys are encountered during assignment, the last assignment wins.**"
   ]
  },
  {
   "cell_type": "code",
   "execution_count": 4,
   "id": "parliamentary-communications",
   "metadata": {},
   "outputs": [
    {
     "name": "stdout",
     "output_type": "stream",
     "text": [
      "dict['Name']:  Manni\n"
     ]
    }
   ],
   "source": [
    "dict = {'Name': 'Zara', 'Age': 7, 'Name': 'Manni'}\n",
    "print (\"dict['Name']: \", dict['Name'])"
   ]
  },
  {
   "cell_type": "markdown",
   "id": "modified-harrison",
   "metadata": {},
   "source": [
    "**(b) Keys must be immutable. This means you can use strings, numbers or tuples as dictionary keys but something like ['key'] is not allowed.**"
   ]
  },
  {
   "cell_type": "code",
   "execution_count": 5,
   "id": "therapeutic-workshop",
   "metadata": {},
   "outputs": [],
   "source": [
    "# dict = {['Name']: 'Zara', 'Age': 7} --> Error: TypeError: list objects are unhashable\n",
    "# print (\"dict['Name']: \", dict['Name'])"
   ]
  },
  {
   "cell_type": "markdown",
   "id": "documented-sleeping",
   "metadata": {},
   "source": [
    "# Built-in Dictionary Functions & Methods\n",
    "\n",
    "S.No. | Function | Description\n",
    "----|----------|--------\n",
    "1 | cmp(dict1, dict2) | No longer available in Python 3.\n",
    "2 | len(dict) | Gives the total length of the dictionary. This would be equal to the number of items in the dictionary.\n",
    "3 | str(dict) | Produces a printable string representation of a dictionary.\n",
    "4 | type(variable) | Returns the type of the passed variable. If passed variable is dictionary, then it would return a dictionary type."
   ]
  },
  {
   "cell_type": "markdown",
   "id": "appointed-particular",
   "metadata": {},
   "source": [
    "### len() Method"
   ]
  },
  {
   "cell_type": "code",
   "execution_count": 6,
   "id": "sapphire-princeton",
   "metadata": {},
   "outputs": [
    {
     "name": "stdout",
     "output_type": "stream",
     "text": [
      "Length : 3\n"
     ]
    }
   ],
   "source": [
    "dict = {'Name': 'Manni', 'Age': 7, 'Class': 'First'}\n",
    "print (\"Length : %d\" % len (dict))"
   ]
  },
  {
   "cell_type": "markdown",
   "id": "certified-labor",
   "metadata": {},
   "source": [
    "### str() Method\n",
    "\n",
    "Produces a printable string representation of a dictionary"
   ]
  },
  {
   "cell_type": "code",
   "execution_count": 7,
   "id": "offensive-delivery",
   "metadata": {},
   "outputs": [
    {
     "name": "stdout",
     "output_type": "stream",
     "text": [
      "Equivalent String : {'Name': 'Manni', 'Age': 7, 'Class': 'First'}\n"
     ]
    }
   ],
   "source": [
    "dict = {'Name': 'Manni', 'Age': 7, 'Class': 'First'}\n",
    "print (\"Equivalent String : %s\" % str (dict))"
   ]
  },
  {
   "cell_type": "markdown",
   "id": "bridal-circulation",
   "metadata": {},
   "source": [
    "### type() Method\n",
    "\n",
    "Returns the type of the passed variable. If passed variable is dictionary then it would return a dictionary type."
   ]
  },
  {
   "cell_type": "code",
   "execution_count": 8,
   "id": "grateful-butter",
   "metadata": {},
   "outputs": [
    {
     "name": "stdout",
     "output_type": "stream",
     "text": [
      "Variable Type : <class 'dict'>\n"
     ]
    }
   ],
   "source": [
    "dict = {'Name': 'Manni', 'Age': 7, 'Class': 'First'}\n",
    "print (\"Variable Type : %s\" % type (dict))"
   ]
  },
  {
   "cell_type": "markdown",
   "id": "relative-eligibility",
   "metadata": {},
   "source": [
    "# Dictionary Methods\n",
    "\n",
    "S.No. | Method | Description\n",
    "----|---------|------------\n",
    "1 | dict.clear() | Removes all elements of dictionary dict.\n",
    "2 | dict.copy() | Returns a shallow copy of dictionary dict.\n",
    "3 | dict.fromkeys() | Create a new dictionary with keys from seq and values set to value.\n",
    "4 | dict.get(key, default=None) | For key key, returns value or default if key not in dictionary.\n",
    "5 | dict.items() | Returns a list of dict's (key, value) tuple pairs.\n",
    "6 | dict.keys() | Returns list of dictionary dict's keys.\n",
    "7 | dict.setdefault(key, default=None) | Similar to get(), but will set dict[key]=default if key is not already in dict.\n",
    "8 | dict.update(dict2) | Adds dictionary dict2's key-values pairs to dict.\n",
    "9 | dict.values() | Returns list of dictionary dict's values."
   ]
  },
  {
   "cell_type": "markdown",
   "id": "sunset-stereo",
   "metadata": {},
   "source": [
    "### clear() Method"
   ]
  },
  {
   "cell_type": "code",
   "execution_count": 9,
   "id": "physical-grave",
   "metadata": {},
   "outputs": [
    {
     "name": "stdout",
     "output_type": "stream",
     "text": [
      "Start Len : 2\n",
      "End Len : 0\n"
     ]
    }
   ],
   "source": [
    "dict = {'Name': 'Zara', 'Age': 7}\n",
    "print (\"Start Len : %d\" % len(dict))\n",
    "dict.clear()\n",
    "print (\"End Len : %d\" % len(dict))"
   ]
  },
  {
   "cell_type": "markdown",
   "id": "conventional-blake",
   "metadata": {},
   "source": [
    "### copy() Method"
   ]
  },
  {
   "cell_type": "code",
   "execution_count": 10,
   "id": "filled-steps",
   "metadata": {},
   "outputs": [
    {
     "name": "stdout",
     "output_type": "stream",
     "text": [
      "New Dictionary :  {'Name': 'Manni', 'Age': 7, 'Class': 'First'}\n"
     ]
    }
   ],
   "source": [
    "dict1 = {'Name': 'Manni', 'Age': 7, 'Class': 'First'}\n",
    "dict2 = dict1.copy()\n",
    "print (\"New Dictionary : \",dict2)"
   ]
  },
  {
   "cell_type": "markdown",
   "id": "anonymous-excess",
   "metadata": {},
   "source": [
    "### fromkeys() Method\n",
    "\n",
    "Creates a new dictionary with keys from seq and values set to value.\n",
    "\n",
    "**Syntax** - dict.fromkeys(seq[, value]))\n",
    "\n",
    "* seq - This is the list of values which would be used for dictionary keys preparation.\n",
    "* value - This is optional, if provided then value would be set to this value"
   ]
  },
  {
   "cell_type": "code",
   "execution_count": 11,
   "id": "southern-composition",
   "metadata": {},
   "outputs": [
    {
     "name": "stdout",
     "output_type": "stream",
     "text": [
      "New Dictionary : {'name': None, 'age': None, 'sex': None}\n",
      "New Dictionary : {'name': 10, 'age': 10, 'sex': 10}\n"
     ]
    }
   ],
   "source": [
    "seq = ('name', 'age', 'sex')\n",
    "dict = dict.fromkeys(seq)\n",
    "print (\"New Dictionary : %s\" % str(dict))\n",
    "dict = dict.fromkeys(seq, 10)\n",
    "print (\"New Dictionary : %s\" % str(dict))"
   ]
  },
  {
   "cell_type": "markdown",
   "id": "graphic-obligation",
   "metadata": {},
   "source": [
    "### get() Method\n",
    "\n",
    "Returns a value for the given key\n",
    "\n",
    "**Synatx** - dict.get(key, default=None)\n",
    "\n",
    "* key - This is the Key to be searched in the dictionary.\n",
    "* default - This is the Value to be returned in case key does not exist."
   ]
  },
  {
   "cell_type": "code",
   "execution_count": 12,
   "id": "engaged-residence",
   "metadata": {},
   "outputs": [
    {
     "name": "stdout",
     "output_type": "stream",
     "text": [
      "Value : 27\n",
      "Value : NA\n"
     ]
    }
   ],
   "source": [
    "dict = {'Name': 'Zara', 'Age': 27}\n",
    "print (\"Value : %s\" % dict.get('Age'))\n",
    "print (\"Value : %s\" % dict.get('Sex', \"NA\"))"
   ]
  },
  {
   "cell_type": "markdown",
   "id": "experienced-nigeria",
   "metadata": {},
   "source": [
    "### items() Method"
   ]
  },
  {
   "cell_type": "code",
   "execution_count": 13,
   "id": "union-workplace",
   "metadata": {},
   "outputs": [
    {
     "name": "stdout",
     "output_type": "stream",
     "text": [
      "Value : dict_items([('Name', 'Zara'), ('Age', 7)])\n"
     ]
    }
   ],
   "source": [
    "dict = {'Name': 'Zara', 'Age': 7}\n",
    "print (\"Value : %s\" % dict.items())"
   ]
  },
  {
   "cell_type": "markdown",
   "id": "stretch-support",
   "metadata": {},
   "source": [
    "### keys() Method"
   ]
  },
  {
   "cell_type": "code",
   "execution_count": 14,
   "id": "martial-empty",
   "metadata": {},
   "outputs": [
    {
     "name": "stdout",
     "output_type": "stream",
     "text": [
      "Value : dict_keys(['Name', 'Age'])\n"
     ]
    }
   ],
   "source": [
    "dict = {'Name': 'Zara', 'Age': 7}\n",
    "print (\"Value : %s\" % dict.keys())"
   ]
  },
  {
   "cell_type": "markdown",
   "id": "another-cache",
   "metadata": {},
   "source": [
    "### setdefault() Method\n",
    "\n",
    "The method setdefault() is similar to get(), but will set dict[key]=default if the key is not already in dict.\n",
    "\n",
    "**Syntax** - dict.setdefault(key, default=None)\n",
    "\n",
    "* key - This is the key to be searched.\n",
    "* default - This is the Value to be returned in case key is not found."
   ]
  },
  {
   "cell_type": "code",
   "execution_count": 15,
   "id": "linear-village",
   "metadata": {},
   "outputs": [
    {
     "name": "stdout",
     "output_type": "stream",
     "text": [
      "Value : 7\n",
      "Value : None\n",
      "{'Name': 'Zara', 'Age': 7, 'Sex': None}\n"
     ]
    }
   ],
   "source": [
    "dict = {'Name': 'Zara', 'Age': 7}\n",
    "print (\"Value : %s\" % dict.setdefault('Age', None))\n",
    "print (\"Value : %s\" % dict.setdefault('Sex', None))\n",
    "print (dict)"
   ]
  },
  {
   "cell_type": "markdown",
   "id": "piano-rally",
   "metadata": {},
   "source": [
    "### update() Method"
   ]
  },
  {
   "cell_type": "code",
   "execution_count": 16,
   "id": "asian-treasure",
   "metadata": {},
   "outputs": [
    {
     "name": "stdout",
     "output_type": "stream",
     "text": [
      "updated dict :  {'Name': 'Zara', 'Age': 7, 'Sex': 'female'}\n"
     ]
    }
   ],
   "source": [
    "dict = {'Name': 'Zara', 'Age': 7}\n",
    "dict2 = {'Sex': 'female' }\n",
    "dict.update(dict2)\n",
    "print (\"updated dict : \", dict)"
   ]
  },
  {
   "cell_type": "markdown",
   "id": "pregnant-staff",
   "metadata": {},
   "source": [
    "### values() Method"
   ]
  },
  {
   "cell_type": "code",
   "execution_count": 17,
   "id": "distant-engine",
   "metadata": {},
   "outputs": [
    {
     "name": "stdout",
     "output_type": "stream",
     "text": [
      "Values :  ['female', 7, 'Zara']\n"
     ]
    }
   ],
   "source": [
    "dict = {'Sex': 'female', 'Age': 7, 'Name': 'Zara'}\n",
    "print (\"Values : \", list(dict.values()))"
   ]
  }
 ],
 "metadata": {
  "kernelspec": {
   "display_name": "Python 3",
   "language": "python",
   "name": "python3"
  },
  "language_info": {
   "codemirror_mode": {
    "name": "ipython",
    "version": 3
   },
   "file_extension": ".py",
   "mimetype": "text/x-python",
   "name": "python",
   "nbconvert_exporter": "python",
   "pygments_lexer": "ipython3",
   "version": "3.9.2"
  }
 },
 "nbformat": 4,
 "nbformat_minor": 5
}
