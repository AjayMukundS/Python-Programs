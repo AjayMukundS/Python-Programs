{
 "cells": [
  {
   "cell_type": "markdown",
   "id": "wrapped-shelf",
   "metadata": {},
   "source": [
    "### Tick\n",
    "\n",
    "There is a popular time module available in Python, which provides functions for working with times, and for converting between representations. The function time.time() returns the current system time in ticks since 12:00am, January 1, 1970(epoch)."
   ]
  },
  {
   "cell_type": "code",
   "execution_count": 1,
   "id": "banned-routine",
   "metadata": {},
   "outputs": [
    {
     "name": "stdout",
     "output_type": "stream",
     "text": [
      "Number of ticks since 12:00am, January 1, 1970: 1640346921.3478203\n"
     ]
    }
   ],
   "source": [
    "import time; # This is required to include time module.\n",
    "ticks = time.time()\n",
    "print (\"Number of ticks since 12:00am, January 1, 1970:\", ticks)"
   ]
  },
  {
   "cell_type": "markdown",
   "id": "civilian-brook",
   "metadata": {},
   "source": [
    "### Time Tuple\n",
    "\n",
    "Index | Field | Values\n",
    "--------|-----|-------\n",
    "0 | 4-digit year | 2016\n",
    "1 | Month | 1 to 12\n",
    "2 | Day | 1 to 31\n",
    "3 | Hour | 0 to 23\n",
    "4 | Minute | 0 to 59\n",
    "5 | Second | 0 to 61 (60 or 61 are leap-seconds)\n",
    "6 | Day of Week | 0 to 6 (0 is Monday)\n",
    "7 | Day of year | 1 to 366 (Julian day)\n",
    "8 | Daylight savings | -1, 0, 1, -1 means library determines DST"
   ]
  },
  {
   "cell_type": "code",
   "execution_count": 2,
   "id": "cloudy-celebration",
   "metadata": {},
   "outputs": [
    {
     "name": "stdout",
     "output_type": "stream",
     "text": [
      "time.struct_time(tm_year=2021, tm_mon=12, tm_mday=24, tm_hour=17, tm_min=25, tm_sec=21, tm_wday=4, tm_yday=358, tm_isdst=0)\n"
     ]
    }
   ],
   "source": [
    "print (time.localtime())"
   ]
  },
  {
   "cell_type": "markdown",
   "id": "monthly-occupation",
   "metadata": {},
   "source": [
    "### Getting Current Time"
   ]
  },
  {
   "cell_type": "code",
   "execution_count": 3,
   "id": "satisfied-slovakia",
   "metadata": {},
   "outputs": [
    {
     "name": "stdout",
     "output_type": "stream",
     "text": [
      "Local current time : time.struct_time(tm_year=2021, tm_mon=12, tm_mday=24, tm_hour=17, tm_min=25, tm_sec=21, tm_wday=4, tm_yday=358, tm_isdst=0)\n"
     ]
    }
   ],
   "source": [
    "localtime = time.localtime(time.time())\n",
    "print (\"Local current time :\", localtime)"
   ]
  },
  {
   "cell_type": "markdown",
   "id": "democratic-clark",
   "metadata": {},
   "source": [
    "### Getting formatted time"
   ]
  },
  {
   "cell_type": "code",
   "execution_count": 4,
   "id": "premier-cocktail",
   "metadata": {},
   "outputs": [
    {
     "name": "stdout",
     "output_type": "stream",
     "text": [
      "Local current time : Fri Dec 24 17:25:21 2021\n"
     ]
    }
   ],
   "source": [
    "localtime = time.asctime( time.localtime(time.time()) )\n",
    "print (\"Local current time :\", localtime)"
   ]
  },
  {
   "cell_type": "markdown",
   "id": "postal-clerk",
   "metadata": {},
   "source": [
    "### Getting Calendar for a month"
   ]
  },
  {
   "cell_type": "code",
   "execution_count": 5,
   "id": "regular-surveillance",
   "metadata": {},
   "outputs": [
    {
     "name": "stdout",
     "output_type": "stream",
     "text": [
      "Here is the calendar:\n",
      "   December 2021\n",
      "Mo Tu We Th Fr Sa Su\n",
      "       1  2  3  4  5\n",
      " 6  7  8  9 10 11 12\n",
      "13 14 15 16 17 18 19\n",
      "20 21 22 23 24 25 26\n",
      "27 28 29 30 31\n",
      "\n"
     ]
    }
   ],
   "source": [
    "import calendar\n",
    "\n",
    "cal = calendar.month(2021, 12)\n",
    "print (\"Here is the calendar:\")\n",
    "print (cal)"
   ]
  },
  {
   "cell_type": "markdown",
   "id": "accessible-outdoors",
   "metadata": {},
   "source": [
    "# The time Module"
   ]
  },
  {
   "cell_type": "markdown",
   "id": "second-traveler",
   "metadata": {},
   "source": [
    "S.No. | Function | Description\n",
    "------|----------|------------\n",
    "1 | time.altzone | The offset of the local DST timezone, in seconds west of UTC, if one is defined. This is negative if the local DST timezone is east of UTC (as in Western Europe, including the UK). Use this if the daylight is nonzero.\n",
    "2 | time.asctime([tupletime]) | Accepts a time-tuple and returns a readable 24-character string such as 'Tue Dec 11 18:07:14 2008'.\n",
    "3 | time.ctime([secs]) | Like asctime(localtime(secs)) and without arguments is like asctime( )\n",
    "4 | time.gmtime([secs]) | Accepts an instant expressed in seconds since the epoch and returns a time-tuple t with the UTC time. Note : t.tm_isdst is always 0\n",
    "5 | time.localtime([secs]) | Accepts an instant expressed in seconds since the epoch and returns a time-tuple t with the local time (t.tm_isdst is 0 or 1, depending on whether DST applies to instant secs by local rules).\n",
    "6 | time.mktime(tupletime) | Accepts an instant expressed as a time-tuple in local time and returns a floatingpoint value with the instant expressed in seconds since the epoch.\n",
    "7 | time.sleep(secs) | Suspends the calling thread for secs seconds.\n",
    "8 | time.strftime(fmt[,tupletime]) | Accepts an instant expressed as a time-tuple in local time and returns a string representing the instant as specified by string fmt.\n",
    "9 | time.strptime(str,fmt='%a %b %d %H:%M:%S %Y') | Parses str according to format string fmt and returns the instant in time-tuple format.\n",
    "10 | time.time( ) | Returns the current time instant, a floating-point number of seconds since the epoch."
   ]
  },
  {
   "cell_type": "markdown",
   "id": "eligible-harrison",
   "metadata": {},
   "source": [
    "### altzone() Method\n",
    "\n",
    "Returns the offset of the local DST timezone, in seconds west of UTC, if one is defined."
   ]
  },
  {
   "cell_type": "code",
   "execution_count": 6,
   "id": "opening-fighter",
   "metadata": {},
   "outputs": [
    {
     "name": "stdout",
     "output_type": "stream",
     "text": [
      "time.altzone :  -23400\n"
     ]
    }
   ],
   "source": [
    "print (\"time.altzone : \", time.altzone)"
   ]
  },
  {
   "cell_type": "markdown",
   "id": "faced-savage",
   "metadata": {},
   "source": [
    "### asctime() Method\n",
    "\n",
    "Converts a tuple or struct_time representing a time as returned by gmtime() or localtime() to a 24-character string of the following form: 'Tue Feb 17 23:21:05 2009'.\n",
    "\n",
    "**Syntax** - time.asctime([t]))\n",
    "\n",
    "* t - This is a tuple of 9 elements or struct_time representing a time as returned by gmtime() or localtime() function."
   ]
  },
  {
   "cell_type": "code",
   "execution_count": 7,
   "id": "continued-outreach",
   "metadata": {},
   "outputs": [
    {
     "name": "stdout",
     "output_type": "stream",
     "text": [
      "asctime :  Fri Dec 24 17:25:21 2021\n"
     ]
    }
   ],
   "source": [
    "t = time.localtime()\n",
    "print (\"asctime : \",time.asctime(t))"
   ]
  },
  {
   "cell_type": "markdown",
   "id": "boxed-story",
   "metadata": {},
   "source": [
    "### ctime() Method\n",
    "\n",
    "Converts a time expressed in seconds since the epoch to a string representing local time. If secs is not provided or None, the current time as returned by time() is used.\n",
    "\n",
    "**Syntax** - time.ctime([ sec ])\n",
    "\n",
    "* sec - These are the number of seconds to be converted into string representation."
   ]
  },
  {
   "cell_type": "code",
   "execution_count": 8,
   "id": "suited-blend",
   "metadata": {},
   "outputs": [
    {
     "name": "stdout",
     "output_type": "stream",
     "text": [
      "ctime :  Fri Dec 24 17:25:22 2021\n"
     ]
    }
   ],
   "source": [
    "print (\"ctime : \", time.ctime())"
   ]
  },
  {
   "cell_type": "markdown",
   "id": "ethical-router",
   "metadata": {},
   "source": [
    "### gmtime() Method\n",
    "\n",
    "Converts a time expressed in seconds since the epoch to a struct_time in UTC in which the dst flag is always zero.\n",
    "\n",
    "**Syntax** - time.gmtime([ sec ])\n",
    "\n",
    "* sec - These are the number of seconds to be converted into string representation."
   ]
  },
  {
   "cell_type": "code",
   "execution_count": 9,
   "id": "religious-coral",
   "metadata": {},
   "outputs": [
    {
     "name": "stdout",
     "output_type": "stream",
     "text": [
      "gmtime : time.struct_time(tm_year=2016, tm_mon=2, tm_mday=15, tm_hour=3, tm_min=56, tm_sec=49, tm_wday=0, tm_yday=46, tm_isdst=0)\n"
     ]
    }
   ],
   "source": [
    "print (\"gmtime :\", time.gmtime(1455508609.34375))"
   ]
  },
  {
   "cell_type": "markdown",
   "id": "attempted-guitar",
   "metadata": {},
   "source": [
    "### localtime() Method\n",
    "\n",
    "Converts number of seconds to local time. If secs is not provided or None, the current time as returned by time() is used. The dst flag is set to 1 when DST applies to the given time."
   ]
  },
  {
   "cell_type": "code",
   "execution_count": 10,
   "id": "occupational-commander",
   "metadata": {},
   "outputs": [
    {
     "name": "stdout",
     "output_type": "stream",
     "text": [
      "time.localtime() : %s time.struct_time(tm_year=2021, tm_mon=12, tm_mday=24, tm_hour=17, tm_min=25, tm_sec=22, tm_wday=4, tm_yday=358, tm_isdst=0)\n"
     ]
    }
   ],
   "source": [
    "print (\"time.localtime() : %s\" , time.localtime())"
   ]
  },
  {
   "cell_type": "markdown",
   "id": "driving-jimmy",
   "metadata": {},
   "source": [
    "### mktime() Method\n",
    "\n",
    "**Syntax** - time.mktime(t)"
   ]
  },
  {
   "cell_type": "code",
   "execution_count": 11,
   "id": "modified-toner",
   "metadata": {},
   "outputs": [
    {
     "name": "stdout",
     "output_type": "stream",
     "text": [
      "time.mktime(t) : 1455511418.000000\n",
      "asctime(localtime(secs)): Mon Feb 15 10:13:38 2016\n"
     ]
    }
   ],
   "source": [
    "t = (2016, 2, 15, 10, 13, 38, 1, 48, 0)\n",
    "d=time.mktime(t)\n",
    "print (\"time.mktime(t) : %f\" % d)\n",
    "print (\"asctime(localtime(secs)): %s\" % time.asctime(time.localtime(d)))"
   ]
  },
  {
   "cell_type": "markdown",
   "id": "mysterious-intensity",
   "metadata": {},
   "source": [
    "### sleep() Method\n",
    "\n",
    "Suspends execution for the given number of seconds."
   ]
  },
  {
   "cell_type": "code",
   "execution_count": 12,
   "id": "violent-bermuda",
   "metadata": {},
   "outputs": [
    {
     "name": "stdout",
     "output_type": "stream",
     "text": [
      "Start : Fri Dec 24 17:25:22 2021\n",
      "End : Fri Dec 24 17:25:27 2021\n"
     ]
    }
   ],
   "source": [
    "print (\"Start : %s\" % time.ctime())\n",
    "time.sleep( 5 )\n",
    "print (\"End : %s\" % time.ctime())"
   ]
  },
  {
   "cell_type": "markdown",
   "id": "residential-barbados",
   "metadata": {},
   "source": [
    "### strftime() Method\n",
    "\n",
    "Converts a tuple or struct_time representing a time as returned by gmtime() or localtime() to a string as specified by the format argument.\n",
    "\n",
    "**Syntax** - time.strftime(format[, t])\n",
    "\n",
    "#### Directive\n",
    "\n",
    "* %a - abbreviated weekday name\n",
    "* %A - full weekday name\n",
    "* %b - abbreviated month name\n",
    "* %B - full month name\n",
    "* %c - preferred date and time representation\n",
    "* %C - century number (the year divided by 100, range 00 to 99)\n",
    "* %d - day of the month (01 to 31)\n",
    "* %D - same as %m/%d/%y\n",
    "* %e - day of the month (1 to 31)\n",
    "* %g - like %G, but without the century\n",
    "* %G - 4-digit year corresponding to the ISO week number (see %V).\n",
    "* %h - same as %b\n",
    "* %H - hour, using a 24-hour clock (00 to 23)\n",
    "* %I - hour, using a 12-hour clock (01 to 12)\n",
    "* %j - day of the year (001 to 366)\n",
    "* %m - month (01 to 12)\n",
    "* %M - minute\n",
    "* %n - newline character\n",
    "* %p - either am or pm according to the given time value\n",
    "* %r - time in a.m. and p.m. notation\n",
    "* %R - time in 24 hour notation\n",
    "* %S - second\n",
    "* %t - tab character\n",
    "* %T - current time, equal to %H:%M:%S\n",
    "* %u - weekday as a number (1 to 7), Monday=1. Warning: In Sun Solaris Sunday=1\n",
    "* %U - week number of the current year, starting with the first Sunday as the first day of the first week\n",
    "* %V - The ISO 8601 week number of the current year (01 to 53), where week 1 is the first week that has at least 4 days in the current year, and with Monday as the first day of the week\n",
    "* %W - week number of the current year, starting with the first Monday as the first day of the first week\n",
    "* %w - day of the week as a decimal, Sunday=0\n",
    "* %x - preferred date representation without the time\n",
    "* %X - preferred time representation without the date\n",
    "* %y - year without a century (range 00 to 99)\n",
    "* %Y - year including the century\n",
    "* %Z or %z - time zone or name or abbreviation\n",
    "* %% - a literal % character"
   ]
  },
  {
   "cell_type": "code",
   "execution_count": 13,
   "id": "motivated-retreat",
   "metadata": {},
   "outputs": [
    {
     "name": "stdout",
     "output_type": "stream",
     "text": [
      "Dec 31 2021 10:39:45\n"
     ]
    }
   ],
   "source": [
    "t = (2021, 12, 31, 10, 39, 45, 1, 48, 0)\n",
    "t = time.mktime(t)\n",
    "print (time.strftime(\"%b %d %Y %H:%M:%S\", time.localtime(t)))"
   ]
  },
  {
   "cell_type": "markdown",
   "id": "biblical-fairy",
   "metadata": {},
   "source": [
    "### strptime() Method\n",
    "\n",
    "Parses a string representing a time according to a format. The return value is a struct_time as returned by gmtime() or localtime().\n",
    "\n",
    "The format parameter uses the same directives as those used by strftime(); it defaults to \"%a %b %d %H:%M:%S %Y\" which matches the formatting returned by ctime()."
   ]
  },
  {
   "cell_type": "code",
   "execution_count": 14,
   "id": "monetary-diagnosis",
   "metadata": {},
   "outputs": [
    {
     "name": "stdout",
     "output_type": "stream",
     "text": [
      "tuple :  time.struct_time(tm_year=2015, tm_mon=12, tm_mday=30, tm_hour=0, tm_min=0, tm_sec=0, tm_wday=2, tm_yday=364, tm_isdst=-1)\n"
     ]
    }
   ],
   "source": [
    "struct_time = time.strptime(\"30 12 2015\", \"%d %m %Y\")\n",
    "print (\"tuple : \", struct_time)"
   ]
  },
  {
   "cell_type": "markdown",
   "id": "joint-receipt",
   "metadata": {},
   "source": [
    "### time() Method\n",
    "\n",
    "Returns the time as a floating point number expressed in seconds since the epoch, in UTC."
   ]
  },
  {
   "cell_type": "code",
   "execution_count": 15,
   "id": "chicken-spain",
   "metadata": {},
   "outputs": [
    {
     "name": "stdout",
     "output_type": "stream",
     "text": [
      "time.time(): 1640346927.994490 \n",
      "time.struct_time(tm_year=2021, tm_mon=12, tm_mday=24, tm_hour=17, tm_min=25, tm_sec=27, tm_wday=4, tm_yday=358, tm_isdst=0)\n",
      "Fri Dec 24 17:25:27 2021\n"
     ]
    }
   ],
   "source": [
    "print (\"time.time(): %f \" % time.time())\n",
    "print (time.localtime( time.time() ))\n",
    "print (time.asctime( time.localtime(time.time()) ))"
   ]
  },
  {
   "cell_type": "markdown",
   "id": "expired-satellite",
   "metadata": {},
   "source": [
    "### Important Attributes available with time Module\n",
    "\n",
    "S.No. | Attribute | Description\n",
    "-------|----------|-----------\n",
    "1 | time.timezone | Attribute time.timezone is the offset in seconds of the local time zone (without DST) from UTC (>0 in the Americas; <=0 in most of Europe, Asia, Africa).\n",
    "2 | time.tzname | Attribute time.tzname is a pair of locale-dependent strings, which are the names of the local time zone without and with DST, respectively."
   ]
  },
  {
   "cell_type": "markdown",
   "id": "technological-surveillance",
   "metadata": {},
   "source": [
    "# The calendar Method\n",
    "\n",
    "S.No. | Function | Description\n",
    "------|----------|------------\n",
    "1 | calendar.calendar(year,w=2,l=1,c=6) | Returns a multiline string with a calendar for year year formatted into three columns separated by c spaces. w is the width in characters of each date; each line has length 21*w+18+2*c. l is the number of lines for each week.\n",
    "2 | calendar.firstweekday( ) | Returns the current setting for the weekday that starts each week. By default, when calendar is first imported, this is 0, meaning Monday.\n",
    "3 | calendar.isleap(year) | Returns True if year is a leap year; otherwise, False.\n",
    "4 | calendar.leapdays(y1,y2) | Returns the total number of leap days in the years within range(y1,y2).\n",
    "5 | calendar.month(year,month,w=2,l=1) | Returns a multiline string with a calendar for month month of year year, one line per week plus two header lines. w is the width in characters of each date; each line has length 7*w+6. l is the number of lines for each week.\n",
    "6 |calendar.monthcalendar(year,month) | Returns a list of lists of ints. Each sublist denotes a week. Days outside month month of year year are set to 0; days within the month are set to their day-ofmonth, 1 and up.\n",
    "7 | calendar.monthrange(year,month) | Returns two integers. The first one is the code of the weekday for the first day of the month month in year year; the second one is the number of days in the month. Weekday codes are 0 (Monday) to 6 (Sunday); month numbers are 1 to 12.\n",
    "8 | calendar.prcal(year,w=2,l=1,c=6) | Like print calendar.calendar(year,w,l,c).\n",
    "9 | calendar.prmonth(year,month,w=2,l=1) | Like print calendar.month(year,month,w,l).\n",
    "10 | calendar.setfirstweekday(weekday) | Sets the first day of each week to weekday code weekday. Weekday codes are 0 (Monday) to 6 (Sunday).\n",
    "11 | calendar.timegm(tupletime) | The inverse of time.gmtime: accepts a time instant in time-tuple form and returns the same instant as a floating-point number of seconds since the epoch.\n",
    "12 | calendar.weekday(year,month,day) | Returns the weekday code for the given date. Weekday codes are 0 (Monday) to 6 (Sunday); month numbers are 1 (January) to 12 (December)."
   ]
  }
 ],
 "metadata": {
  "kernelspec": {
   "display_name": "Python 3",
   "language": "python",
   "name": "python3"
  },
  "language_info": {
   "codemirror_mode": {
    "name": "ipython",
    "version": 3
   },
   "file_extension": ".py",
   "mimetype": "text/x-python",
   "name": "python",
   "nbconvert_exporter": "python",
   "pygments_lexer": "ipython3",
   "version": "3.9.2"
  }
 },
 "nbformat": 4,
 "nbformat_minor": 5
}
