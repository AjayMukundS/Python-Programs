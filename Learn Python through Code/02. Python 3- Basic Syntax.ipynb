{
 "cells": [
  {
   "cell_type": "markdown",
   "id": "informational-romance",
   "metadata": {},
   "source": [
    "## Introduction to Jupyter Notebook"
   ]
  },
  {
   "cell_type": "code",
   "execution_count": 1,
   "id": "interim-emission",
   "metadata": {},
   "outputs": [
    {
     "name": "stdout",
     "output_type": "stream",
     "text": [
      "Hello, Python!\n"
     ]
    }
   ],
   "source": [
    "print(\"Hello, Python!\")"
   ]
  },
  {
   "cell_type": "markdown",
   "id": "common-quality",
   "metadata": {},
   "source": [
    "### Python Identifiers"
   ]
  },
  {
   "cell_type": "markdown",
   "id": "synthetic-garage",
   "metadata": {},
   "source": [
    "A Python identifier is a name used to identify a variable, function, class, module or other object. An identifier starts with a letter A to Z or a to z or an underscore (_) followed by zero or more letters, underscores and digits (0 to 9).\n",
    "\n",
    "Python does not allow punctuation characters such as @, $, and % within identifiers. Python is a case sensitive programming language. Thus, Manpower and manpower are two different identifiers in Python."
   ]
  },
  {
   "cell_type": "markdown",
   "id": "lucky-keyboard",
   "metadata": {},
   "source": [
    "### Reserved Words"
   ]
  },
  {
   "cell_type": "markdown",
   "id": "tested-toronto",
   "metadata": {},
   "source": [
    "| Column 1 | Column 2 | Column 3 | Column 4 | Column 5| Column 6 |\n",
    "|----------|----------|----------|----------|---------|----------|\n",
    "and | exec | not | assert | for | pass |\n",
    "as | finally | or | break| from | print |\n",
    "class | global | raise | continue | if | return |\n",
    "def | import | try | del | in | while |\n",
    "elif | is | with | else | lambda | yield |\n",
    "except |\n",
    "\n",
    "These are reserved words and you cannot use them as constants or variables or any other identifier names. All the Python keywords contain lowercase letters only."
   ]
  },
  {
   "cell_type": "markdown",
   "id": "certain-riverside",
   "metadata": {},
   "source": [
    "### Lines and Indentation"
   ]
  },
  {
   "cell_type": "markdown",
   "id": "forced-penny",
   "metadata": {},
   "source": [
    "Python does not use braces({}) to indicate blocks of code for class and function definitions or flow control. Blocks of code are denoted by line indentation, which is rigidly enforced. \n",
    "\n",
    "The number of spaces in the indentation is variable, but all statements within the block must be indented the same amount. "
   ]
  },
  {
   "cell_type": "code",
   "execution_count": 2,
   "id": "grand-suggestion",
   "metadata": {},
   "outputs": [
    {
     "name": "stdout",
     "output_type": "stream",
     "text": [
      "True\n"
     ]
    }
   ],
   "source": [
    "if True:\n",
    "    print (\"True\")\n",
    "else:\n",
    "    print (\"False\")"
   ]
  },
  {
   "cell_type": "code",
   "execution_count": 3,
   "id": "separated-messaging",
   "metadata": {},
   "outputs": [
    {
     "name": "stdout",
     "output_type": "stream",
     "text": [
      "Answer\n",
      "True\n"
     ]
    }
   ],
   "source": [
    "if True:\n",
    "    print (\"Answer\")\n",
    "    print (\"True\")\n",
    "else:\n",
    "    print (\"Answer\")\n",
    " # print (\"False\") #Error: IndentationError: unindent does not match any outer indentation level"
   ]
  },
  {
   "cell_type": "markdown",
   "id": "joint-store",
   "metadata": {},
   "source": [
    "### Multi-Line Statements"
   ]
  },
  {
   "cell_type": "markdown",
   "id": "hindu-railway",
   "metadata": {},
   "source": [
    "Statements in Python typically end with a new line. Python, however, allows the use of the line continuation character (\\\\) to denote that the line should continue."
   ]
  },
  {
   "cell_type": "code",
   "execution_count": 4,
   "id": "stainless-silver",
   "metadata": {},
   "outputs": [
    {
     "name": "stdout",
     "output_type": "stream",
     "text": [
      "Welcome To Python\n"
     ]
    }
   ],
   "source": [
    "item_one= \"Welcome \"\n",
    "item_two= \"To \"\n",
    "item_three= \"Python\"\n",
    "\n",
    "total = item_one + \\\n",
    "item_two + \\\n",
    "item_three # Multi-Line Statement : Concatenation of three different strings\n",
    "\n",
    "print(total)"
   ]
  },
  {
   "cell_type": "markdown",
   "id": "concrete-cassette",
   "metadata": {},
   "source": [
    "The statements contained within the [ ], { }, or ( ) brackets do not need to use the line continuation character."
   ]
  },
  {
   "cell_type": "code",
   "execution_count": 5,
   "id": "framed-blocking",
   "metadata": {},
   "outputs": [
    {
     "name": "stdout",
     "output_type": "stream",
     "text": [
      "['Monday', 'Tuesday', 'Wednesday', 'Thursday', 'Friday']\n"
     ]
    }
   ],
   "source": [
    "week_days= ['Monday', 'Tuesday', 'Wednesday',\n",
    "'Thursday', 'Friday']\n",
    "\n",
    "print(week_days)"
   ]
  },
  {
   "cell_type": "markdown",
   "id": "voluntary-procedure",
   "metadata": {},
   "source": [
    "### Quotation in Python"
   ]
  },
  {
   "cell_type": "markdown",
   "id": "molecular-diagram",
   "metadata": {},
   "source": [
    "Python accepts single ('), double (\") and triple (''' or \"\"\") quotes to denote string literals, as long as the same type of quote starts and ends the string.\n",
    "\n",
    "The triple quotes are used to span the string across multiple lines."
   ]
  },
  {
   "cell_type": "code",
   "execution_count": 6,
   "id": "sudden-summit",
   "metadata": {},
   "outputs": [
    {
     "name": "stdout",
     "output_type": "stream",
     "text": [
      "Hello and Welcome to this course in Python Programming\n",
      "It's so nice to have you all here!\n",
      "Without further ado, lets jump into today's topic. \n",
      "\n",
      "This is a Paragraph. Usually, \n",
      "Paragraphs are made up of multiple lines and sentences\n"
     ]
    }
   ],
   "source": [
    "sentence1= 'Hello and Welcome to this course in Python Programming'\n",
    "sentence2= \"It's so nice to have you all here!\"\n",
    "sentence3= \"\"\"Without further ado, lets jump into today's topic.\"\"\"\n",
    "\n",
    "print(sentence1)\n",
    "print(sentence2)\n",
    "print(sentence3, '\\n')\n",
    "\n",
    "paragraph= \"\"\"This is a Paragraph. Usually, \n",
    "Paragraphs are made up of multiple lines and sentences\"\"\"\n",
    "\n",
    "print(paragraph)"
   ]
  },
  {
   "cell_type": "markdown",
   "id": "subjective-occurrence",
   "metadata": {},
   "source": [
    "### Comments in Python"
   ]
  },
  {
   "cell_type": "markdown",
   "id": "arbitrary-plastic",
   "metadata": {},
   "source": [
    "A hash sign (#) that is not inside a string literal is the beginning of a comment. Python does not have multiple-line commenting feature. You have to comment each line individually"
   ]
  },
  {
   "cell_type": "code",
   "execution_count": 7,
   "id": "suburban-original",
   "metadata": {},
   "outputs": [
    {
     "name": "stdout",
     "output_type": "stream",
     "text": [
      "Hello, Ajay\n"
     ]
    }
   ],
   "source": [
    "# All characters after the #, up to the end of the physical line, are part of the comment.\n",
    "# The Python interpreter ignores them.\n",
    "\n",
    "print(\"Hello, Ajay\") # This line of code prints \"Hello, Ajay\" as output"
   ]
  },
  {
   "cell_type": "markdown",
   "id": "acting-moore",
   "metadata": {},
   "source": [
    "### Using Blank Lines"
   ]
  },
  {
   "cell_type": "markdown",
   "id": "nominated-gathering",
   "metadata": {},
   "source": [
    "A line containing only whitespace, possibly with a comment, is known as a blank line and Python totally ignores it."
   ]
  },
  {
   "cell_type": "code",
   "execution_count": null,
   "id": "mathematical-deputy",
   "metadata": {},
   "outputs": [],
   "source": [
    "\n",
    "\n",
    "\n"
   ]
  },
  {
   "cell_type": "markdown",
   "id": "vertical-playlist",
   "metadata": {},
   "source": [
    "### Waiting for the User"
   ]
  },
  {
   "cell_type": "code",
   "execution_count": 8,
   "id": "aware-dominant",
   "metadata": {},
   "outputs": [
    {
     "name": "stdout",
     "output_type": "stream",
     "text": [
      "Press the enter key to exit.\n"
     ]
    },
    {
     "data": {
      "text/plain": [
       "''"
      ]
     },
     "execution_count": 8,
     "metadata": {},
     "output_type": "execute_result"
    }
   ],
   "source": [
    "# The following line of the program displays the prompt and the statement saying “Press the enter key to exit”,\n",
    "# and then waits for the user to take action\n",
    "\n",
    "input(\"Press the enter key to exit.\")\n",
    "\n",
    "# This is a nice trick to keep a console window open until the user is done with an application."
   ]
  },
  {
   "cell_type": "markdown",
   "id": "sunrise-activation",
   "metadata": {},
   "source": [
    "### Multiple Statements on a Single Line"
   ]
  },
  {
   "cell_type": "markdown",
   "id": "following-cattle",
   "metadata": {},
   "source": [
    "The semicolon ( ; ) allows multiple statements on a single line given that no statement starts a new code block."
   ]
  },
  {
   "cell_type": "code",
   "execution_count": 9,
   "id": "valuable-trinity",
   "metadata": {},
   "outputs": [
    {
     "name": "stdout",
     "output_type": "stream",
     "text": [
      "foo\n"
     ]
    }
   ],
   "source": [
    "import sys; x = 'foo'; sys.stdout.write(x + '\\n')"
   ]
  },
  {
   "cell_type": "markdown",
   "id": "quality-pastor",
   "metadata": {},
   "source": [
    "### Multiple Statement  Groups as Suites"
   ]
  },
  {
   "cell_type": "markdown",
   "id": "developmental-longitude",
   "metadata": {},
   "source": [
    "Groups of individual statements, which make a single code block are called suites in Python. Compound or complex statements, such as if, while, def, and class require a header line and a suite.\n",
    "\n",
    "Header lines begin the statement (with the keyword) and terminate with a colon ( : ) and are followed by one or more lines which make up the suite."
   ]
  },
  {
   "cell_type": "markdown",
   "id": "skilled-moscow",
   "metadata": {},
   "source": [
    "if expression:\n",
    "\n",
    "    suite\n",
    "    \n",
    "elif expression:\n",
    "\n",
    "    suite\n",
    "    \n",
    "else:\n",
    "\n",
    "    suite"
   ]
  }
 ],
 "metadata": {
  "kernelspec": {
   "display_name": "Python 3",
   "language": "python",
   "name": "python3"
  },
  "language_info": {
   "codemirror_mode": {
    "name": "ipython",
    "version": 3
   },
   "file_extension": ".py",
   "mimetype": "text/x-python",
   "name": "python",
   "nbconvert_exporter": "python",
   "pygments_lexer": "ipython3",
   "version": "3.9.2"
  }
 },
 "nbformat": 4,
 "nbformat_minor": 5
}
