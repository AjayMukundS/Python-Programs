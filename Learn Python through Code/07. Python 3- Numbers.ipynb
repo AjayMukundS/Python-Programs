{
 "cells": [
  {
   "cell_type": "markdown",
   "id": "infectious-constitutional",
   "metadata": {},
   "source": [
    "# Numbers"
   ]
  },
  {
   "cell_type": "markdown",
   "id": "received-tragedy",
   "metadata": {},
   "source": [
    "It is possible to represent an integer in hexa-decimal or octal form."
   ]
  },
  {
   "cell_type": "code",
   "execution_count": 1,
   "id": "fluid-motor",
   "metadata": {},
   "outputs": [
    {
     "name": "stdout",
     "output_type": "stream",
     "text": [
      "2575\n"
     ]
    }
   ],
   "source": [
    "number = 0xA0F #Hexa-decimal\n",
    "print(number)"
   ]
  },
  {
   "cell_type": "code",
   "execution_count": 2,
   "id": "improved-trade",
   "metadata": {},
   "outputs": [
    {
     "name": "stdout",
     "output_type": "stream",
     "text": [
      "31\n"
     ]
    }
   ],
   "source": [
    "number=0o37 #Octal\n",
    "print(number)"
   ]
  },
  {
   "cell_type": "markdown",
   "id": "expensive-edinburgh",
   "metadata": {},
   "source": [
    "# Mathematical Constants\n",
    "\n",
    "Constants | Description\n",
    "---------|----------\n",
    "pi | The mathematical constant pi.\n",
    "e | The mathematical constant e."
   ]
  },
  {
   "cell_type": "markdown",
   "id": "significant-quality",
   "metadata": {},
   "source": [
    "# Mathematical Functions"
   ]
  },
  {
   "cell_type": "markdown",
   "id": "changed-essence",
   "metadata": {},
   "source": [
    "Function | Returns ( Description )\n",
    "---------|------------------------\n",
    "abs(x) | The absolute value of x: the (positive) distance between x and zero.\n",
    "ceil(x) | The ceiling of x: the smallest integer not less than x.\n",
    "exp(x) | The exponential of x: e^x\n",
    "floor(x) | The floor of x: the largest integer not greater than x.\n",
    "log(x) | The natural logarithm of x, for x> 0.\n",
    "log10(x) | The base-10 logarithm of x for x> 0.\n",
    "max(x1, x2,...) | The largest of its arguments: the value closest to positive infinity.\n",
    "min(x1, x2,...) | The smallest of its arguments: the value closest to negative infinity.\n",
    "modf(x) | The fractional and integer parts of x in a two-item tuple. Both parts have the same sign as x. The integer part is returned as a float.\n",
    "pow(x, y) | The value of x**y.\n",
    "round(x [,n]) | x rounded to n digits from the decimal point. Python rounds away from zero as a tie-breaker: round(0.5) is 1.0 and round(-0.5) is - 1.0.\n",
    "sqrt(x) | The square root of x for x > 0."
   ]
  },
  {
   "cell_type": "markdown",
   "id": "alike-dollar",
   "metadata": {},
   "source": [
    "### abs() Method"
   ]
  },
  {
   "cell_type": "code",
   "execution_count": 3,
   "id": "wrong-civilian",
   "metadata": {},
   "outputs": [
    {
     "name": "stdout",
     "output_type": "stream",
     "text": [
      "abs(-45) :  45\n",
      "abs(100.12) :  100.12\n"
     ]
    }
   ],
   "source": [
    "print (\"abs(-45) : \", abs(-45))\n",
    "print (\"abs(100.12) : \", abs(100.12))"
   ]
  },
  {
   "cell_type": "markdown",
   "id": "reliable-stewart",
   "metadata": {},
   "source": [
    "### ceil() Method"
   ]
  },
  {
   "cell_type": "code",
   "execution_count": 4,
   "id": "uniform-bolivia",
   "metadata": {},
   "outputs": [
    {
     "name": "stdout",
     "output_type": "stream",
     "text": [
      "math.ceil(-45.17) :  -45\n",
      "math.ceil(100.12) :  101\n",
      "math.ceil(100.72) :  101\n",
      "math.ceil(math.pi) :  4\n"
     ]
    }
   ],
   "source": [
    "import math # This will import math module\n",
    "print (\"math.ceil(-45.17) : \", math.ceil(-45.17))\n",
    "print (\"math.ceil(100.12) : \", math.ceil(100.12))\n",
    "print (\"math.ceil(100.72) : \", math.ceil(100.72))\n",
    "print (\"math.ceil(math.pi) : \", math.ceil(math.pi))"
   ]
  },
  {
   "cell_type": "markdown",
   "id": "interior-patient",
   "metadata": {},
   "source": [
    "### exp() Method"
   ]
  },
  {
   "cell_type": "code",
   "execution_count": 5,
   "id": "rolled-meaning",
   "metadata": {},
   "outputs": [
    {
     "name": "stdout",
     "output_type": "stream",
     "text": [
      "math.exp(-45.17) :  2.4150062132629406e-20\n",
      "math.exp(100.12) :  3.0308436140742566e+43\n",
      "math.exp(100.72) :  5.522557130248187e+43\n",
      "math.exp(math.pi) :  23.140692632779267\n"
     ]
    }
   ],
   "source": [
    "print (\"math.exp(-45.17) : \", math.exp(-45.17))\n",
    "print (\"math.exp(100.12) : \", math.exp(100.12))\n",
    "print (\"math.exp(100.72) : \", math.exp(100.72))\n",
    "print (\"math.exp(math.pi) : \", math.exp(math.pi))"
   ]
  },
  {
   "cell_type": "markdown",
   "id": "regulated-jones",
   "metadata": {},
   "source": [
    "### floor() Method"
   ]
  },
  {
   "cell_type": "code",
   "execution_count": 6,
   "id": "alike-vertex",
   "metadata": {},
   "outputs": [
    {
     "name": "stdout",
     "output_type": "stream",
     "text": [
      "math.floor(-45.17) :  -46\n",
      "math.floor(100.12) :  100\n",
      "math.floor(100.72) :  100\n",
      "math.floor(math.pi) :  3\n"
     ]
    }
   ],
   "source": [
    "print (\"math.floor(-45.17) : \", math.floor(-45.17))\n",
    "print (\"math.floor(100.12) : \", math.floor(100.12))\n",
    "print (\"math.floor(100.72) : \", math.floor(100.72))\n",
    "print (\"math.floor(math.pi) : \", math.floor(math.pi))"
   ]
  },
  {
   "cell_type": "markdown",
   "id": "initial-acceptance",
   "metadata": {},
   "source": [
    "### log() Method"
   ]
  },
  {
   "cell_type": "code",
   "execution_count": 7,
   "id": "sonic-event",
   "metadata": {},
   "outputs": [
    {
     "name": "stdout",
     "output_type": "stream",
     "text": [
      "math.log(100.12) :  4.6063694665635735\n",
      "math.log(100.72) :  4.612344389736092\n",
      "math.log(math.pi) :  1.1447298858494002\n"
     ]
    }
   ],
   "source": [
    "print (\"math.log(100.12) : \", math.log(100.12))\n",
    "print (\"math.log(100.72) : \", math.log(100.72))\n",
    "print (\"math.log(math.pi) : \", math.log(math.pi))"
   ]
  },
  {
   "cell_type": "markdown",
   "id": "current-remainder",
   "metadata": {},
   "source": [
    "### log10() Method"
   ]
  },
  {
   "cell_type": "code",
   "execution_count": 8,
   "id": "sustainable-ready",
   "metadata": {},
   "outputs": [
    {
     "name": "stdout",
     "output_type": "stream",
     "text": [
      "math.log10(100.12) :  2.0005208409361854\n",
      "math.log10(100.72) :  2.003115717099806\n",
      "math.log10(119) :  2.0755469613925306\n",
      "math.log10(math.pi) :  0.49714987269413385\n"
     ]
    }
   ],
   "source": [
    "print (\"math.log10(100.12) : \", math.log10(100.12))\n",
    "print (\"math.log10(100.72) : \", math.log10(100.72))\n",
    "print (\"math.log10(119) : \", math.log10(119))\n",
    "print (\"math.log10(math.pi) : \", math.log10(math.pi))"
   ]
  },
  {
   "cell_type": "markdown",
   "id": "foreign-evening",
   "metadata": {},
   "source": [
    "### max() Method"
   ]
  },
  {
   "cell_type": "code",
   "execution_count": 9,
   "id": "worth-genome",
   "metadata": {},
   "outputs": [
    {
     "name": "stdout",
     "output_type": "stream",
     "text": [
      "max(80, 100, 1000) :  1000\n",
      "max(-20, 100, 400) :  400\n",
      "max(-80, -20, -10) :  -10\n",
      "max(0, 100, -400) :  100\n"
     ]
    }
   ],
   "source": [
    "print (\"max(80, 100, 1000) : \", max(80, 100, 1000))\n",
    "print (\"max(-20, 100, 400) : \", max(-20, 100, 400))\n",
    "print (\"max(-80, -20, -10) : \", max(-80, -20, -10))\n",
    "print (\"max(0, 100, -400) : \", max(0, 100, -400))"
   ]
  },
  {
   "cell_type": "markdown",
   "id": "determined-harvest",
   "metadata": {},
   "source": [
    "### min() Method"
   ]
  },
  {
   "cell_type": "code",
   "execution_count": 10,
   "id": "swiss-psychology",
   "metadata": {},
   "outputs": [
    {
     "name": "stdout",
     "output_type": "stream",
     "text": [
      "min(80, 100, 1000) :  80\n",
      "min(-20, 100, 400) :  -20\n",
      "min(-80, -20, -10) :  -80\n",
      "min(0, 100, -400) :  -400\n"
     ]
    }
   ],
   "source": [
    "print (\"min(80, 100, 1000) : \", min(80, 100, 1000))\n",
    "print (\"min(-20, 100, 400) : \", min(-20, 100, 400))\n",
    "print (\"min(-80, -20, -10) : \", min(-80, -20, -10))\n",
    "print (\"min(0, 100, -400) : \", min(0, 100, -400))"
   ]
  },
  {
   "cell_type": "markdown",
   "id": "korean-spring",
   "metadata": {},
   "source": [
    "### modf() Method"
   ]
  },
  {
   "cell_type": "code",
   "execution_count": 11,
   "id": "geographic-chancellor",
   "metadata": {},
   "outputs": [
    {
     "name": "stdout",
     "output_type": "stream",
     "text": [
      "math.modf(100.12) :  (0.12000000000000455, 100.0)\n",
      "math.modf(100.72) :  (0.7199999999999989, 100.0)\n",
      "math.modf(119) :  (0.0, 119.0)\n",
      "math.modf(math.pi) :  (0.14159265358979312, 3.0)\n"
     ]
    }
   ],
   "source": [
    "print (\"math.modf(100.12) : \", math.modf(100.12))\n",
    "print (\"math.modf(100.72) : \", math.modf(100.72))\n",
    "print (\"math.modf(119) : \", math.modf(119))\n",
    "print (\"math.modf(math.pi) : \", math.modf(math.pi))"
   ]
  },
  {
   "cell_type": "markdown",
   "id": "outstanding-present",
   "metadata": {},
   "source": [
    "### pow() Method"
   ]
  },
  {
   "cell_type": "code",
   "execution_count": 12,
   "id": "deadly-building",
   "metadata": {},
   "outputs": [
    {
     "name": "stdout",
     "output_type": "stream",
     "text": [
      "math.pow(100, 2) :  10000.0\n",
      "math.pow(100, -2) :  0.0001\n",
      "math.pow(2, 4) :  16.0\n",
      "math.pow(3, 0) :  1.0\n"
     ]
    }
   ],
   "source": [
    "print (\"math.pow(100, 2) : \", math.pow(100, 2))\n",
    "print (\"math.pow(100, -2) : \", math.pow(100, -2))\n",
    "print (\"math.pow(2, 4) : \", math.pow(2, 4))\n",
    "print (\"math.pow(3, 0) : \", math.pow(3, 0))"
   ]
  },
  {
   "cell_type": "markdown",
   "id": "favorite-farmer",
   "metadata": {},
   "source": [
    "### round() Method\n",
    "\n",
    "round( x , n ) --> Returns x rounded to n decimal places."
   ]
  },
  {
   "cell_type": "code",
   "execution_count": 13,
   "id": "impressive-shock",
   "metadata": {},
   "outputs": [
    {
     "name": "stdout",
     "output_type": "stream",
     "text": [
      "round(70.23456) :  70\n",
      "round(56.659,1) :  56.7\n",
      "round(80.264, 2) :  80.26\n",
      "round(100.000056, 3) :  100.0\n",
      "round(-100.000056, 3) :  -100.0\n"
     ]
    }
   ],
   "source": [
    "print (\"round(70.23456) : \", round(70.23456))\n",
    "print (\"round(56.659,1) : \", round(56.659,1))\n",
    "print (\"round(80.264, 2) : \", round(80.264, 2))\n",
    "print (\"round(100.000056, 3) : \", round(100.000056, 3))\n",
    "print (\"round(-100.000056, 3) : \", round(-100.000056, 3))"
   ]
  },
  {
   "cell_type": "markdown",
   "id": "opening-polymer",
   "metadata": {},
   "source": [
    "### sqrt() Method"
   ]
  },
  {
   "cell_type": "code",
   "execution_count": 14,
   "id": "nasty-implement",
   "metadata": {},
   "outputs": [
    {
     "name": "stdout",
     "output_type": "stream",
     "text": [
      "math.sqrt(100) :  10.0\n",
      "math.sqrt(7) :  2.6457513110645907\n",
      "math.sqrt(math.pi) :  1.7724538509055159\n"
     ]
    }
   ],
   "source": [
    "print (\"math.sqrt(100) : \", math.sqrt(100))\n",
    "print (\"math.sqrt(7) : \", math.sqrt(7))\n",
    "print (\"math.sqrt(math.pi) : \", math.sqrt(math.pi))"
   ]
  },
  {
   "cell_type": "markdown",
   "id": "alternate-thong",
   "metadata": {},
   "source": [
    "# Random Number Functions"
   ]
  },
  {
   "cell_type": "markdown",
   "id": "alone-mustang",
   "metadata": {},
   "source": [
    "Random numbers are used for games, simulations, testing, security, and privacy applications.\n",
    "\n",
    "Function | Description\n",
    "---------|-----------\n",
    "choice(seq) | A random item from a list, tuple, or string.\n",
    "randrange ([start,] stop [,step]) | A randomly selected element from range(start, stop, step).\n",
    "random() | A random float r, such that 0 is less than or equal to r and r is less than 1.\n",
    "seed([x]) | Sets the integer starting value used in generating random numbers. Call this function before calling any other random module function. Returns None.\n",
    "shuffle(lst) | Randomizes the items of a list in place. Returns None.\n",
    "uniform(x, y) | A random float r, such that x is less than or equal to r and r is less than y."
   ]
  },
  {
   "cell_type": "markdown",
   "id": "several-civilization",
   "metadata": {},
   "source": [
    "### choice() Method\n",
    "\n",
    "The choice() method returns a random item from a list, tuple, or string."
   ]
  },
  {
   "cell_type": "code",
   "execution_count": 15,
   "id": "latest-chain",
   "metadata": {},
   "outputs": [
    {
     "name": "stdout",
     "output_type": "stream",
     "text": [
      "returns a random number from range(100) :  69\n",
      "returns random element from list [1, 2, 3, 5, 9]) :  2\n",
      "returns random character from string 'Hello World' :  l\n"
     ]
    }
   ],
   "source": [
    "import random\n",
    "print (\"returns a random number from range(100) : \",random.choice(range(100)))\n",
    "print (\"returns random element from list [1, 2, 3, 5, 9]) : \", random.choice([1, 2, 3, 5, 9]))\n",
    "print (\"returns random character from string 'Hello World' : \", random.choice('Hello World'))"
   ]
  },
  {
   "cell_type": "markdown",
   "id": "floral-difference",
   "metadata": {},
   "source": [
    "### randrange() Method\n",
    "\n",
    "The randrange() method returns a randomly selected element from range(start, stop, step)."
   ]
  },
  {
   "cell_type": "code",
   "execution_count": 16,
   "id": "expanded-vault",
   "metadata": {},
   "outputs": [
    {
     "name": "stdout",
     "output_type": "stream",
     "text": [
      "randrange(1,100, 2) :  15\n",
      "randrange(100) :  38\n"
     ]
    }
   ],
   "source": [
    "# randomly select an odd number between 1-100\n",
    "print (\"randrange(1,100, 2) : \", random.randrange(1, 100, 2))\n",
    "# randomly select a number between 0-99\n",
    "print (\"randrange(100) : \", random.randrange(100))"
   ]
  },
  {
   "cell_type": "markdown",
   "id": "respected-platform",
   "metadata": {},
   "source": [
    "### random() Method\n",
    "\n",
    "Returns a random float r, such that 0.0 <= r <= 1.0"
   ]
  },
  {
   "cell_type": "code",
   "execution_count": 17,
   "id": "sublime-tulsa",
   "metadata": {},
   "outputs": [
    {
     "name": "stdout",
     "output_type": "stream",
     "text": [
      "random() :  0.07972524465223751\n",
      "random() :  0.9645040072696458\n"
     ]
    }
   ],
   "source": [
    "# First random number\n",
    "print (\"random() : \", random.random())\n",
    "# Second random number\n",
    "print (\"random() : \", random.random())"
   ]
  },
  {
   "cell_type": "markdown",
   "id": "wound-canadian",
   "metadata": {},
   "source": [
    "### seed() Method\n",
    "\n",
    "The seed() method initializes the basic random number generator. Call this function before calling any other random module function.\n",
    "\n",
    "**Synatx: seed([x], [y])**\n",
    "\n",
    "* x - This is the seed for the next random number. If omitted, then it takes system time to generate the next random number. If x is an int, it is used directly.\n",
    "* y - This is version number (default is 2). str, byte or byte array object gets converted in int. Version 1 used hash() of x."
   ]
  },
  {
   "cell_type": "code",
   "execution_count": 18,
   "id": "harmful-insured",
   "metadata": {},
   "outputs": [
    {
     "name": "stdout",
     "output_type": "stream",
     "text": [
      "random number with default seed 0.9540453984725905\n",
      "random number with int seed 0.5714025946899135\n",
      "random number with string seed 0.3537754404730722\n"
     ]
    }
   ],
   "source": [
    "random.seed()\n",
    "print (\"random number with default seed\", random.random())\n",
    "random.seed(10)\n",
    "print (\"random number with int seed\", random.random())\n",
    "random.seed(\"hello\",2)\n",
    "print (\"random number with string seed\", random.random())"
   ]
  },
  {
   "cell_type": "markdown",
   "id": "italian-release",
   "metadata": {},
   "source": [
    "### shuffle() Method\n",
    "\n",
    "Randomizes the items of a list in place\n",
    "\n",
    "**Synatx: shuffle (lst,[random])**\n",
    "\n",
    "* lst - This could be a list or tuple.\n",
    "* random - This is an optional 0 argument function returning float between 0.0 - 1.0. Default is None."
   ]
  },
  {
   "cell_type": "code",
   "execution_count": 19,
   "id": "freelance-brass",
   "metadata": {},
   "outputs": [
    {
     "name": "stdout",
     "output_type": "stream",
     "text": [
      "Reshuffled list :  [10, 16, 5, 20]\n",
      "Reshuffled list :  [20, 16, 5, 10]\n"
     ]
    }
   ],
   "source": [
    "list = [20, 16, 10, 5];\n",
    "random.shuffle(list)\n",
    "print (\"Reshuffled list : \", list)\n",
    "random.shuffle(list)\n",
    "print (\"Reshuffled list : \", list)"
   ]
  },
  {
   "cell_type": "markdown",
   "id": "reserved-encyclopedia",
   "metadata": {},
   "source": [
    "### uniform() Method\n",
    "\n",
    "Returns a random float r, such that x is the upper limit and y is the lower limit"
   ]
  },
  {
   "cell_type": "code",
   "execution_count": 20,
   "id": "fifth-salon",
   "metadata": {},
   "outputs": [
    {
     "name": "stdout",
     "output_type": "stream",
     "text": [
      "Random Float uniform(5, 10) :  8.32548129941273\n",
      "Random Float uniform(7, 14) :  11.50216637642797\n"
     ]
    }
   ],
   "source": [
    "print (\"Random Float uniform(5, 10) : \", random.uniform(5, 10))\n",
    "print (\"Random Float uniform(7, 14) : \", random.uniform(7, 14))"
   ]
  },
  {
   "cell_type": "markdown",
   "id": "seeing-glass",
   "metadata": {},
   "source": [
    "# Trigonometric Functions\n",
    "\n",
    "Function | Description\n",
    "---------|------------\n",
    "acos(x) | Return the arc cosine of x, in radians.\n",
    "asin(x) | Return the arc sine of x, in radians.\n",
    "atan(x) | Return the arc tangent of x, in radians.\n",
    "atan2(y, x) | Return atan(y / x), in radians.\n",
    "cos(x) | Return the cosine of x radians.\n",
    "sin(x) | Return the sine of x radians.\n",
    "tan(x) | Return the tangent of x radians.\n",
    "hypot(x, y) | Return the Euclidean norm, sqrt(x*x + y*y).\n",
    "degrees(x) | Converts angle x from radians to degrees.\n",
    "radians(x) | Converts angle x from degrees to radians."
   ]
  },
  {
   "cell_type": "markdown",
   "id": "timely-keyboard",
   "metadata": {},
   "source": [
    "### acos() Method\n",
    "\n",
    "**acos(x)** - Returns arc cosine of x\n",
    "\n",
    "x - This must be a numeric value in the range -1 to 1. If x is greater than 1 then it will generate 'math domain error'."
   ]
  },
  {
   "cell_type": "code",
   "execution_count": 21,
   "id": "neural-california",
   "metadata": {},
   "outputs": [
    {
     "name": "stdout",
     "output_type": "stream",
     "text": [
      "acos(0.64) :  0.8762980611683406\n",
      "acos(0) :  1.5707963267948966\n",
      "acos(-1) :  3.141592653589793\n",
      "acos(1) :  0.0\n"
     ]
    }
   ],
   "source": [
    "print (\"acos(0.64) : \", math.acos(0.64))\n",
    "print (\"acos(0) : \", math.acos(0))\n",
    "print (\"acos(-1) : \", math.acos(-1))\n",
    "print (\"acos(1) : \", math.acos(1))"
   ]
  },
  {
   "cell_type": "markdown",
   "id": "flying-rugby",
   "metadata": {},
   "source": [
    "### asin() Method\n",
    "\n",
    "**asin(x)** - Returns arc sine of x"
   ]
  },
  {
   "cell_type": "code",
   "execution_count": 22,
   "id": "spare-introduction",
   "metadata": {},
   "outputs": [
    {
     "name": "stdout",
     "output_type": "stream",
     "text": [
      "asin(0.64) :  0.694498265626556\n",
      "asin(0) :  0.0\n",
      "asin(-1) :  -1.5707963267948966\n",
      "asin(1) :  1.5707963267948966\n"
     ]
    }
   ],
   "source": [
    "print (\"asin(0.64) : \", math.asin(0.64))\n",
    "print (\"asin(0) : \", math.asin(0))\n",
    "print (\"asin(-1) : \", math.asin(-1))\n",
    "print (\"asin(1) : \", math.asin(1))"
   ]
  },
  {
   "cell_type": "markdown",
   "id": "swedish-civilization",
   "metadata": {},
   "source": [
    "### atan() Method\n",
    "\n",
    "**atan(x)** - Returns arc tangent of x"
   ]
  },
  {
   "cell_type": "code",
   "execution_count": 23,
   "id": "fixed-broadway",
   "metadata": {},
   "outputs": [
    {
     "name": "stdout",
     "output_type": "stream",
     "text": [
      "atan(0.64) :  0.5693131911006619\n",
      "atan(0) :  0.0\n",
      "atan(10) :  1.4711276743037347\n",
      "atan(-1) :  -0.7853981633974483\n",
      "atan(1) :  0.7853981633974483\n"
     ]
    }
   ],
   "source": [
    "print (\"atan(0.64) : \", math.atan(0.64))\n",
    "print (\"atan(0) : \", math.atan(0))\n",
    "print (\"atan(10) : \", math.atan(10))\n",
    "print (\"atan(-1) : \", math.atan(-1))\n",
    "print (\"atan(1) : \", math.atan(1))"
   ]
  },
  {
   "cell_type": "markdown",
   "id": "presidential-aviation",
   "metadata": {},
   "source": [
    "### atan2() Method\n",
    "\n",
    "**atan2(y,x)** - Returns arc tangent of y/x"
   ]
  },
  {
   "cell_type": "code",
   "execution_count": 24,
   "id": "technical-sleep",
   "metadata": {},
   "outputs": [
    {
     "name": "stdout",
     "output_type": "stream",
     "text": [
      "atan2(-0.50,-0.50) :  -2.356194490192345\n",
      "atan2(0.50,0.50) :  0.7853981633974483\n",
      "atan2(5,5) :  0.7853981633974483\n",
      "atan2(-10,10) :  -0.7853981633974483\n",
      "atan2(10,20) :  0.4636476090008061\n"
     ]
    }
   ],
   "source": [
    "print (\"atan2(-0.50,-0.50) : \", math.atan2(-0.50,-0.50))\n",
    "print (\"atan2(0.50,0.50) : \", math.atan2(0.50,0.50))\n",
    "print (\"atan2(5,5) : \", math.atan2(5,5))\n",
    "print (\"atan2(-10,10) : \", math.atan2(-10,10))\n",
    "print (\"atan2(10,20) : \", math.atan2(10,20))"
   ]
  },
  {
   "cell_type": "markdown",
   "id": "ongoing-bidder",
   "metadata": {},
   "source": [
    "### cos() Method"
   ]
  },
  {
   "cell_type": "code",
   "execution_count": 25,
   "id": "industrial-parts",
   "metadata": {},
   "outputs": [
    {
     "name": "stdout",
     "output_type": "stream",
     "text": [
      "cos(3) :  -0.9899924966004454\n",
      "cos(-3) :  -0.9899924966004454\n",
      "cos(0) :  1.0\n",
      "cos(math.pi) :  -1.0\n",
      "cos(2*math.pi) :  1.0\n"
     ]
    }
   ],
   "source": [
    "print (\"cos(3) : \", math.cos(3))\n",
    "print (\"cos(-3) : \", math.cos(-3))\n",
    "print (\"cos(0) : \", math.cos(0))\n",
    "print (\"cos(math.pi) : \", math.cos(math.pi))\n",
    "print (\"cos(2*math.pi) : \", math.cos(2*math.pi))"
   ]
  },
  {
   "cell_type": "markdown",
   "id": "future-chester",
   "metadata": {},
   "source": [
    "### sin() Method"
   ]
  },
  {
   "cell_type": "code",
   "execution_count": 26,
   "id": "competent-bernard",
   "metadata": {},
   "outputs": [
    {
     "name": "stdout",
     "output_type": "stream",
     "text": [
      "sin(3) :  0.1411200080598672\n",
      "sin(-3) :  -0.1411200080598672\n",
      "sin(0) :  0.0\n",
      "sin(math.pi) :  1.2246467991473532e-16\n",
      "sin(math.pi/2) :  1.0\n"
     ]
    }
   ],
   "source": [
    "print (\"sin(3) : \", math.sin(3))\n",
    "print (\"sin(-3) : \", math.sin(-3))\n",
    "print (\"sin(0) : \", math.sin(0))\n",
    "print (\"sin(math.pi) : \", math.sin(math.pi))\n",
    "print (\"sin(math.pi/2) : \", math.sin(math.pi/2))"
   ]
  },
  {
   "cell_type": "markdown",
   "id": "annoying-spotlight",
   "metadata": {},
   "source": [
    "### tan() Method"
   ]
  },
  {
   "cell_type": "code",
   "execution_count": 27,
   "id": "exclusive-cooler",
   "metadata": {},
   "outputs": [
    {
     "name": "stdout",
     "output_type": "stream",
     "text": [
      "(tan(3) :  -0.1425465430742778\n",
      "tan(-3) :  0.1425465430742778\n",
      "tan(0) :  0.0\n",
      "tan(math.pi) :  -1.2246467991473532e-16\n",
      "tan(math.pi/2) :  1.633123935319537e+16\n",
      "tan(math.pi/4) :  0.9999999999999999\n"
     ]
    }
   ],
   "source": [
    "print (\"(tan(3) : \", math.tan(3))\n",
    "print (\"tan(-3) : \", math.tan(-3))\n",
    "print (\"tan(0) : \", math.tan(0))\n",
    "print (\"tan(math.pi) : \", math.tan(math.pi))\n",
    "print (\"tan(math.pi/2) : \", math.tan(math.pi/2))\n",
    "print (\"tan(math.pi/4) : \", math.tan(math.pi/4))"
   ]
  },
  {
   "cell_type": "markdown",
   "id": "downtown-persian",
   "metadata": {},
   "source": [
    "### hypot() Method\n",
    "\n",
    "**hypot(x, y)** - Return the Euclidean norm, sqrt(x*x + y*y). This is the length of vector from origin to point (x,y)"
   ]
  },
  {
   "cell_type": "code",
   "execution_count": 28,
   "id": "frank-farmer",
   "metadata": {},
   "outputs": [
    {
     "name": "stdout",
     "output_type": "stream",
     "text": [
      "hypot(3, 2) :  3.6055512754639896\n",
      "hypot(-3, 3) :  4.242640687119286\n",
      "hypot(0, 2) :  2.0\n"
     ]
    }
   ],
   "source": [
    "print (\"hypot(3, 2) : \", math.hypot(3, 2))\n",
    "print (\"hypot(-3, 3) : \", math.hypot(-3, 3))\n",
    "print (\"hypot(0, 2) : \", math.hypot(0, 2))"
   ]
  },
  {
   "cell_type": "markdown",
   "id": "functioning-yellow",
   "metadata": {},
   "source": [
    "### degrees() Method\n",
    "\n",
    "Converts angle x from radians to degrees"
   ]
  },
  {
   "cell_type": "code",
   "execution_count": 29,
   "id": "pediatric-gibson",
   "metadata": {},
   "outputs": [
    {
     "name": "stdout",
     "output_type": "stream",
     "text": [
      "degrees(3) :  171.88733853924697\n",
      "degrees(-3) :  -171.88733853924697\n",
      "degrees(0) :  0.0\n",
      "degrees(math.pi) :  180.0\n",
      "degrees(math.pi/2) :  90.0\n",
      "degrees(math.pi/4) :  45.0\n"
     ]
    }
   ],
   "source": [
    "print (\"degrees(3) : \", math.degrees(3))\n",
    "print (\"degrees(-3) : \", math.degrees(-3))\n",
    "print (\"degrees(0) : \", math.degrees(0))\n",
    "print (\"degrees(math.pi) : \", math.degrees(math.pi))\n",
    "print (\"degrees(math.pi/2) : \", math.degrees(math.pi/2))\n",
    "print (\"degrees(math.pi/4) : \", math.degrees(math.pi/4))"
   ]
  },
  {
   "cell_type": "markdown",
   "id": "indoor-indonesian",
   "metadata": {},
   "source": [
    "### radians() Method\n",
    "\n",
    "Converts angle x from degrees to radians"
   ]
  },
  {
   "cell_type": "code",
   "execution_count": 30,
   "id": "naked-group",
   "metadata": {},
   "outputs": [
    {
     "name": "stdout",
     "output_type": "stream",
     "text": [
      "radians(3) :  0.05235987755982989\n",
      "radians(-3) :  -0.05235987755982989\n",
      "radians(0) :  0.0\n",
      "radians(math.pi) :  0.05483113556160755\n",
      "radians(math.pi/2) :  0.027415567780803774\n",
      "radians(math.pi/4) :  0.013707783890401887\n"
     ]
    }
   ],
   "source": [
    "print (\"radians(3) : \", math.radians(3))\n",
    "print (\"radians(-3) : \", math.radians(-3))\n",
    "print (\"radians(0) : \", math.radians(0))\n",
    "print (\"radians(math.pi) : \", math.radians(math.pi))\n",
    "print (\"radians(math.pi/2) : \", math.radians(math.pi/2))\n",
    "print (\"radians(math.pi/4) : \", math.radians(math.pi/4))"
   ]
  }
 ],
 "metadata": {
  "kernelspec": {
   "display_name": "Python 3",
   "language": "python",
   "name": "python3"
  },
  "language_info": {
   "codemirror_mode": {
    "name": "ipython",
    "version": 3
   },
   "file_extension": ".py",
   "mimetype": "text/x-python",
   "name": "python",
   "nbconvert_exporter": "python",
   "pygments_lexer": "ipython3",
   "version": "3.9.2"
  }
 },
 "nbformat": 4,
 "nbformat_minor": 5
}
