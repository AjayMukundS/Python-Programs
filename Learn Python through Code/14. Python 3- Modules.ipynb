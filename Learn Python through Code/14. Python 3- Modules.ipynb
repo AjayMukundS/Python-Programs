{
 "cells": [
  {
   "cell_type": "markdown",
   "id": "measured-indie",
   "metadata": {},
   "source": [
    "# Modules\n",
    "\n",
    "A module allows you to logically organize your Python code. Grouping related code into a module makes the code easier to understand and use. A module is a Python object with arbitrarily named attributes that you can bind and reference.\n",
    "\n",
    "### Import Statement\n",
    "\n",
    "You can use any Python source file as a module by executing an import statement in some other Python source file."
   ]
  },
  {
   "cell_type": "code",
   "execution_count": 2,
   "id": "invisible-pride",
   "metadata": {},
   "outputs": [
    {
     "name": "stdout",
     "output_type": "stream",
     "text": [
      "Hello :  Zara\n"
     ]
    }
   ],
   "source": [
    "# Import module support\n",
    "import support\n",
    "# Now you can call defined function that module as follows\n",
    "support.print_func(\"Zara\")"
   ]
  },
  {
   "cell_type": "markdown",
   "id": "medium-acting",
   "metadata": {},
   "source": [
    "### The from... import Statement\n",
    "\n",
    "Python's from statement lets you import specific attributes from a module into the current namespace."
   ]
  },
  {
   "cell_type": "code",
   "execution_count": 3,
   "id": "sealed-casino",
   "metadata": {},
   "outputs": [
    {
     "data": {
      "text/plain": [
       "[1, 1, 2, 3, 5, 8, 13, 21, 34, 55, 89]"
      ]
     },
     "execution_count": 3,
     "metadata": {},
     "output_type": "execute_result"
    }
   ],
   "source": [
    "from fib import fib\n",
    "fib(100)"
   ]
  },
  {
   "cell_type": "markdown",
   "id": "rocky-satellite",
   "metadata": {},
   "source": [
    "### The from...import * Statement\n",
    "\n",
    "It is also possible to import all the names from a module into the current namespace"
   ]
  },
  {
   "cell_type": "markdown",
   "id": "imposed-southwest",
   "metadata": {},
   "source": [
    "### Executing Modules as Scripts\n",
    "\n",
    "Within a module, the module’s name (as a string) is available as the value of the global variable _ _name_ _. The code in the module will be executed, just as if you imported it, but with the _ _name_ _ set to \"_ _main_ _\"."
   ]
  },
  {
   "cell_type": "code",
   "execution_count": 4,
   "id": "military-roberts",
   "metadata": {},
   "outputs": [
    {
     "name": "stdout",
     "output_type": "stream",
     "text": [
      "[1, 1, 2, 3, 5, 8, 13, 21, 34, 55, 89]\n"
     ]
    }
   ],
   "source": [
    "# Fibonacci numbers module\n",
    "def fib(n): # return Fibonacci series up to n\n",
    "    result = []\n",
    "    a, b = 0, 1\n",
    "    while b < n:\n",
    "        result.append(b)\n",
    "        a, b = b, a+b\n",
    "    return result\n",
    "if __name__ == \"__main__\":\n",
    "    f=fib(100)\n",
    "    print(f)"
   ]
  },
  {
   "cell_type": "markdown",
   "id": "processed-roulette",
   "metadata": {},
   "source": [
    "### Namespaces and Scoping\n",
    "\n",
    "Variables are names (identifiers) that map to objects. A namespace is a dictionary of variable names (keys) and their corresponding objects (values).\n",
    "\n",
    "* A Python statement can access variables in a local namespace and in the global namespace. If a local and a global variable have the same name, the local variable shadows the global variable.\n",
    "* Each function has its own local namespace. Class methods follow the same scoping rule as ordinary functions.\n",
    "* Python makes educated guesses on whether variables are local or global. It assumes that any variable assigned a value in a function is local.\n",
    "* Therefore, in order to assign a value to a global variable within a function, you must first use the global statement.\n",
    "* The statement global VarName tells Python that VarName is a global variable. Python stops searching the local namespace for the variable."
   ]
  },
  {
   "cell_type": "code",
   "execution_count": 10,
   "id": "double-audio",
   "metadata": {},
   "outputs": [
    {
     "name": "stdout",
     "output_type": "stream",
     "text": [
      "2000\n",
      "2001\n"
     ]
    }
   ],
   "source": [
    "Money = 2000\n",
    "def AddMoney():\n",
    "    # Uncomment the following line to fix the code:\n",
    "    global Money\n",
    "    Money = Money + 1\n",
    "    \n",
    "print (Money)\n",
    "AddMoney()\n",
    "print (Money)"
   ]
  },
  {
   "cell_type": "markdown",
   "id": "settled-signal",
   "metadata": {},
   "source": [
    "### The dir() Function\n",
    "\n",
    "The dir() built-in function returns a sorted list of strings containing the names defined by a module."
   ]
  },
  {
   "cell_type": "code",
   "execution_count": 11,
   "id": "blessed-cattle",
   "metadata": {},
   "outputs": [
    {
     "name": "stdout",
     "output_type": "stream",
     "text": [
      "['__doc__', '__loader__', '__name__', '__package__', '__spec__', 'acos', 'acosh', 'asin', 'asinh', 'atan', 'atan2', 'atanh', 'ceil', 'comb', 'copysign', 'cos', 'cosh', 'degrees', 'dist', 'e', 'erf', 'erfc', 'exp', 'expm1', 'fabs', 'factorial', 'floor', 'fmod', 'frexp', 'fsum', 'gamma', 'gcd', 'hypot', 'inf', 'isclose', 'isfinite', 'isinf', 'isnan', 'isqrt', 'lcm', 'ldexp', 'lgamma', 'log', 'log10', 'log1p', 'log2', 'modf', 'nan', 'nextafter', 'perm', 'pi', 'pow', 'prod', 'radians', 'remainder', 'sin', 'sinh', 'sqrt', 'tan', 'tanh', 'tau', 'trunc', 'ulp']\n"
     ]
    }
   ],
   "source": [
    "import math\n",
    "content = dir(math)\n",
    "print (content)"
   ]
  },
  {
   "cell_type": "markdown",
   "id": "fiscal-discipline",
   "metadata": {},
   "source": [
    "### The globals() and locals() Functions\n",
    "\n",
    "The globals() and locals() functions can be used to return the names in the global and local namespaces depending on the location from where they are called.\n",
    "\n",
    "* If locals() is called from within a function, it will return all the names that can be accessed locally from that function.\n",
    "* If globals() is called from within a function, it will return all the names that can be accessed globally from that function.\n",
    "\n",
    "The return type of both these functions is dictionary. Therefore, names can be extracted using the keys() function."
   ]
  },
  {
   "cell_type": "code",
   "execution_count": null,
   "id": "classical-lighter",
   "metadata": {},
   "outputs": [],
   "source": []
  }
 ],
 "metadata": {
  "kernelspec": {
   "display_name": "Python 3",
   "language": "python",
   "name": "python3"
  },
  "language_info": {
   "codemirror_mode": {
    "name": "ipython",
    "version": 3
   },
   "file_extension": ".py",
   "mimetype": "text/x-python",
   "name": "python",
   "nbconvert_exporter": "python",
   "pygments_lexer": "ipython3",
   "version": "3.9.2"
  }
 },
 "nbformat": 4,
 "nbformat_minor": 5
}
