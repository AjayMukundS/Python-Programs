{
 "cells": [
  {
   "cell_type": "markdown",
   "id": "executive-graduation",
   "metadata": {},
   "source": [
    "# Tuples\n",
    "\n",
    "A **Tuple** is a sequence of immutable Python objects. Tuples are sequences, just like lists. The main difference between the tuples and the lists is that the tuples cannot be changed unlike lists. Tuples use parentheses, whereas lists use square brackets."
   ]
  },
  {
   "cell_type": "markdown",
   "id": "tender-functionality",
   "metadata": {},
   "source": [
    "### Creating Tuple"
   ]
  },
  {
   "cell_type": "code",
   "execution_count": 1,
   "id": "extreme-tournament",
   "metadata": {},
   "outputs": [],
   "source": [
    "tup1 = ('physics', 'chemistry', 1997, 2000)\n",
    "tup2 = (1, 2, 3, 4, 5 )\n",
    "tup3 = \"a\", \"b\", \"c\", \"d\""
   ]
  },
  {
   "cell_type": "code",
   "execution_count": 2,
   "id": "racial-plain",
   "metadata": {},
   "outputs": [],
   "source": [
    "tup1 = () # Empty Tuple"
   ]
  },
  {
   "cell_type": "code",
   "execution_count": 3,
   "id": "killing-brooks",
   "metadata": {},
   "outputs": [],
   "source": [
    "tup1 = (50,) # Tuple containing a single value - Include a comma, even though there is only one value."
   ]
  },
  {
   "cell_type": "markdown",
   "id": "superior-lightning",
   "metadata": {},
   "source": [
    "### Accessing Values in Tuples"
   ]
  },
  {
   "cell_type": "code",
   "execution_count": 4,
   "id": "parliamentary-paraguay",
   "metadata": {},
   "outputs": [
    {
     "name": "stdout",
     "output_type": "stream",
     "text": [
      "tup1[0]:  physics\n",
      "tup2[1:5]:  (2, 3, 4, 5)\n"
     ]
    }
   ],
   "source": [
    "tup1 = ('physics', 'chemistry', 1997, 2000)\n",
    "tup2 = (1, 2, 3, 4, 5, 6, 7 )\n",
    "print (\"tup1[0]: \", tup1[0])\n",
    "print (\"tup2[1:5]: \", tup2[1:5])"
   ]
  },
  {
   "cell_type": "markdown",
   "id": "close-cooling",
   "metadata": {},
   "source": [
    "### Updating Tuples\n",
    "\n",
    "Tuples are immutable, which means you cannot update or change the values of tuple elements. You are able to take portions of the existing tuples to create new tuples"
   ]
  },
  {
   "cell_type": "code",
   "execution_count": 5,
   "id": "occupational-nightmare",
   "metadata": {},
   "outputs": [
    {
     "name": "stdout",
     "output_type": "stream",
     "text": [
      "(12, 34.56, 'abc', 'xyz')\n"
     ]
    }
   ],
   "source": [
    "tup1 = (12, 34.56)\n",
    "tup2 = ('abc', 'xyz')\n",
    "# Following action is not valid for tuples\n",
    "# tup1[0] = 100;\n",
    "# So let's create a new tuple as follows\n",
    "tup3 = tup1 + tup2\n",
    "print (tup3)"
   ]
  },
  {
   "cell_type": "markdown",
   "id": "comic-upset",
   "metadata": {},
   "source": [
    "### Delete Tuple Elements\n",
    "\n",
    "Removing individual tuple elements is not possible. There is, of course, nothing wrong with putting together another tuple with the undesired elements discarded.\n",
    "\n",
    "To explicitly remove an entire tuple, just use the **del** statement."
   ]
  },
  {
   "cell_type": "code",
   "execution_count": 8,
   "id": "thrown-beijing",
   "metadata": {},
   "outputs": [
    {
     "name": "stdout",
     "output_type": "stream",
     "text": [
      "('physics', 'chemistry', 1997, 2000)\n"
     ]
    }
   ],
   "source": [
    "tup = ('physics', 'chemistry', 1997, 2000);\n",
    "print (tup)\n",
    "del tup;\n",
    "# print(tup) --> Error: NameError: name 'tup' is not defined"
   ]
  },
  {
   "cell_type": "markdown",
   "id": "going-pound",
   "metadata": {},
   "source": [
    "### Basic Tuple Operations\n",
    "\n",
    "Python Expression | Results | Description\n",
    "------------|------------|------------\n",
    "len((1, 2, 3)) | 3 | Length\n",
    "(1, 2, 3) + (4, 5, 6) | (1, 2, 3, 4, 5, 6) | Concatenation\n",
    "('Hi!',) * 4 | ('Hi!', 'Hi!', 'Hi!', 'Hi!') | Repetition\n",
    "3 in (1, 2, 3) | True | Membership\n",
    "for x in (1,2,3) : print (x, end=' ') |1 2 3 | Iteration"
   ]
  },
  {
   "cell_type": "markdown",
   "id": "considerable-ethiopia",
   "metadata": {},
   "source": [
    "### Indexing, Slicing and Matrixes\n",
    "\n",
    "Assuming the following input- T=('C++', 'Java', 'Python')\n",
    "\n",
    "Python Expression | Results | Description\n",
    "------------------|---------|-----------\n",
    "T[2] | 'Python' | Offsets start at zero\n",
    "T[-2] | 'Java' | Negative: count from the right\n",
    "T[1:] | ('Java', 'Python') | Slicing fetches sections"
   ]
  },
  {
   "cell_type": "markdown",
   "id": "existing-jerusalem",
   "metadata": {},
   "source": [
    "# Built-in Tuple Functions\n",
    "\n",
    "S.No. | Function | Description\n",
    "-----|-----------|---------\n",
    "1 | cmp(tuple1, tuple2) | No longer available in Python 3.\n",
    "2 | len(tuple) | Gives the total length of the tuple.\n",
    "3 | max(tuple) | Returns item from the tuple with max value.\n",
    "4 | min(tuple) | Returns item from the tuple with min value.\n",
    "5 | tuple(seq) | Converts a list into tuple."
   ]
  },
  {
   "cell_type": "markdown",
   "id": "suitable-madrid",
   "metadata": {},
   "source": [
    "### len() Method"
   ]
  },
  {
   "cell_type": "code",
   "execution_count": 9,
   "id": "competent-commissioner",
   "metadata": {},
   "outputs": [
    {
     "name": "stdout",
     "output_type": "stream",
     "text": [
      "First tuple length :  3\n",
      "Second tuple length :  2\n"
     ]
    }
   ],
   "source": [
    "tuple1, tuple2 = (123, 'xyz', 'zara'), (456, 'abc')\n",
    "print (\"First tuple length : \", len(tuple1))\n",
    "print (\"Second tuple length : \", len(tuple2))"
   ]
  },
  {
   "cell_type": "markdown",
   "id": "asian-stranger",
   "metadata": {},
   "source": [
    "### max() Method"
   ]
  },
  {
   "cell_type": "code",
   "execution_count": 10,
   "id": "substantial-footwear",
   "metadata": {},
   "outputs": [
    {
     "name": "stdout",
     "output_type": "stream",
     "text": [
      "Max value element :  phy\n",
      "Max value element :  700\n"
     ]
    }
   ],
   "source": [
    "tuple1, tuple2 = ('maths', 'che', 'phy', 'bio'), (456, 700, 200)\n",
    "print (\"Max value element : \", max(tuple1))\n",
    "print (\"Max value element : \", max(tuple2))"
   ]
  },
  {
   "cell_type": "markdown",
   "id": "featured-failure",
   "metadata": {},
   "source": [
    "### min() Method"
   ]
  },
  {
   "cell_type": "code",
   "execution_count": 11,
   "id": "little-fancy",
   "metadata": {},
   "outputs": [
    {
     "name": "stdout",
     "output_type": "stream",
     "text": [
      "min value element :  bio\n",
      "min value element :  200\n"
     ]
    }
   ],
   "source": [
    "tuple1, tuple2 = ('maths', 'che', 'phy', 'bio'), (456, 700, 200)\n",
    "print (\"min value element : \", min(tuple1))\n",
    "print (\"min value element : \", min(tuple2))"
   ]
  },
  {
   "cell_type": "markdown",
   "id": "sorted-basics",
   "metadata": {},
   "source": [
    "### tuple() Method\n",
    "\n",
    "Converts a list of items into tuples"
   ]
  },
  {
   "cell_type": "code",
   "execution_count": 12,
   "id": "handed-nebraska",
   "metadata": {},
   "outputs": [
    {
     "name": "stdout",
     "output_type": "stream",
     "text": [
      "tuple elements :  ('maths', 'che', 'phy', 'bio')\n"
     ]
    }
   ],
   "source": [
    "list1= ['maths', 'che', 'phy', 'bio']\n",
    "tuple1=tuple(list1)\n",
    "print (\"tuple elements : \", tuple1)"
   ]
  }
 ],
 "metadata": {
  "kernelspec": {
   "display_name": "Python 3",
   "language": "python",
   "name": "python3"
  },
  "language_info": {
   "codemirror_mode": {
    "name": "ipython",
    "version": 3
   },
   "file_extension": ".py",
   "mimetype": "text/x-python",
   "name": "python",
   "nbconvert_exporter": "python",
   "pygments_lexer": "ipython3",
   "version": "3.9.2"
  }
 },
 "nbformat": 4,
 "nbformat_minor": 5
}
